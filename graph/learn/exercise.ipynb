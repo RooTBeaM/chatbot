{
 "cells": [
  {
   "cell_type": "code",
   "execution_count": 1,
   "metadata": {},
   "outputs": [],
   "source": [
    "# libraries\n",
    "from dotenv import load_dotenv\n",
    "\n",
    "# load environment variables from .env file\n",
    "_ = load_dotenv(\"../../.env\")"
   ]
  },
  {
   "cell_type": "code",
   "execution_count": 2,
   "metadata": {},
   "outputs": [],
   "source": [
    "from langgraph.graph import StateGraph, END\n",
    "from typing import TypedDict, Annotated\n",
    "import operator\n",
    "from langgraph.checkpoint.sqlite import SqliteSaver"
   ]
  },
  {
   "cell_type": "code",
   "execution_count": 3,
   "metadata": {},
   "outputs": [],
   "source": [
    "class AgentState(TypedDict):\n",
    "    lnode: str\n",
    "    scratch: str\n",
    "    count: Annotated[int, operator.add]"
   ]
  },
  {
   "cell_type": "code",
   "execution_count": 4,
   "metadata": {},
   "outputs": [],
   "source": [
    "def node1(state: AgentState):\n",
    "    print(f\"node1, count:{state['count']}\")\n",
    "    return {\n",
    "        \"lnode\": \"node_1\",\n",
    "        \"count\": 1,\n",
    "    }\n",
    "\n",
    "\n",
    "def node2(state: AgentState):\n",
    "    print(f\"node2, count:{state['count']}\")\n",
    "    return {\n",
    "        \"lnode\": \"node_2\",\n",
    "        \"count\": 1,\n",
    "    }\n",
    "\n",
    "\n",
    "def should_continue(state):\n",
    "    return state[\"count\"] < 3\n",
    "\n",
    "builder = StateGraph(AgentState)\n",
    "builder.add_node(\"Node1\", node1)\n",
    "builder.add_node(\"Node2\", node2)\n",
    "\n",
    "builder.add_edge(\"Node1\", \"Node2\")\n",
    "builder.add_conditional_edges(\"Node2\", should_continue, {True: \"Node1\", False: END})\n",
    "builder.set_entry_point(\"Node1\")"
   ]
  },
  {
   "cell_type": "code",
   "execution_count": 5,
   "metadata": {},
   "outputs": [],
   "source": [
    "with SqliteSaver.from_conn_string(\":memory:\") as checkpointer:\n",
    "    graph = builder.compile(checkpointer=checkpointer)"
   ]
  },
  {
   "cell_type": "code",
   "execution_count": 6,
   "metadata": {},
   "outputs": [
    {
     "name": "stdout",
     "output_type": "stream",
     "text": [
      "node1, count:0\n",
      "node2, count:1\n",
      "node1, count:2\n",
      "node2, count:3\n"
     ]
    },
    {
     "data": {
      "text/plain": [
       "{'lnode': 'node_2', 'scratch': 'hi', 'count': 4}"
      ]
     },
     "execution_count": 6,
     "metadata": {},
     "output_type": "execute_result"
    }
   ],
   "source": [
    "thread = {\"configurable\": {\"thread_id\": str(1)}}\n",
    "graph.invoke({\"count\": 0, \"scratch\": \"hi\"}, thread)"
   ]
  },
  {
   "cell_type": "code",
   "execution_count": 7,
   "metadata": {},
   "outputs": [
    {
     "data": {
      "text/plain": [
       "StateSnapshot(values={'lnode': 'node_2', 'scratch': 'hi', 'count': 4}, next=(), config={'configurable': {'thread_id': '1', 'checkpoint_ns': '', 'checkpoint_id': '1efed405-e407-6ab6-8004-1d2130098ddb'}}, metadata={'source': 'loop', 'writes': {'Node2': {'lnode': 'node_2', 'count': 1}}, 'step': 4}, created_at='2025-02-17T15:03:38.674859+00:00', parent_config={'configurable': {'thread_id': '1', 'checkpoint_ns': '', 'checkpoint_id': '1efed405-e405-63d7-8003-fab8ccc553c9'}})"
      ]
     },
     "execution_count": 7,
     "metadata": {},
     "output_type": "execute_result"
    }
   ],
   "source": [
    "graph.get_state(thread)"
   ]
  },
  {
   "cell_type": "code",
   "execution_count": 8,
   "metadata": {},
   "outputs": [
    {
     "name": "stdout",
     "output_type": "stream",
     "text": [
      "StateSnapshot(values={'lnode': 'node_2', 'scratch': 'hi', 'count': 4}, next=(), config={'configurable': {'thread_id': '1', 'checkpoint_ns': '', 'checkpoint_id': '1efed405-e407-6ab6-8004-1d2130098ddb'}}, metadata={'source': 'loop', 'writes': {'Node2': {'lnode': 'node_2', 'count': 1}}, 'step': 4}, created_at='2025-02-17T15:03:38.674859+00:00', parent_config={'configurable': {'thread_id': '1', 'checkpoint_ns': '', 'checkpoint_id': '1efed405-e405-63d7-8003-fab8ccc553c9'}}) \n",
      "\n",
      "StateSnapshot(values={'lnode': 'node_1', 'scratch': 'hi', 'count': 3}, next=('Node2',), config={'configurable': {'thread_id': '1', 'checkpoint_ns': '', 'checkpoint_id': '1efed405-e405-63d7-8003-fab8ccc553c9'}}, metadata={'source': 'loop', 'writes': {'Node1': {'lnode': 'node_1', 'count': 1}}, 'step': 3}, created_at='2025-02-17T15:03:38.673864+00:00', parent_config={'configurable': {'thread_id': '1', 'checkpoint_ns': '', 'checkpoint_id': '1efed405-e400-6596-8002-a0e8776c6c6f'}}) \n",
      "\n",
      "StateSnapshot(values={'lnode': 'node_2', 'scratch': 'hi', 'count': 2}, next=('Node1',), config={'configurable': {'thread_id': '1', 'checkpoint_ns': '', 'checkpoint_id': '1efed405-e400-6596-8002-a0e8776c6c6f'}}, metadata={'source': 'loop', 'writes': {'Node2': {'lnode': 'node_2', 'count': 1}}, 'step': 2}, created_at='2025-02-17T15:03:38.671861+00:00', parent_config={'configurable': {'thread_id': '1', 'checkpoint_ns': '', 'checkpoint_id': '1efed405-e3f8-6191-8001-064c5ef0b8b6'}}) \n",
      "\n",
      "StateSnapshot(values={'lnode': 'node_1', 'scratch': 'hi', 'count': 1}, next=('Node2',), config={'configurable': {'thread_id': '1', 'checkpoint_ns': '', 'checkpoint_id': '1efed405-e3f8-6191-8001-064c5ef0b8b6'}}, metadata={'source': 'loop', 'writes': {'Node1': {'lnode': 'node_1', 'count': 1}}, 'step': 1}, created_at='2025-02-17T15:03:38.668481+00:00', parent_config={'configurable': {'thread_id': '1', 'checkpoint_ns': '', 'checkpoint_id': '1efed405-e3e6-67f2-8000-92054a79a229'}}) \n",
      "\n",
      "StateSnapshot(values={'scratch': 'hi', 'count': 0}, next=('Node1',), config={'configurable': {'thread_id': '1', 'checkpoint_ns': '', 'checkpoint_id': '1efed405-e3e6-67f2-8000-92054a79a229'}}, metadata={'source': 'loop', 'writes': None, 'step': 0}, created_at='2025-02-17T15:03:38.661272+00:00', parent_config={'configurable': {'thread_id': '1', 'checkpoint_ns': '', 'checkpoint_id': '1efed405-e3e1-69b3-bfff-f408cc1bff65'}}) \n",
      "\n",
      "StateSnapshot(values={'count': 0}, next=('__start__',), config={'configurable': {'thread_id': '1', 'checkpoint_ns': '', 'checkpoint_id': '1efed405-e3e1-69b3-bfff-f408cc1bff65'}}, metadata={'source': 'input', 'writes': {'count': 0, 'scratch': 'hi'}, 'step': -1}, created_at='2025-02-17T15:03:38.659269+00:00', parent_config=None) \n",
      "\n"
     ]
    }
   ],
   "source": [
    "for state in graph.get_state_history(thread):\n",
    "    print(state, \"\\n\")"
   ]
  },
  {
   "cell_type": "code",
   "execution_count": 15,
   "metadata": {},
   "outputs": [
    {
     "name": "stdout",
     "output_type": "stream",
     "text": [
      "{'configurable': {'thread_id': '1', 'checkpoint_ns': '', 'checkpoint_id': '1efed405-e407-6ab6-8004-1d2130098ddb'}} 4\n",
      "{'configurable': {'thread_id': '1', 'checkpoint_ns': '', 'checkpoint_id': '1efed405-e405-63d7-8003-fab8ccc553c9'}} 3\n",
      "{'configurable': {'thread_id': '1', 'checkpoint_ns': '', 'checkpoint_id': '1efed405-e400-6596-8002-a0e8776c6c6f'}} 2\n",
      "{'configurable': {'thread_id': '1', 'checkpoint_ns': '', 'checkpoint_id': '1efed405-e3f8-6191-8001-064c5ef0b8b6'}} 1\n",
      "{'configurable': {'thread_id': '1', 'checkpoint_ns': '', 'checkpoint_id': '1efed405-e3e6-67f2-8000-92054a79a229'}} 0\n",
      "{'configurable': {'thread_id': '1', 'checkpoint_ns': '', 'checkpoint_id': '1efed405-e3e1-69b3-bfff-f408cc1bff65'}} 0\n"
     ]
    }
   ],
   "source": [
    "states = []\n",
    "for state in graph.get_state_history(thread):\n",
    "    states.append(state.config)\n",
    "    print(state.config, state.values[\"count\"])"
   ]
  },
  {
   "cell_type": "code",
   "execution_count": 14,
   "metadata": {},
   "outputs": [
    {
     "data": {
      "text/plain": [
       "{'configurable': {'thread_id': '1',\n",
       "  'checkpoint_ns': '',\n",
       "  'checkpoint_id': '1efed405-e3f8-6191-8001-064c5ef0b8b6'}}"
      ]
     },
     "execution_count": 14,
     "metadata": {},
     "output_type": "execute_result"
    }
   ],
   "source": [
    "states[-3]"
   ]
  },
  {
   "cell_type": "code",
   "execution_count": 13,
   "metadata": {},
   "outputs": [
    {
     "data": {
      "text/plain": [
       "StateSnapshot(values={'lnode': 'node_1', 'scratch': 'hi', 'count': 1}, next=('Node2',), config={'configurable': {'thread_id': '1', 'checkpoint_ns': '', 'checkpoint_id': '1efed3fd-da40-6813-8001-6dccd3696c7c'}}, metadata={'source': 'loop', 'writes': {'Node1': {'lnode': 'node_1', 'count': 1}}, 'step': 1}, created_at='2025-02-17T15:00:02.901198+00:00', parent_config={'configurable': {'thread_id': '1', 'checkpoint_ns': '', 'checkpoint_id': '1efed3fd-da25-6263-8000-0d37aefc82e8'}})"
      ]
     },
     "execution_count": 13,
     "metadata": {},
     "output_type": "execute_result"
    }
   ],
   "source": [
    "graph.get_state(states[-3])"
   ]
  },
  {
   "cell_type": "code",
   "execution_count": 16,
   "metadata": {},
   "outputs": [
    {
     "name": "stdout",
     "output_type": "stream",
     "text": [
      "node1, count:2\n",
      "node2, count:3\n"
     ]
    },
    {
     "data": {
      "text/plain": [
       "{'lnode': 'node_2', 'scratch': 'hi', 'count': 4}"
      ]
     },
     "execution_count": 16,
     "metadata": {},
     "output_type": "execute_result"
    }
   ],
   "source": [
    "graph.invoke(None, states[-3])"
   ]
  },
  {
   "cell_type": "code",
   "execution_count": 17,
   "metadata": {},
   "outputs": [
    {
     "name": "stdout",
     "output_type": "stream",
     "text": [
      "{'configurable': {'thread_id': '1', 'checkpoint_ns': '', 'checkpoint_id': '1efed40b-f1b0-633f-8004-60bab848b4ab'}} 4\n",
      "{'configurable': {'thread_id': '1', 'checkpoint_ns': '', 'checkpoint_id': '1efed40b-f1ab-64d7-8003-2e3f43667eba'}} 3\n",
      "{'configurable': {'thread_id': '1', 'checkpoint_ns': '', 'checkpoint_id': '1efed40b-f1a5-69ef-8002-1b0d09d83328'}} 2\n",
      "{'configurable': {'thread_id': '1', 'checkpoint_ns': '', 'checkpoint_id': '1efed405-e407-6ab6-8004-1d2130098ddb'}} 4\n",
      "{'configurable': {'thread_id': '1', 'checkpoint_ns': '', 'checkpoint_id': '1efed405-e405-63d7-8003-fab8ccc553c9'}} 3\n",
      "{'configurable': {'thread_id': '1', 'checkpoint_ns': '', 'checkpoint_id': '1efed405-e400-6596-8002-a0e8776c6c6f'}} 2\n",
      "{'configurable': {'thread_id': '1', 'checkpoint_ns': '', 'checkpoint_id': '1efed405-e3f8-6191-8001-064c5ef0b8b6'}} 1\n",
      "{'configurable': {'thread_id': '1', 'checkpoint_ns': '', 'checkpoint_id': '1efed405-e3e6-67f2-8000-92054a79a229'}} 0\n",
      "{'configurable': {'thread_id': '1', 'checkpoint_ns': '', 'checkpoint_id': '1efed405-e3e1-69b3-bfff-f408cc1bff65'}} 0\n"
     ]
    }
   ],
   "source": [
    "thread = {\"configurable\": {\"thread_id\": str(1)}}\n",
    "for state in graph.get_state_history(thread):\n",
    "    print(state.config, state.values[\"count\"])"
   ]
  },
  {
   "cell_type": "code",
   "execution_count": 18,
   "metadata": {},
   "outputs": [
    {
     "name": "stdout",
     "output_type": "stream",
     "text": [
      "StateSnapshot(values={'lnode': 'node_2', 'scratch': 'hi', 'count': 4}, next=(), config={'configurable': {'thread_id': '1', 'checkpoint_ns': '', 'checkpoint_id': '1efed40b-f1b0-633f-8004-60bab848b4ab'}}, metadata={'source': 'loop', 'writes': {'Node2': {'lnode': 'node_2', 'count': 1}}, 'step': 4}, created_at='2025-02-17T15:06:21.168313+00:00', parent_config={'configurable': {'thread_id': '1', 'checkpoint_ns': '', 'checkpoint_id': '1efed40b-f1ab-64d7-8003-2e3f43667eba'}}) \n",
      "\n",
      "StateSnapshot(values={'lnode': 'node_1', 'scratch': 'hi', 'count': 3}, next=('Node2',), config={'configurable': {'thread_id': '1', 'checkpoint_ns': '', 'checkpoint_id': '1efed40b-f1ab-64d7-8003-2e3f43667eba'}}, metadata={'source': 'loop', 'writes': {'Node1': {'lnode': 'node_1', 'count': 1}}, 'step': 3}, created_at='2025-02-17T15:06:21.166306+00:00', parent_config={'configurable': {'thread_id': '1', 'checkpoint_ns': '', 'checkpoint_id': '1efed40b-f1a5-69ef-8002-1b0d09d83328'}}) \n",
      "\n",
      "StateSnapshot(values={'lnode': 'node_2', 'scratch': 'hi', 'count': 2}, next=('Node1',), config={'configurable': {'thread_id': '1', 'checkpoint_ns': '', 'checkpoint_id': '1efed40b-f1a5-69ef-8002-1b0d09d83328'}}, metadata={'source': 'loop', 'writes': {'Node2': {'lnode': 'node_2', 'count': 1}}, 'step': 2}, created_at='2025-02-17T15:06:21.163979+00:00', parent_config={'configurable': {'thread_id': '1', 'checkpoint_ns': '', 'checkpoint_id': '1efed405-e3f8-6191-8001-064c5ef0b8b6'}}) \n",
      "\n",
      "StateSnapshot(values={'lnode': 'node_2', 'scratch': 'hi', 'count': 4}, next=(), config={'configurable': {'thread_id': '1', 'checkpoint_ns': '', 'checkpoint_id': '1efed405-e407-6ab6-8004-1d2130098ddb'}}, metadata={'source': 'loop', 'writes': {'Node2': {'lnode': 'node_2', 'count': 1}}, 'step': 4}, created_at='2025-02-17T15:03:38.674859+00:00', parent_config={'configurable': {'thread_id': '1', 'checkpoint_ns': '', 'checkpoint_id': '1efed405-e405-63d7-8003-fab8ccc553c9'}}) \n",
      "\n",
      "StateSnapshot(values={'lnode': 'node_1', 'scratch': 'hi', 'count': 3}, next=('Node2',), config={'configurable': {'thread_id': '1', 'checkpoint_ns': '', 'checkpoint_id': '1efed405-e405-63d7-8003-fab8ccc553c9'}}, metadata={'source': 'loop', 'writes': {'Node1': {'lnode': 'node_1', 'count': 1}}, 'step': 3}, created_at='2025-02-17T15:03:38.673864+00:00', parent_config={'configurable': {'thread_id': '1', 'checkpoint_ns': '', 'checkpoint_id': '1efed405-e400-6596-8002-a0e8776c6c6f'}}) \n",
      "\n",
      "StateSnapshot(values={'lnode': 'node_2', 'scratch': 'hi', 'count': 2}, next=('Node1',), config={'configurable': {'thread_id': '1', 'checkpoint_ns': '', 'checkpoint_id': '1efed405-e400-6596-8002-a0e8776c6c6f'}}, metadata={'source': 'loop', 'writes': {'Node2': {'lnode': 'node_2', 'count': 1}}, 'step': 2}, created_at='2025-02-17T15:03:38.671861+00:00', parent_config={'configurable': {'thread_id': '1', 'checkpoint_ns': '', 'checkpoint_id': '1efed405-e3f8-6191-8001-064c5ef0b8b6'}}) \n",
      "\n",
      "StateSnapshot(values={'lnode': 'node_1', 'scratch': 'hi', 'count': 1}, next=('Node2',), config={'configurable': {'thread_id': '1', 'checkpoint_ns': '', 'checkpoint_id': '1efed405-e3f8-6191-8001-064c5ef0b8b6'}}, metadata={'source': 'loop', 'writes': {'Node1': {'lnode': 'node_1', 'count': 1}}, 'step': 1}, created_at='2025-02-17T15:03:38.668481+00:00', parent_config={'configurable': {'thread_id': '1', 'checkpoint_ns': '', 'checkpoint_id': '1efed405-e3e6-67f2-8000-92054a79a229'}}) \n",
      "\n",
      "StateSnapshot(values={'scratch': 'hi', 'count': 0}, next=('Node1',), config={'configurable': {'thread_id': '1', 'checkpoint_ns': '', 'checkpoint_id': '1efed405-e3e6-67f2-8000-92054a79a229'}}, metadata={'source': 'loop', 'writes': None, 'step': 0}, created_at='2025-02-17T15:03:38.661272+00:00', parent_config={'configurable': {'thread_id': '1', 'checkpoint_ns': '', 'checkpoint_id': '1efed405-e3e1-69b3-bfff-f408cc1bff65'}}) \n",
      "\n",
      "StateSnapshot(values={'count': 0}, next=('__start__',), config={'configurable': {'thread_id': '1', 'checkpoint_ns': '', 'checkpoint_id': '1efed405-e3e1-69b3-bfff-f408cc1bff65'}}, metadata={'source': 'input', 'writes': {'count': 0, 'scratch': 'hi'}, 'step': -1}, created_at='2025-02-17T15:03:38.659269+00:00', parent_config=None) \n",
      "\n"
     ]
    }
   ],
   "source": [
    "thread = {\"configurable\": {\"thread_id\": str(1)}}\n",
    "for state in graph.get_state_history(thread):\n",
    "    print(state, \"\\n\")"
   ]
  },
  {
   "cell_type": "code",
   "execution_count": 19,
   "metadata": {},
   "outputs": [
    {
     "name": "stdout",
     "output_type": "stream",
     "text": [
      "node1, count:0\n",
      "node2, count:1\n",
      "node1, count:2\n",
      "node2, count:3\n"
     ]
    },
    {
     "data": {
      "text/plain": [
       "{'lnode': 'node_2', 'scratch': 'hi', 'count': 4}"
      ]
     },
     "execution_count": 19,
     "metadata": {},
     "output_type": "execute_result"
    }
   ],
   "source": [
    "thread2 = {\"configurable\": {\"thread_id\": str(2)}}\n",
    "graph.invoke({\"count\": 0, \"scratch\": \"hi\"}, thread2)"
   ]
  },
  {
   "cell_type": "code",
   "execution_count": 20,
   "metadata": {},
   "outputs": [
    {
     "name": "stdout",
     "output_type": "stream",
     "text": [
      "{'configurable': {'thread_id': '2', 'checkpoint_ns': '', 'checkpoint_id': '1efed40d-2d38-6a33-8004-429cd6bf5291'}} 4\n",
      "{'configurable': {'thread_id': '2', 'checkpoint_ns': '', 'checkpoint_id': '1efed40d-2d33-6b46-8003-d681c3e57684'}} 3\n",
      "{'configurable': {'thread_id': '2', 'checkpoint_ns': '', 'checkpoint_id': '1efed40d-2d2f-6fd7-8002-e90253e8e37e'}} 2\n",
      "{'configurable': {'thread_id': '2', 'checkpoint_ns': '', 'checkpoint_id': '1efed40d-2d28-6ba8-8001-e2e72e6fa86d'}} 1\n",
      "{'configurable': {'thread_id': '2', 'checkpoint_ns': '', 'checkpoint_id': '1efed40d-2d24-6c11-8000-de67331c4427'}} 0\n",
      "{'configurable': {'thread_id': '2', 'checkpoint_ns': '', 'checkpoint_id': '1efed40d-2d1b-63ab-bfff-4a12c48c8aa7'}} 0\n"
     ]
    }
   ],
   "source": [
    "states2 = []\n",
    "for state in graph.get_state_history(thread2):\n",
    "    states2.append(state.config)\n",
    "    print(state.config, state.values[\"count\"])"
   ]
  },
  {
   "cell_type": "code",
   "execution_count": 21,
   "metadata": {},
   "outputs": [
    {
     "data": {
      "text/plain": [
       "StateSnapshot(values={'lnode': 'node_1', 'scratch': 'hi', 'count': 1}, next=('Node2',), config={'configurable': {'thread_id': '2', 'checkpoint_ns': '', 'checkpoint_id': '1efed40d-2d28-6ba8-8001-e2e72e6fa86d'}}, metadata={'source': 'loop', 'writes': {'Node1': {'lnode': 'node_1', 'count': 1}}, 'step': 1}, created_at='2025-02-17T15:06:54.247824+00:00', parent_config={'configurable': {'thread_id': '2', 'checkpoint_ns': '', 'checkpoint_id': '1efed40d-2d24-6c11-8000-de67331c4427'}})"
      ]
     },
     "execution_count": 21,
     "metadata": {},
     "output_type": "execute_result"
    }
   ],
   "source": [
    "save_state = graph.get_state(states2[-3])\n",
    "save_state"
   ]
  },
  {
   "cell_type": "code",
   "execution_count": 25,
   "metadata": {},
   "outputs": [
    {
     "data": {
      "text/plain": [
       "StateSnapshot(values={'lnode': 'node_1', 'scratch': '***----***', 'count': -3}, next=('Node2',), config={'configurable': {'thread_id': '2', 'checkpoint_ns': '', 'checkpoint_id': '1efed40d-2d28-6ba8-8001-e2e72e6fa86d'}}, metadata={'source': 'loop', 'writes': {'Node1': {'lnode': 'node_1', 'count': 1}}, 'step': 1}, created_at='2025-02-17T15:06:54.247824+00:00', parent_config={'configurable': {'thread_id': '2', 'checkpoint_ns': '', 'checkpoint_id': '1efed40d-2d24-6c11-8000-de67331c4427'}})"
      ]
     },
     "execution_count": 25,
     "metadata": {},
     "output_type": "execute_result"
    }
   ],
   "source": [
    "save_state.values[\"count\"] = -3\n",
    "save_state.values[\"scratch\"] = \"***----***\"\n",
    "save_state"
   ]
  },
  {
   "cell_type": "code",
   "execution_count": 26,
   "metadata": {},
   "outputs": [
    {
     "data": {
      "text/plain": [
       "{'configurable': {'thread_id': '2',\n",
       "  'checkpoint_ns': '',\n",
       "  'checkpoint_id': '1efed410-b6f4-6917-8005-f15e967b2bec'}}"
      ]
     },
     "execution_count": 26,
     "metadata": {},
     "output_type": "execute_result"
    }
   ],
   "source": [
    "graph.update_state(thread2, save_state.values)"
   ]
  },
  {
   "cell_type": "code",
   "execution_count": 28,
   "metadata": {},
   "outputs": [
    {
     "name": "stdout",
     "output_type": "stream",
     "text": [
      "StateSnapshot(values={'lnode': 'node_1', 'scratch': '***----***', 'count': 1}, next=('Node1',), config={'configurable': {'thread_id': '2', 'checkpoint_ns': '', 'checkpoint_id': '1efed410-b6f4-6917-8005-f15e967b2bec'}}, metadata={'source': 'update', 'step': 5, 'writes': {'Node2': {'lnode': 'node_1', 'scratch': '***----***', 'count': -3}}}, created_at='2025-02-17T15:08:29.227445+00:00', parent_config={'configurable': {'thread_id': '2', 'checkpoint_ns': '', 'checkpoint_id': '1efed40d-2d38-6a33-8004-429cd6bf5291'}}) \n",
      "\n",
      "StateSnapshot(values={'lnode': 'node_2', 'scratch': 'hi', 'count': 4}, next=(), config={'configurable': {'thread_id': '2', 'checkpoint_ns': '', 'checkpoint_id': '1efed40d-2d38-6a33-8004-429cd6bf5291'}}, metadata={'source': 'loop', 'writes': {'Node2': {'lnode': 'node_2', 'count': 1}}, 'step': 4}, created_at='2025-02-17T15:06:54.254341+00:00', parent_config={'configurable': {'thread_id': '2', 'checkpoint_ns': '', 'checkpoint_id': '1efed40d-2d33-6b46-8003-d681c3e57684'}}) \n",
      "\n",
      "StateSnapshot(values={'lnode': 'node_1', 'scratch': 'hi', 'count': 3}, next=('Node2',), config={'configurable': {'thread_id': '2', 'checkpoint_ns': '', 'checkpoint_id': '1efed40d-2d33-6b46-8003-d681c3e57684'}}, metadata={'source': 'loop', 'writes': {'Node1': {'lnode': 'node_1', 'count': 1}}, 'step': 3}, created_at='2025-02-17T15:06:54.252320+00:00', parent_config={'configurable': {'thread_id': '2', 'checkpoint_ns': '', 'checkpoint_id': '1efed40d-2d2f-6fd7-8002-e90253e8e37e'}}) \n",
      "\n",
      "StateSnapshot(values={'lnode': 'node_2', 'scratch': 'hi', 'count': 2}, next=('Node1',), config={'configurable': {'thread_id': '2', 'checkpoint_ns': '', 'checkpoint_id': '1efed40d-2d2f-6fd7-8002-e90253e8e37e'}}, metadata={'source': 'loop', 'writes': {'Node2': {'lnode': 'node_2', 'count': 1}}, 'step': 2}, created_at='2025-02-17T15:06:54.250799+00:00', parent_config={'configurable': {'thread_id': '2', 'checkpoint_ns': '', 'checkpoint_id': '1efed40d-2d28-6ba8-8001-e2e72e6fa86d'}}) \n",
      "\n",
      "StateSnapshot(values={'lnode': 'node_1', 'scratch': 'hi', 'count': 1}, next=('Node2',), config={'configurable': {'thread_id': '2', 'checkpoint_ns': '', 'checkpoint_id': '1efed40d-2d28-6ba8-8001-e2e72e6fa86d'}}, metadata={'source': 'loop', 'writes': {'Node1': {'lnode': 'node_1', 'count': 1}}, 'step': 1}, created_at='2025-02-17T15:06:54.247824+00:00', parent_config={'configurable': {'thread_id': '2', 'checkpoint_ns': '', 'checkpoint_id': '1efed40d-2d24-6c11-8000-de67331c4427'}}) \n",
      "\n",
      "StateSnapshot(values={'scratch': 'hi', 'count': 0}, next=('Node1',), config={'configurable': {'thread_id': '2', 'checkpoint_ns': '', 'checkpoint_id': '1efed40d-2d24-6c11-8000-de67331c4427'}}, metadata={'source': 'loop', 'writes': None, 'step': 0}, created_at='2025-02-17T15:06:54.246196+00:00', parent_config={'configurable': {'thread_id': '2', 'checkpoint_ns': '', 'checkpoint_id': '1efed40d-2d1b-63ab-bfff-4a12c48c8aa7'}}) \n",
      "\n",
      "StateSnapshot(values={'count': 0}, next=('__start__',), config={'configurable': {'thread_id': '2', 'checkpoint_ns': '', 'checkpoint_id': '1efed40d-2d1b-63ab-bfff-4a12c48c8aa7'}}, metadata={'source': 'input', 'writes': {'count': 0, 'scratch': 'hi'}, 'step': -1}, created_at='2025-02-17T15:06:54.242295+00:00', parent_config=None) \n",
      "\n"
     ]
    }
   ],
   "source": [
    "thread = {\"configurable\": {\"thread_id\": str(2)}}\n",
    "for state in graph.get_state_history(thread):\n",
    "    print(state, \"\\n\")"
   ]
  },
  {
   "cell_type": "code",
   "execution_count": 31,
   "metadata": {},
   "outputs": [
    {
     "data": {
      "text/plain": [
       "{'configurable': {'thread_id': '2',\n",
       "  'checkpoint_ns': '',\n",
       "  'checkpoint_id': '1efed417-ba68-6038-8006-cd1d754a40e1'}}"
      ]
     },
     "execution_count": 31,
     "metadata": {},
     "output_type": "execute_result"
    }
   ],
   "source": [
    "graph.update_state(thread2, save_state.values, as_node=\"Node1\")"
   ]
  },
  {
   "cell_type": "code",
   "execution_count": 32,
   "metadata": {},
   "outputs": [
    {
     "name": "stdout",
     "output_type": "stream",
     "text": [
      "StateSnapshot(values={'lnode': 'node_1', 'scratch': '***----***', 'count': -2}, next=('Node2',), config={'configurable': {'thread_id': '2', 'checkpoint_ns': '', 'checkpoint_id': '1efed417-ba68-6038-8006-cd1d754a40e1'}}, metadata={'source': 'update', 'step': 6, 'writes': {'Node1': {'lnode': 'node_1', 'scratch': '***----***', 'count': -3}}}, created_at='2025-02-17T15:11:37.494124+00:00', parent_config={'configurable': {'thread_id': '2', 'checkpoint_ns': '', 'checkpoint_id': '1efed410-b6f4-6917-8005-f15e967b2bec'}}) \n",
      "\n",
      "StateSnapshot(values={'lnode': 'node_1', 'scratch': '***----***', 'count': 1}, next=('Node1',), config={'configurable': {'thread_id': '2', 'checkpoint_ns': '', 'checkpoint_id': '1efed410-b6f4-6917-8005-f15e967b2bec'}}, metadata={'source': 'update', 'step': 5, 'writes': {'Node2': {'lnode': 'node_1', 'scratch': '***----***', 'count': -3}}}, created_at='2025-02-17T15:08:29.227445+00:00', parent_config={'configurable': {'thread_id': '2', 'checkpoint_ns': '', 'checkpoint_id': '1efed40d-2d38-6a33-8004-429cd6bf5291'}}) \n",
      "\n",
      "StateSnapshot(values={'lnode': 'node_2', 'scratch': 'hi', 'count': 4}, next=(), config={'configurable': {'thread_id': '2', 'checkpoint_ns': '', 'checkpoint_id': '1efed40d-2d38-6a33-8004-429cd6bf5291'}}, metadata={'source': 'loop', 'writes': {'Node2': {'lnode': 'node_2', 'count': 1}}, 'step': 4}, created_at='2025-02-17T15:06:54.254341+00:00', parent_config={'configurable': {'thread_id': '2', 'checkpoint_ns': '', 'checkpoint_id': '1efed40d-2d33-6b46-8003-d681c3e57684'}}) \n",
      "\n"
     ]
    }
   ],
   "source": [
    "for i, state in enumerate(graph.get_state_history(thread2)):\n",
    "    if i >= 3:  # print latest 3\n",
    "        break\n",
    "    print(state, \"\\n\")"
   ]
  },
  {
   "cell_type": "code",
   "execution_count": 33,
   "metadata": {},
   "outputs": [
    {
     "name": "stdout",
     "output_type": "stream",
     "text": [
      "node2, count:-2\n",
      "node1, count:-1\n",
      "node2, count:0\n",
      "node1, count:1\n",
      "node2, count:2\n"
     ]
    },
    {
     "data": {
      "text/plain": [
       "{'lnode': 'node_2', 'scratch': '***----***', 'count': 3}"
      ]
     },
     "execution_count": 33,
     "metadata": {},
     "output_type": "execute_result"
    }
   ],
   "source": [
    "graph.invoke(None, thread2)"
   ]
  },
  {
   "cell_type": "code",
   "execution_count": 34,
   "metadata": {},
   "outputs": [
    {
     "name": "stdout",
     "output_type": "stream",
     "text": [
      "StateSnapshot(values={'lnode': 'node_2', 'scratch': '***----***', 'count': 3}, next=(), config={'configurable': {'thread_id': '2', 'checkpoint_ns': '', 'checkpoint_id': '1efed418-90bb-62c4-800b-b30c7015d69e'}}, metadata={'source': 'loop', 'writes': {'Node2': {'lnode': 'node_2', 'count': 1}}, 'step': 11}, created_at='2025-02-17T15:11:59.967712+00:00', parent_config={'configurable': {'thread_id': '2', 'checkpoint_ns': '', 'checkpoint_id': '1efed418-90b8-6bb5-800a-5e6ac213213c'}}) \n",
      "\n",
      "StateSnapshot(values={'lnode': 'node_1', 'scratch': '***----***', 'count': 2}, next=('Node2',), config={'configurable': {'thread_id': '2', 'checkpoint_ns': '', 'checkpoint_id': '1efed418-90b8-6bb5-800a-5e6ac213213c'}}, metadata={'source': 'loop', 'writes': {'Node1': {'lnode': 'node_1', 'count': 1}}, 'step': 10}, created_at='2025-02-17T15:11:59.966712+00:00', parent_config={'configurable': {'thread_id': '2', 'checkpoint_ns': '', 'checkpoint_id': '1efed418-90b3-6d58-8009-08a35291aed9'}}) \n",
      "\n",
      "StateSnapshot(values={'lnode': 'node_2', 'scratch': '***----***', 'count': 1}, next=('Node1',), config={'configurable': {'thread_id': '2', 'checkpoint_ns': '', 'checkpoint_id': '1efed418-90b3-6d58-8009-08a35291aed9'}}, metadata={'source': 'loop', 'writes': {'Node2': {'lnode': 'node_2', 'count': 1}}, 'step': 9}, created_at='2025-02-17T15:11:59.964706+00:00', parent_config={'configurable': {'thread_id': '2', 'checkpoint_ns': '', 'checkpoint_id': '1efed418-90ad-6a71-8008-432ea76d6386'}}) \n",
      "\n",
      "StateSnapshot(values={'lnode': 'node_1', 'scratch': '***----***', 'count': 0}, next=('Node2',), config={'configurable': {'thread_id': '2', 'checkpoint_ns': '', 'checkpoint_id': '1efed418-90ad-6a71-8008-432ea76d6386'}}, metadata={'source': 'loop', 'writes': {'Node1': {'lnode': 'node_1', 'count': 1}}, 'step': 8}, created_at='2025-02-17T15:11:59.962174+00:00', parent_config={'configurable': {'thread_id': '2', 'checkpoint_ns': '', 'checkpoint_id': '1efed418-90aa-651c-8007-b5f3e0217441'}}) \n",
      "\n",
      "StateSnapshot(values={'lnode': 'node_2', 'scratch': '***----***', 'count': -1}, next=('Node1',), config={'configurable': {'thread_id': '2', 'checkpoint_ns': '', 'checkpoint_id': '1efed418-90aa-651c-8007-b5f3e0217441'}}, metadata={'source': 'loop', 'writes': {'Node2': {'lnode': 'node_2', 'count': 1}}, 'step': 7}, created_at='2025-02-17T15:11:59.960809+00:00', parent_config={'configurable': {'thread_id': '2', 'checkpoint_ns': '', 'checkpoint_id': '1efed417-ba68-6038-8006-cd1d754a40e1'}}) \n",
      "\n",
      "StateSnapshot(values={'lnode': 'node_1', 'scratch': '***----***', 'count': -2}, next=('Node2',), config={'configurable': {'thread_id': '2', 'checkpoint_ns': '', 'checkpoint_id': '1efed417-ba68-6038-8006-cd1d754a40e1'}}, metadata={'source': 'update', 'step': 6, 'writes': {'Node1': {'lnode': 'node_1', 'scratch': '***----***', 'count': -3}}}, created_at='2025-02-17T15:11:37.494124+00:00', parent_config={'configurable': {'thread_id': '2', 'checkpoint_ns': '', 'checkpoint_id': '1efed410-b6f4-6917-8005-f15e967b2bec'}}) \n",
      "\n",
      "StateSnapshot(values={'lnode': 'node_1', 'scratch': '***----***', 'count': 1}, next=('Node1',), config={'configurable': {'thread_id': '2', 'checkpoint_ns': '', 'checkpoint_id': '1efed410-b6f4-6917-8005-f15e967b2bec'}}, metadata={'source': 'update', 'step': 5, 'writes': {'Node2': {'lnode': 'node_1', 'scratch': '***----***', 'count': -3}}}, created_at='2025-02-17T15:08:29.227445+00:00', parent_config={'configurable': {'thread_id': '2', 'checkpoint_ns': '', 'checkpoint_id': '1efed40d-2d38-6a33-8004-429cd6bf5291'}}) \n",
      "\n",
      "StateSnapshot(values={'lnode': 'node_2', 'scratch': 'hi', 'count': 4}, next=(), config={'configurable': {'thread_id': '2', 'checkpoint_ns': '', 'checkpoint_id': '1efed40d-2d38-6a33-8004-429cd6bf5291'}}, metadata={'source': 'loop', 'writes': {'Node2': {'lnode': 'node_2', 'count': 1}}, 'step': 4}, created_at='2025-02-17T15:06:54.254341+00:00', parent_config={'configurable': {'thread_id': '2', 'checkpoint_ns': '', 'checkpoint_id': '1efed40d-2d33-6b46-8003-d681c3e57684'}}) \n",
      "\n",
      "StateSnapshot(values={'lnode': 'node_1', 'scratch': 'hi', 'count': 3}, next=('Node2',), config={'configurable': {'thread_id': '2', 'checkpoint_ns': '', 'checkpoint_id': '1efed40d-2d33-6b46-8003-d681c3e57684'}}, metadata={'source': 'loop', 'writes': {'Node1': {'lnode': 'node_1', 'count': 1}}, 'step': 3}, created_at='2025-02-17T15:06:54.252320+00:00', parent_config={'configurable': {'thread_id': '2', 'checkpoint_ns': '', 'checkpoint_id': '1efed40d-2d2f-6fd7-8002-e90253e8e37e'}}) \n",
      "\n",
      "StateSnapshot(values={'lnode': 'node_2', 'scratch': 'hi', 'count': 2}, next=('Node1',), config={'configurable': {'thread_id': '2', 'checkpoint_ns': '', 'checkpoint_id': '1efed40d-2d2f-6fd7-8002-e90253e8e37e'}}, metadata={'source': 'loop', 'writes': {'Node2': {'lnode': 'node_2', 'count': 1}}, 'step': 2}, created_at='2025-02-17T15:06:54.250799+00:00', parent_config={'configurable': {'thread_id': '2', 'checkpoint_ns': '', 'checkpoint_id': '1efed40d-2d28-6ba8-8001-e2e72e6fa86d'}}) \n",
      "\n",
      "StateSnapshot(values={'lnode': 'node_1', 'scratch': 'hi', 'count': 1}, next=('Node2',), config={'configurable': {'thread_id': '2', 'checkpoint_ns': '', 'checkpoint_id': '1efed40d-2d28-6ba8-8001-e2e72e6fa86d'}}, metadata={'source': 'loop', 'writes': {'Node1': {'lnode': 'node_1', 'count': 1}}, 'step': 1}, created_at='2025-02-17T15:06:54.247824+00:00', parent_config={'configurable': {'thread_id': '2', 'checkpoint_ns': '', 'checkpoint_id': '1efed40d-2d24-6c11-8000-de67331c4427'}}) \n",
      "\n",
      "StateSnapshot(values={'scratch': 'hi', 'count': 0}, next=('Node1',), config={'configurable': {'thread_id': '2', 'checkpoint_ns': '', 'checkpoint_id': '1efed40d-2d24-6c11-8000-de67331c4427'}}, metadata={'source': 'loop', 'writes': None, 'step': 0}, created_at='2025-02-17T15:06:54.246196+00:00', parent_config={'configurable': {'thread_id': '2', 'checkpoint_ns': '', 'checkpoint_id': '1efed40d-2d1b-63ab-bfff-4a12c48c8aa7'}}) \n",
      "\n",
      "StateSnapshot(values={'count': 0}, next=('__start__',), config={'configurable': {'thread_id': '2', 'checkpoint_ns': '', 'checkpoint_id': '1efed40d-2d1b-63ab-bfff-4a12c48c8aa7'}}, metadata={'source': 'input', 'writes': {'count': 0, 'scratch': 'hi'}, 'step': -1}, created_at='2025-02-17T15:06:54.242295+00:00', parent_config=None) \n",
      "\n"
     ]
    }
   ],
   "source": [
    "for state in graph.get_state_history(thread2):\n",
    "    print(state, \"\\n\")"
   ]
  },
  {
   "cell_type": "code",
   "execution_count": null,
   "metadata": {},
   "outputs": [],
   "source": []
  }
 ],
 "metadata": {
  "kernelspec": {
   "display_name": "chat",
   "language": "python",
   "name": "python3"
  },
  "language_info": {
   "codemirror_mode": {
    "name": "ipython",
    "version": 3
   },
   "file_extension": ".py",
   "mimetype": "text/x-python",
   "name": "python",
   "nbconvert_exporter": "python",
   "pygments_lexer": "ipython3",
   "version": "3.12.8"
  }
 },
 "nbformat": 4,
 "nbformat_minor": 2
}
