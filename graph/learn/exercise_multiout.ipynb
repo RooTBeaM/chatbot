{
 "cells": [
  {
   "cell_type": "code",
   "execution_count": 2,
   "metadata": {},
   "outputs": [],
   "source": [
    "# libraries\n",
    "from dotenv import load_dotenv\n",
    "\n",
    "# load environment variables from .env file\n",
    "_ = load_dotenv(\"../../.env\")"
   ]
  },
  {
   "cell_type": "code",
   "execution_count": 31,
   "metadata": {},
   "outputs": [],
   "source": [
    "from langgraph.graph import StateGraph, END\n",
    "from typing import TypedDict, Annotated\n",
    "import operator\n",
    "from langgraph.checkpoint.sqlite import SqliteSaver\n",
    "import time\n"
   ]
  },
  {
   "cell_type": "code",
   "execution_count": 32,
   "metadata": {},
   "outputs": [],
   "source": [
    "class AgentState(TypedDict):\n",
    "    lnode: str\n",
    "    scratch: str\n",
    "    count: Annotated[int, operator.add]"
   ]
  },
  {
   "cell_type": "code",
   "execution_count": 33,
   "metadata": {},
   "outputs": [],
   "source": [
    "def node1(state: AgentState):\n",
    "    print(f\"node1, count:{state['count']}\")\n",
    "    time.sleep(1)\n",
    "    print(\"N1\")\n",
    "    return {\n",
    "        # \"lnode\": \"node_1\",\n",
    "        \"count\": 1,\n",
    "    }\n",
    "\n",
    "\n",
    "def node2(state: AgentState):\n",
    "    print(f\"node2, count:{state['count']}\")\n",
    "    time.sleep(2)\n",
    "    print(\"N2\")\n",
    "    return {\n",
    "        # \"lnode\": \"node_2\",\n",
    "        \"count\": 1,\n",
    "    }\n",
    "\n",
    "\n",
    "def node3(state: AgentState):\n",
    "    print(f\"node3, count:{state['count']}\")\n",
    "    for i in range(3):\n",
    "        time.sleep(1)\n",
    "        print(\"N3\",i)\n",
    "    return {\n",
    "        # \"lnode\": \"node_3\",\n",
    "        \"count\": 1,\n",
    "    }\n",
    "\n",
    "\n",
    "def node4(state: AgentState):\n",
    "    print(f\"node4, count:{state['count']}\")\n",
    "    for i in range(3):\n",
    "        time.sleep(1.5)\n",
    "        print(\"N4\",i)\n",
    "    return {\n",
    "        # \"lnode\": \"node_4\",\n",
    "        \"count\": 1,\n",
    "    }\n",
    "\n",
    "\n",
    "def node5(state: AgentState):\n",
    "    print(f\"node5, count:{state['count']}\")\n",
    "    for i in range(3):\n",
    "        time.sleep(2)\n",
    "        print(\"N5\",i)\n",
    "    return {\n",
    "        # \"lnode\": \"node_5\",\n",
    "        \"count\": 1,\n",
    "    }\n",
    "\n",
    "\n",
    "def node6(state: AgentState):\n",
    "    print(f\"node6, count:{state['count']}\")\n",
    "    for i in range(6):\n",
    "        time.sleep(1)\n",
    "        print(\"N6\",i)\n",
    "    return {\n",
    "        # \"lnode\": \"node_6\",\n",
    "        \"count\": 1,\n",
    "    }\n",
    "\n",
    "\n",
    "def should_continue(state):\n",
    "    return state[\"count\"] < 3\n",
    "\n",
    "builder = StateGraph(AgentState)\n",
    "builder.add_node(\"Node1\", node1)\n",
    "builder.add_node(\"Node2\", node2)\n",
    "builder.add_node(\"Node3\", node3)\n",
    "builder.add_node(\"Node4\", node4)\n",
    "builder.add_node(\"Node5\", node5)\n",
    "builder.add_node(\"Node6\", node6)\n",
    "\n",
    "builder.add_edge(\"Node1\", \"Node2\")\n",
    "builder.add_edge(\"Node2\", \"Node3\")\n",
    "builder.add_edge(\"Node2\", \"Node4\")\n",
    "builder.add_edge(\"Node2\", \"Node5\")\n",
    "builder.add_edge(\"Node3\", \"Node6\")\n",
    "builder.add_edge(\"Node4\", \"Node6\")\n",
    "builder.add_edge(\"Node5\", \"Node6\")\n",
    "builder.add_edge(\"Node6\", END)\n",
    "\n",
    "# builder.add_conditional_edges(\"Node2\", should_continue, {True: \"Node1\", False: END})\n",
    "builder.set_entry_point(\"Node1\")"
   ]
  },
  {
   "cell_type": "code",
   "execution_count": 34,
   "metadata": {},
   "outputs": [],
   "source": [
    "with SqliteSaver.from_conn_string(\":memory:\") as checkpointer:\n",
    "    graph = builder.compile(checkpointer=checkpointer)\n",
    "# graph = builder.compile()"
   ]
  },
  {
   "cell_type": "code",
   "execution_count": 35,
   "metadata": {},
   "outputs": [
    {
     "name": "stdout",
     "output_type": "stream",
     "text": [
      "node1, count:0\n",
      "N1\n",
      "node2, count:1\n",
      "N2\n",
      "node3, count:2\n",
      "node4, count:2\n",
      "node5, count:2\n",
      "N3 0\n",
      "N4 0\n",
      "N3 1\n",
      "N5 0\n",
      "N3 2\n",
      "N4 1\n",
      "N5 1\n",
      "N4 2\n",
      "N5 2\n",
      "node6, count:5\n",
      "N6 0\n",
      "N6 1\n",
      "N6 2\n",
      "N6 3\n",
      "N6 4\n",
      "N6 5\n"
     ]
    },
    {
     "data": {
      "text/plain": [
       "{'scratch': 'hi', 'count': 6}"
      ]
     },
     "execution_count": 35,
     "metadata": {},
     "output_type": "execute_result"
    }
   ],
   "source": [
    "thread = {\"configurable\": {\"thread_id\": str(1)}}\n",
    "graph.invoke({\"count\": 0, \"scratch\": \"hi\"}, thread)"
   ]
  },
  {
   "cell_type": "code",
   "execution_count": 36,
   "metadata": {},
   "outputs": [
    {
     "data": {
      "text/plain": [
       "StateSnapshot(values={'scratch': 'hi', 'count': 6}, next=(), config={'configurable': {'thread_id': '1', 'checkpoint_ns': '', 'checkpoint_id': '1eff2940-d3fb-67c6-8004-10871c623020'}}, metadata={'source': 'loop', 'writes': {'Node6': {'count': 1}}, 'step': 4}, created_at='2025-02-24T09:45:16.313594+00:00', parent_config={'configurable': {'thread_id': '1', 'checkpoint_ns': '', 'checkpoint_id': '1eff2940-9ab7-6319-8003-541b6828f99f'}})"
      ]
     },
     "execution_count": 36,
     "metadata": {},
     "output_type": "execute_result"
    }
   ],
   "source": [
    "graph.get_state(thread)"
   ]
  },
  {
   "cell_type": "code",
   "execution_count": 37,
   "metadata": {},
   "outputs": [
    {
     "name": "stdout",
     "output_type": "stream",
     "text": [
      "StateSnapshot(values={'scratch': 'hi', 'count': 6}, next=(), config={'configurable': {'thread_id': '1', 'checkpoint_ns': '', 'checkpoint_id': '1eff2940-d3fb-67c6-8004-10871c623020'}}, metadata={'source': 'loop', 'writes': {'Node6': {'count': 1}}, 'step': 4}, created_at='2025-02-24T09:45:16.313594+00:00', parent_config={'configurable': {'thread_id': '1', 'checkpoint_ns': '', 'checkpoint_id': '1eff2940-9ab7-6319-8003-541b6828f99f'}}) \n",
      "\n",
      "StateSnapshot(values={'scratch': 'hi', 'count': 5}, next=('Node6',), config={'configurable': {'thread_id': '1', 'checkpoint_ns': '', 'checkpoint_id': '1eff2940-9ab7-6319-8003-541b6828f99f'}}, metadata={'source': 'loop', 'writes': {'Node3': {'count': 1}, 'Node4': {'count': 1}, 'Node5': {'count': 1}}, 'step': 3}, created_at='2025-02-24T09:45:10.308738+00:00', parent_config={'configurable': {'thread_id': '1', 'checkpoint_ns': '', 'checkpoint_id': '1eff2940-6172-64b7-8002-a699ac76736e'}}) \n",
      "\n",
      "StateSnapshot(values={'scratch': 'hi', 'count': 2}, next=('Node3', 'Node4', 'Node5'), config={'configurable': {'thread_id': '1', 'checkpoint_ns': '', 'checkpoint_id': '1eff2940-6172-64b7-8002-a699ac76736e'}}, metadata={'source': 'loop', 'writes': {'Node2': {'count': 1}}, 'step': 2}, created_at='2025-02-24T09:45:04.303634+00:00', parent_config={'configurable': {'thread_id': '1', 'checkpoint_ns': '', 'checkpoint_id': '1eff2940-4e5a-68d1-8001-af1e449315d5'}}) \n",
      "\n",
      "StateSnapshot(values={'scratch': 'hi', 'count': 1}, next=('Node2',), config={'configurable': {'thread_id': '1', 'checkpoint_ns': '', 'checkpoint_id': '1eff2940-4e5a-68d1-8001-af1e449315d5'}}, metadata={'source': 'loop', 'writes': {'Node1': {'count': 1}}, 'step': 1}, created_at='2025-02-24T09:45:02.301614+00:00', parent_config={'configurable': {'thread_id': '1', 'checkpoint_ns': '', 'checkpoint_id': '1eff2940-44cb-64e1-8000-6b123fccf3d1'}}) \n",
      "\n",
      "StateSnapshot(values={'scratch': 'hi', 'count': 0}, next=('Node1',), config={'configurable': {'thread_id': '1', 'checkpoint_ns': '', 'checkpoint_id': '1eff2940-44cb-64e1-8000-6b123fccf3d1'}}, metadata={'source': 'loop', 'writes': None, 'step': 0}, created_at='2025-02-24T09:45:01.299222+00:00', parent_config={'configurable': {'thread_id': '1', 'checkpoint_ns': '', 'checkpoint_id': '1eff2940-44c6-61c6-bfff-7c6015b52caf'}}) \n",
      "\n",
      "StateSnapshot(values={'count': 0}, next=('__start__',), config={'configurable': {'thread_id': '1', 'checkpoint_ns': '', 'checkpoint_id': '1eff2940-44c6-61c6-bfff-7c6015b52caf'}}, metadata={'source': 'input', 'writes': {'count': 0, 'scratch': 'hi'}, 'step': -1}, created_at='2025-02-24T09:45:01.297094+00:00', parent_config=None) \n",
      "\n"
     ]
    }
   ],
   "source": [
    "for state in graph.get_state_history(thread):\n",
    "    print(state, \"\\n\")"
   ]
  },
  {
   "cell_type": "code",
   "execution_count": 38,
   "metadata": {},
   "outputs": [
    {
     "name": "stdout",
     "output_type": "stream",
     "text": [
      "{'configurable': {'thread_id': '1', 'checkpoint_ns': '', 'checkpoint_id': '1eff2940-d3fb-67c6-8004-10871c623020'}} 6\n",
      "{'configurable': {'thread_id': '1', 'checkpoint_ns': '', 'checkpoint_id': '1eff2940-9ab7-6319-8003-541b6828f99f'}} 5\n",
      "{'configurable': {'thread_id': '1', 'checkpoint_ns': '', 'checkpoint_id': '1eff2940-6172-64b7-8002-a699ac76736e'}} 2\n",
      "{'configurable': {'thread_id': '1', 'checkpoint_ns': '', 'checkpoint_id': '1eff2940-4e5a-68d1-8001-af1e449315d5'}} 1\n",
      "{'configurable': {'thread_id': '1', 'checkpoint_ns': '', 'checkpoint_id': '1eff2940-44cb-64e1-8000-6b123fccf3d1'}} 0\n",
      "{'configurable': {'thread_id': '1', 'checkpoint_ns': '', 'checkpoint_id': '1eff2940-44c6-61c6-bfff-7c6015b52caf'}} 0\n"
     ]
    }
   ],
   "source": [
    "states = []\n",
    "for state in graph.get_state_history(thread):\n",
    "    states.append(state.config)\n",
    "    print(state.config, state.values[\"count\"])"
   ]
  },
  {
   "cell_type": "code",
   "execution_count": 39,
   "metadata": {},
   "outputs": [
    {
     "data": {
      "text/plain": [
       "{'configurable': {'thread_id': '1',\n",
       "  'checkpoint_ns': '',\n",
       "  'checkpoint_id': '1eff2940-4e5a-68d1-8001-af1e449315d5'}}"
      ]
     },
     "execution_count": 39,
     "metadata": {},
     "output_type": "execute_result"
    }
   ],
   "source": [
    "states[-3]"
   ]
  },
  {
   "cell_type": "code",
   "execution_count": 40,
   "metadata": {},
   "outputs": [
    {
     "data": {
      "text/plain": [
       "StateSnapshot(values={'scratch': 'hi', 'count': 1}, next=('Node2',), config={'configurable': {'thread_id': '1', 'checkpoint_ns': '', 'checkpoint_id': '1eff2940-4e5a-68d1-8001-af1e449315d5'}}, metadata={'source': 'loop', 'writes': {'Node1': {'count': 1}}, 'step': 1}, created_at='2025-02-24T09:45:02.301614+00:00', parent_config={'configurable': {'thread_id': '1', 'checkpoint_ns': '', 'checkpoint_id': '1eff2940-44cb-64e1-8000-6b123fccf3d1'}})"
      ]
     },
     "execution_count": 40,
     "metadata": {},
     "output_type": "execute_result"
    }
   ],
   "source": [
    "graph.get_state(states[-3])"
   ]
  },
  {
   "cell_type": "code",
   "execution_count": 41,
   "metadata": {},
   "outputs": [
    {
     "name": "stdout",
     "output_type": "stream",
     "text": [
      "node3, count:2\n",
      "node4, count:2\n",
      "node5, count:2\n",
      "N3 0\n",
      "N4 0\n",
      "N3 1\n",
      "N5 0\n",
      "N3 2\n",
      "N4 1\n",
      "N5 1\n",
      "N4 2\n",
      "N5 2\n",
      "node6, count:5\n",
      "N6 0\n",
      "N6 1\n",
      "N6 2\n",
      "N6 3\n",
      "N6 4\n",
      "N6 5\n"
     ]
    },
    {
     "data": {
      "text/plain": [
       "{'scratch': 'hi', 'count': 6}"
      ]
     },
     "execution_count": 41,
     "metadata": {},
     "output_type": "execute_result"
    }
   ],
   "source": [
    "graph.invoke(None, states[-3])"
   ]
  },
  {
   "cell_type": "code",
   "execution_count": 42,
   "metadata": {},
   "outputs": [
    {
     "name": "stdout",
     "output_type": "stream",
     "text": [
      "{'configurable': {'thread_id': '1', 'checkpoint_ns': '', 'checkpoint_id': '1eff2942-a7a9-6bcc-8004-f8551e30259f'}} 6\n",
      "{'configurable': {'thread_id': '1', 'checkpoint_ns': '', 'checkpoint_id': '1eff2942-6e6a-67b4-8003-f4e32f0cade2'}} 5\n",
      "{'configurable': {'thread_id': '1', 'checkpoint_ns': '', 'checkpoint_id': '1eff2942-351f-644d-8002-4b5e040a06ca'}} 2\n",
      "{'configurable': {'thread_id': '1', 'checkpoint_ns': '', 'checkpoint_id': '1eff2940-d3fb-67c6-8004-10871c623020'}} 6\n",
      "{'configurable': {'thread_id': '1', 'checkpoint_ns': '', 'checkpoint_id': '1eff2940-9ab7-6319-8003-541b6828f99f'}} 5\n",
      "{'configurable': {'thread_id': '1', 'checkpoint_ns': '', 'checkpoint_id': '1eff2940-6172-64b7-8002-a699ac76736e'}} 2\n",
      "{'configurable': {'thread_id': '1', 'checkpoint_ns': '', 'checkpoint_id': '1eff2940-4e5a-68d1-8001-af1e449315d5'}} 1\n",
      "{'configurable': {'thread_id': '1', 'checkpoint_ns': '', 'checkpoint_id': '1eff2940-44cb-64e1-8000-6b123fccf3d1'}} 0\n",
      "{'configurable': {'thread_id': '1', 'checkpoint_ns': '', 'checkpoint_id': '1eff2940-44c6-61c6-bfff-7c6015b52caf'}} 0\n"
     ]
    }
   ],
   "source": [
    "thread = {\"configurable\": {\"thread_id\": str(1)}}\n",
    "for state in graph.get_state_history(thread):\n",
    "    print(state.config, state.values[\"count\"])"
   ]
  },
  {
   "cell_type": "code",
   "execution_count": 43,
   "metadata": {},
   "outputs": [
    {
     "name": "stdout",
     "output_type": "stream",
     "text": [
      "StateSnapshot(values={'scratch': 'hi', 'count': 6}, next=(), config={'configurable': {'thread_id': '1', 'checkpoint_ns': '', 'checkpoint_id': '1eff2942-a7a9-6bcc-8004-f8551e30259f'}}, metadata={'source': 'loop', 'writes': {'Node6': {'count': 1}}, 'step': 4}, created_at='2025-02-24T09:46:05.353466+00:00', parent_config={'configurable': {'thread_id': '1', 'checkpoint_ns': '', 'checkpoint_id': '1eff2942-6e6a-67b4-8003-f4e32f0cade2'}}) \n",
      "\n",
      "StateSnapshot(values={'scratch': 'hi', 'count': 5}, next=('Node6',), config={'configurable': {'thread_id': '1', 'checkpoint_ns': '', 'checkpoint_id': '1eff2942-6e6a-67b4-8003-f4e32f0cade2'}}, metadata={'source': 'loop', 'writes': {'Node3': {'count': 1}, 'Node4': {'count': 1}, 'Node5': {'count': 1}}, 'step': 3}, created_at='2025-02-24T09:45:59.350492+00:00', parent_config={'configurable': {'thread_id': '1', 'checkpoint_ns': '', 'checkpoint_id': '1eff2942-351f-644d-8002-4b5e040a06ca'}}) \n",
      "\n",
      "StateSnapshot(values={'scratch': 'hi', 'count': 2}, next=('Node3', 'Node4', 'Node5'), config={'configurable': {'thread_id': '1', 'checkpoint_ns': '', 'checkpoint_id': '1eff2942-351f-644d-8002-4b5e040a06ca'}}, metadata={'source': 'loop', 'writes': {'Node2': {'count': 1}}, 'step': 2}, created_at='2025-02-24T09:45:53.342983+00:00', parent_config={'configurable': {'thread_id': '1', 'checkpoint_ns': '', 'checkpoint_id': '1eff2940-4e5a-68d1-8001-af1e449315d5'}}) \n",
      "\n",
      "StateSnapshot(values={'scratch': 'hi', 'count': 6}, next=(), config={'configurable': {'thread_id': '1', 'checkpoint_ns': '', 'checkpoint_id': '1eff2940-d3fb-67c6-8004-10871c623020'}}, metadata={'source': 'loop', 'writes': {'Node6': {'count': 1}}, 'step': 4}, created_at='2025-02-24T09:45:16.313594+00:00', parent_config={'configurable': {'thread_id': '1', 'checkpoint_ns': '', 'checkpoint_id': '1eff2940-9ab7-6319-8003-541b6828f99f'}}) \n",
      "\n",
      "StateSnapshot(values={'scratch': 'hi', 'count': 5}, next=('Node6',), config={'configurable': {'thread_id': '1', 'checkpoint_ns': '', 'checkpoint_id': '1eff2940-9ab7-6319-8003-541b6828f99f'}}, metadata={'source': 'loop', 'writes': {'Node3': {'count': 1}, 'Node4': {'count': 1}, 'Node5': {'count': 1}}, 'step': 3}, created_at='2025-02-24T09:45:10.308738+00:00', parent_config={'configurable': {'thread_id': '1', 'checkpoint_ns': '', 'checkpoint_id': '1eff2940-6172-64b7-8002-a699ac76736e'}}) \n",
      "\n",
      "StateSnapshot(values={'scratch': 'hi', 'count': 2}, next=('Node3', 'Node4', 'Node5'), config={'configurable': {'thread_id': '1', 'checkpoint_ns': '', 'checkpoint_id': '1eff2940-6172-64b7-8002-a699ac76736e'}}, metadata={'source': 'loop', 'writes': {'Node2': {'count': 1}}, 'step': 2}, created_at='2025-02-24T09:45:04.303634+00:00', parent_config={'configurable': {'thread_id': '1', 'checkpoint_ns': '', 'checkpoint_id': '1eff2940-4e5a-68d1-8001-af1e449315d5'}}) \n",
      "\n",
      "StateSnapshot(values={'scratch': 'hi', 'count': 1}, next=('Node2',), config={'configurable': {'thread_id': '1', 'checkpoint_ns': '', 'checkpoint_id': '1eff2940-4e5a-68d1-8001-af1e449315d5'}}, metadata={'source': 'loop', 'writes': {'Node1': {'count': 1}}, 'step': 1}, created_at='2025-02-24T09:45:02.301614+00:00', parent_config={'configurable': {'thread_id': '1', 'checkpoint_ns': '', 'checkpoint_id': '1eff2940-44cb-64e1-8000-6b123fccf3d1'}}) \n",
      "\n",
      "StateSnapshot(values={'scratch': 'hi', 'count': 0}, next=('Node1',), config={'configurable': {'thread_id': '1', 'checkpoint_ns': '', 'checkpoint_id': '1eff2940-44cb-64e1-8000-6b123fccf3d1'}}, metadata={'source': 'loop', 'writes': None, 'step': 0}, created_at='2025-02-24T09:45:01.299222+00:00', parent_config={'configurable': {'thread_id': '1', 'checkpoint_ns': '', 'checkpoint_id': '1eff2940-44c6-61c6-bfff-7c6015b52caf'}}) \n",
      "\n",
      "StateSnapshot(values={'count': 0}, next=('__start__',), config={'configurable': {'thread_id': '1', 'checkpoint_ns': '', 'checkpoint_id': '1eff2940-44c6-61c6-bfff-7c6015b52caf'}}, metadata={'source': 'input', 'writes': {'count': 0, 'scratch': 'hi'}, 'step': -1}, created_at='2025-02-24T09:45:01.297094+00:00', parent_config=None) \n",
      "\n"
     ]
    }
   ],
   "source": [
    "thread = {\"configurable\": {\"thread_id\": str(1)}}\n",
    "for state in graph.get_state_history(thread):\n",
    "    print(state, \"\\n\")"
   ]
  },
  {
   "cell_type": "code",
   "execution_count": null,
   "metadata": {},
   "outputs": [],
   "source": []
  }
 ],
 "metadata": {
  "kernelspec": {
   "display_name": "chat",
   "language": "python",
   "name": "python3"
  },
  "language_info": {
   "codemirror_mode": {
    "name": "ipython",
    "version": 3
   },
   "file_extension": ".py",
   "mimetype": "text/x-python",
   "name": "python",
   "nbconvert_exporter": "python",
   "pygments_lexer": "ipython3",
   "version": "3.12.8"
  }
 },
 "nbformat": 4,
 "nbformat_minor": 2
}
