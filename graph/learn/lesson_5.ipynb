{
 "cells": [
  {
   "cell_type": "code",
   "execution_count": 1,
   "metadata": {},
   "outputs": [],
   "source": [
    "# libraries\n",
    "from dotenv import load_dotenv\n",
    "\n",
    "# load environment variables from .env file\n",
    "_ = load_dotenv(\"../.env\")\n",
    "\n",
    "from langgraph.graph import StateGraph, END\n",
    "from typing import TypedDict, Annotated\n",
    "import operator\n",
    "from langchain_core.messages import AnyMessage, SystemMessage, HumanMessage, ToolMessage\n",
    "from langchain_openai import ChatOpenAI\n",
    "from langchain_community.tools.tavily_search import TavilySearchResults\n",
    "from langgraph.checkpoint.sqlite import SqliteSaver\n",
    "\n",
    "model = ChatOpenAI(\n",
    "    api_key=\"ollama\",\n",
    "    model=\"llama3.2\",\n",
    "    base_url=\"http://localhost:11434/v1\",\n",
    ")\n",
    "\n",
    "from uuid import uuid4\n",
    "from langchain_core.messages import AnyMessage, SystemMessage, HumanMessage, AIMessage\n",
    "\n",
    "\"\"\"\n",
    "In previous examples we've annotated the `messages` state key\n",
    "with the default `operator.add` or `+` reducer, which always\n",
    "appends new messages to the end of the existing messages array.\n",
    "\n",
    "Now, to support replacing existing messages, we annotate the\n",
    "`messages` key with a customer reducer function, which replaces\n",
    "messages with the same `id`, and appends them otherwise.\n",
    "\"\"\"\n",
    "\n",
    "\n",
    "def reduce_messages(\n",
    "    left: list[AnyMessage], right: list[AnyMessage]\n",
    ") -> list[AnyMessage]:\n",
    "    # assign ids to messages that don't have them\n",
    "    for message in right:\n",
    "        if not message.id:\n",
    "            message.id = str(uuid4())\n",
    "    # merge the new messages with the existing messages\n",
    "    merged = left.copy()\n",
    "    for message in right:\n",
    "        for i, existing in enumerate(merged):\n",
    "            # replace any existing messages with the same id\n",
    "            if existing.id == message.id:\n",
    "                merged[i] = message\n",
    "                break\n",
    "        else:\n",
    "            # append any new messages to the end\n",
    "            merged.append(message)\n",
    "    return merged\n",
    "\n",
    "\n",
    "class AgentState(TypedDict):\n",
    "    messages: Annotated[list[AnyMessage], reduce_messages]"
   ]
  },
  {
   "cell_type": "code",
   "execution_count": 2,
   "metadata": {},
   "outputs": [],
   "source": [
    "tool = TavilySearchResults(max_results=2)"
   ]
  },
  {
   "cell_type": "code",
   "execution_count": 3,
   "metadata": {},
   "outputs": [],
   "source": [
    "class Agent:\n",
    "    def __init__(self, model, tools, system=\"\", checkpointer=None):\n",
    "        self.system = system\n",
    "        graph = StateGraph(AgentState)\n",
    "        graph.add_node(\"llm\", self.call_openai)\n",
    "        graph.add_node(\"action\", self.take_action)\n",
    "        graph.add_conditional_edges(\n",
    "            \"llm\", self.exists_action, {True: \"action\", False: END}\n",
    "        )\n",
    "        graph.add_edge(\"action\", \"llm\")\n",
    "        graph.set_entry_point(\"llm\")\n",
    "        self.graph = graph.compile(\n",
    "            checkpointer=checkpointer, interrupt_before=[\"action\"]\n",
    "        )\n",
    "        self.tools = {t.name: t for t in tools}\n",
    "        self.model = model.bind_tools(tools)\n",
    "\n",
    "    def call_openai(self, state: AgentState):\n",
    "        messages = state[\"messages\"]\n",
    "        if self.system:\n",
    "            messages = [SystemMessage(content=self.system)] + messages\n",
    "        message = self.model.invoke(messages)\n",
    "        return {\"messages\": [message]}\n",
    "\n",
    "    def exists_action(self, state: AgentState):\n",
    "        print(state)\n",
    "        result = state[\"messages\"][-1]\n",
    "        return len(result.tool_calls) > 0\n",
    "\n",
    "    def take_action(self, state: AgentState):\n",
    "        tool_calls = state[\"messages\"][-1].tool_calls\n",
    "        results = []\n",
    "        for t in tool_calls:\n",
    "            print(f\"Calling: {t}\")\n",
    "            result = self.tools[t[\"name\"]].invoke(t[\"args\"])\n",
    "            results.append(\n",
    "                ToolMessage(tool_call_id=t[\"id\"], name=t[\"name\"], content=str(result))\n",
    "            )\n",
    "        print(\"Back to the model!\")\n",
    "        return {\"messages\": results}"
   ]
  },
  {
   "cell_type": "markdown",
   "metadata": {},
   "source": [
    "### Manual human approval"
   ]
  },
  {
   "cell_type": "code",
   "execution_count": 4,
   "metadata": {},
   "outputs": [],
   "source": [
    "prompt = \"\"\"You are a smart research assistant. Use the search engine to look up information. \\\n",
    "You are allowed to make multiple calls (either together or in sequence). \\\n",
    "Only look up information when you are sure of what you want. \\\n",
    "If you need to look up some information before asking a follow up question, you are allowed to do that!\n",
    "\"\"\"\n",
    "with SqliteSaver.from_conn_string(\":memory:\") as checkpointer:\n",
    "    abot = Agent(model, [tool], system=prompt, checkpointer=checkpointer)"
   ]
  },
  {
   "cell_type": "code",
   "execution_count": 5,
   "metadata": {},
   "outputs": [
    {
     "name": "stdout",
     "output_type": "stream",
     "text": [
      "{'messages': [HumanMessage(content='Whats the weather in SF?', id='2a1574d0-3132-4bd6-8c94-da074c467826'), AIMessage(content='', additional_kwargs={'tool_calls': [{'id': 'call_umlw1l1s', 'function': {'arguments': '{\"query\":\"San Francisco weather\"}', 'name': 'tavily_search_results_json'}, 'type': 'function', 'index': 0}], 'refusal': None}, response_metadata={'token_usage': {'completion_tokens': 23, 'prompt_tokens': 257, 'total_tokens': 280, 'completion_tokens_details': None, 'prompt_tokens_details': None}, 'model_name': 'llama3.2', 'system_fingerprint': 'fp_ollama', 'finish_reason': 'tool_calls', 'logprobs': None}, id='run-64e9bccf-4789-47c8-97a7-a9ca79ad8ffe-0', tool_calls=[{'name': 'tavily_search_results_json', 'args': {'query': 'San Francisco weather'}, 'id': 'call_umlw1l1s', 'type': 'tool_call'}], usage_metadata={'input_tokens': 257, 'output_tokens': 23, 'total_tokens': 280})]}\n",
      "{'messages': [AIMessage(content='', additional_kwargs={'tool_calls': [{'id': 'call_umlw1l1s', 'function': {'arguments': '{\"query\":\"San Francisco weather\"}', 'name': 'tavily_search_results_json'}, 'type': 'function', 'index': 0}], 'refusal': None}, response_metadata={'token_usage': {'completion_tokens': 23, 'prompt_tokens': 257, 'total_tokens': 280, 'completion_tokens_details': None, 'prompt_tokens_details': None}, 'model_name': 'llama3.2', 'system_fingerprint': 'fp_ollama', 'finish_reason': 'tool_calls', 'logprobs': None}, id='run-64e9bccf-4789-47c8-97a7-a9ca79ad8ffe-0', tool_calls=[{'name': 'tavily_search_results_json', 'args': {'query': 'San Francisco weather'}, 'id': 'call_umlw1l1s', 'type': 'tool_call'}], usage_metadata={'input_tokens': 257, 'output_tokens': 23, 'total_tokens': 280})]}\n"
     ]
    }
   ],
   "source": [
    "messages = [HumanMessage(content=\"Whats the weather in SF?\")]\n",
    "thread = {\"configurable\": {\"thread_id\": \"1\"}}\n",
    "for event in abot.graph.stream({\"messages\": messages}, thread):\n",
    "    for v in event.values():\n",
    "        print(v)"
   ]
  },
  {
   "cell_type": "code",
   "execution_count": 7,
   "metadata": {},
   "outputs": [
    {
     "data": {
      "text/plain": [
       "StateSnapshot(values={'messages': [HumanMessage(content='Whats the weather in SF?', id='2a1574d0-3132-4bd6-8c94-da074c467826'), AIMessage(content='', additional_kwargs={'tool_calls': [{'id': 'call_umlw1l1s', 'function': {'arguments': '{\"query\":\"San Francisco weather\"}', 'name': 'tavily_search_results_json'}, 'type': 'function', 'index': 0}], 'refusal': None}, response_metadata={'token_usage': {'completion_tokens': 23, 'prompt_tokens': 257, 'total_tokens': 280, 'completion_tokens_details': None, 'prompt_tokens_details': None}, 'model_name': 'llama3.2', 'system_fingerprint': 'fp_ollama', 'finish_reason': 'tool_calls', 'logprobs': None}, id='run-64e9bccf-4789-47c8-97a7-a9ca79ad8ffe-0', tool_calls=[{'name': 'tavily_search_results_json', 'args': {'query': 'San Francisco weather'}, 'id': 'call_umlw1l1s', 'type': 'tool_call'}], usage_metadata={'input_tokens': 257, 'output_tokens': 23, 'total_tokens': 280}), HumanMessage(content='Whats the weather in SF?', id='cd9ad17f-3662-4b5f-b526-4a2f6fcea2b7'), AIMessage(content='', additional_kwargs={'tool_calls': [{'id': 'call_c1x2hsk2', 'function': {'arguments': '{\"query\":\"San Francisco current weather\"}', 'name': 'tavily_search_results_json'}, 'type': 'function', 'index': 0}], 'refusal': None}, response_metadata={'token_usage': {'completion_tokens': 24, 'prompt_tokens': 294, 'total_tokens': 318, 'completion_tokens_details': None, 'prompt_tokens_details': None}, 'model_name': 'llama3.2', 'system_fingerprint': 'fp_ollama', 'finish_reason': 'tool_calls', 'logprobs': None}, id='run-bbe76ffa-0965-4676-b81a-7262179a5ea6-0', tool_calls=[{'name': 'tavily_search_results_json', 'args': {'query': 'San Francisco current weather'}, 'id': 'call_c1x2hsk2', 'type': 'tool_call'}], usage_metadata={'input_tokens': 294, 'output_tokens': 24, 'total_tokens': 318})]}, next=('action',), config={'configurable': {'thread_id': '1', 'checkpoint_ns': '', 'checkpoint_id': '1efed005-8fe2-6ea9-8004-07283f912b82'}}, metadata={'source': 'loop', 'writes': {'llm': {'messages': [AIMessage(content='', additional_kwargs={'tool_calls': [{'id': 'call_c1x2hsk2', 'function': {'arguments': '{\"query\":\"San Francisco current weather\"}', 'name': 'tavily_search_results_json'}, 'type': 'function', 'index': 0}], 'refusal': None}, response_metadata={'token_usage': {'completion_tokens': 24, 'prompt_tokens': 294, 'total_tokens': 318, 'completion_tokens_details': None, 'prompt_tokens_details': None}, 'model_name': 'llama3.2', 'system_fingerprint': 'fp_ollama', 'finish_reason': 'tool_calls', 'logprobs': None}, id='run-bbe76ffa-0965-4676-b81a-7262179a5ea6-0', tool_calls=[{'name': 'tavily_search_results_json', 'args': {'query': 'San Francisco current weather'}, 'id': 'call_c1x2hsk2', 'type': 'tool_call'}], usage_metadata={'input_tokens': 294, 'output_tokens': 24, 'total_tokens': 318})]}}, 'step': 4}, created_at='2025-02-17T07:25:22.061072+00:00', parent_config={'configurable': {'thread_id': '1', 'checkpoint_ns': '', 'checkpoint_id': '1efed005-77de-6d3b-8003-84ddde504d8b'}})"
      ]
     },
     "execution_count": 7,
     "metadata": {},
     "output_type": "execute_result"
    }
   ],
   "source": [
    "abot.graph.get_state(thread)"
   ]
  },
  {
   "cell_type": "code",
   "execution_count": 9,
   "metadata": {},
   "outputs": [
    {
     "data": {
      "text/plain": [
       "('action',)"
      ]
     },
     "execution_count": 9,
     "metadata": {},
     "output_type": "execute_result"
    }
   ],
   "source": [
    "abot.graph.get_state(thread).next"
   ]
  },
  {
   "cell_type": "code",
   "execution_count": 10,
   "metadata": {},
   "outputs": [
    {
     "name": "stdout",
     "output_type": "stream",
     "text": [
      "Calling: {'name': 'tavily_search_results_json', 'args': {'query': 'San Francisco current weather'}, 'id': 'call_c1x2hsk2', 'type': 'tool_call'}\n",
      "Back to the model!\n",
      "{'messages': [ToolMessage(content='[{\\'url\\': \\'https://www.weatherapi.com/\\', \\'content\\': \"{\\'location\\': {\\'name\\': \\'San Francisco\\', \\'region\\': \\'California\\', \\'country\\': \\'United States of America\\', \\'lat\\': 37.775, \\'lon\\': -122.4183, \\'tz_id\\': \\'America/Los_Angeles\\', \\'localtime_epoch\\': 1739777204, \\'localtime\\': \\'2025-02-16 23:26\\'}, \\'current\\': {\\'last_updated_epoch\\': 1739776500, \\'last_updated\\': \\'2025-02-16 23:15\\', \\'temp_c\\': 11.1, \\'temp_f\\': 52.0, \\'is_day\\': 0, \\'condition\\': {\\'text\\': \\'Partly cloudy\\', \\'icon\\': \\'//cdn.weatherapi.com/weather/64x64/night/116.png\\', \\'code\\': 1003}, \\'wind_mph\\': 4.5, \\'wind_kph\\': 7.2, \\'wind_degree\\': 271, \\'wind_dir\\': \\'W\\', \\'pressure_mb\\': 1020.0, \\'pressure_in\\': 30.13, \\'precip_mm\\': 0.0, \\'precip_in\\': 0.0, \\'humidity\\': 97, \\'cloud\\': 75, \\'feelslike_c\\': 10.5, \\'feelslike_f\\': 50.8, \\'windchill_c\\': 10.8, \\'windchill_f\\': 51.4, \\'heatindex_c\\': 11.1, \\'heatindex_f\\': 52.0, \\'dewpoint_c\\': 11.0, \\'dewpoint_f\\': 51.7, \\'vis_km\\': 16.0, \\'vis_miles\\': 9.0, \\'uv\\': 0.0, \\'gust_mph\\': 7.3, \\'gust_kph\\': 11.8}}\"}, {\\'url\\': \\'https://www.peoplesweather.com/weather/San+Francisco/?date=2025-02-17\\', \\'content\\': \\'Monday 17 February 2025 ; Morning. 8°C. Overcast. Cool ; Afternoon. 12°C. Overcast. Cool ; Night. 10°C. Mostly Cloudy. Cool\\'}]', name='tavily_search_results_json', tool_call_id='call_c1x2hsk2')]}\n",
      "{'messages': [HumanMessage(content='Whats the weather in SF?', id='2a1574d0-3132-4bd6-8c94-da074c467826'), AIMessage(content='', additional_kwargs={'tool_calls': [{'id': 'call_umlw1l1s', 'function': {'arguments': '{\"query\":\"San Francisco weather\"}', 'name': 'tavily_search_results_json'}, 'type': 'function', 'index': 0}], 'refusal': None}, response_metadata={'token_usage': {'completion_tokens': 23, 'prompt_tokens': 257, 'total_tokens': 280, 'completion_tokens_details': None, 'prompt_tokens_details': None}, 'model_name': 'llama3.2', 'system_fingerprint': 'fp_ollama', 'finish_reason': 'tool_calls', 'logprobs': None}, id='run-64e9bccf-4789-47c8-97a7-a9ca79ad8ffe-0', tool_calls=[{'name': 'tavily_search_results_json', 'args': {'query': 'San Francisco weather'}, 'id': 'call_umlw1l1s', 'type': 'tool_call'}], usage_metadata={'input_tokens': 257, 'output_tokens': 23, 'total_tokens': 280}), HumanMessage(content='Whats the weather in SF?', id='cd9ad17f-3662-4b5f-b526-4a2f6fcea2b7'), AIMessage(content='', additional_kwargs={'tool_calls': [{'id': 'call_c1x2hsk2', 'function': {'arguments': '{\"query\":\"San Francisco current weather\"}', 'name': 'tavily_search_results_json'}, 'type': 'function', 'index': 0}], 'refusal': None}, response_metadata={'token_usage': {'completion_tokens': 24, 'prompt_tokens': 294, 'total_tokens': 318, 'completion_tokens_details': None, 'prompt_tokens_details': None}, 'model_name': 'llama3.2', 'system_fingerprint': 'fp_ollama', 'finish_reason': 'tool_calls', 'logprobs': None}, id='run-bbe76ffa-0965-4676-b81a-7262179a5ea6-0', tool_calls=[{'name': 'tavily_search_results_json', 'args': {'query': 'San Francisco current weather'}, 'id': 'call_c1x2hsk2', 'type': 'tool_call'}], usage_metadata={'input_tokens': 294, 'output_tokens': 24, 'total_tokens': 318}), ToolMessage(content='[{\\'url\\': \\'https://www.weatherapi.com/\\', \\'content\\': \"{\\'location\\': {\\'name\\': \\'San Francisco\\', \\'region\\': \\'California\\', \\'country\\': \\'United States of America\\', \\'lat\\': 37.775, \\'lon\\': -122.4183, \\'tz_id\\': \\'America/Los_Angeles\\', \\'localtime_epoch\\': 1739777204, \\'localtime\\': \\'2025-02-16 23:26\\'}, \\'current\\': {\\'last_updated_epoch\\': 1739776500, \\'last_updated\\': \\'2025-02-16 23:15\\', \\'temp_c\\': 11.1, \\'temp_f\\': 52.0, \\'is_day\\': 0, \\'condition\\': {\\'text\\': \\'Partly cloudy\\', \\'icon\\': \\'//cdn.weatherapi.com/weather/64x64/night/116.png\\', \\'code\\': 1003}, \\'wind_mph\\': 4.5, \\'wind_kph\\': 7.2, \\'wind_degree\\': 271, \\'wind_dir\\': \\'W\\', \\'pressure_mb\\': 1020.0, \\'pressure_in\\': 30.13, \\'precip_mm\\': 0.0, \\'precip_in\\': 0.0, \\'humidity\\': 97, \\'cloud\\': 75, \\'feelslike_c\\': 10.5, \\'feelslike_f\\': 50.8, \\'windchill_c\\': 10.8, \\'windchill_f\\': 51.4, \\'heatindex_c\\': 11.1, \\'heatindex_f\\': 52.0, \\'dewpoint_c\\': 11.0, \\'dewpoint_f\\': 51.7, \\'vis_km\\': 16.0, \\'vis_miles\\': 9.0, \\'uv\\': 0.0, \\'gust_mph\\': 7.3, \\'gust_kph\\': 11.8}}\"}, {\\'url\\': \\'https://www.peoplesweather.com/weather/San+Francisco/?date=2025-02-17\\', \\'content\\': \\'Monday 17 February 2025 ; Morning. 8°C. Overcast. Cool ; Afternoon. 12°C. Overcast. Cool ; Night. 10°C. Mostly Cloudy. Cool\\'}]', name='tavily_search_results_json', id='c61686d1-2cdf-4b1b-8582-03783001b92d', tool_call_id='call_c1x2hsk2'), AIMessage(content=\"The current weather in San Francisco is partly cloudy with a temperature of 11.1°C (52.0°F). There is no precipitation expected, and the wind speed is 4.5 mph (7.2 kph) from the west. The feels-like temperature is 10.5°C (50.8°F).\\n\\nHere's a summary of the weather forecast for San Francisco:\\n\\n* Monday: Morning - Overcast with a high of 12°C (54°F), Afternoon - Overcast with a low of 10°C (50°F)\\n* Night - Mostly cloudy with a low of 10°C (50°F)\\n\\nPlease note that these are subject to change and may not be up-to-date.\", additional_kwargs={'refusal': None}, response_metadata={'token_usage': {'completion_tokens': 146, 'prompt_tokens': 683, 'total_tokens': 829, 'completion_tokens_details': None, 'prompt_tokens_details': None}, 'model_name': 'llama3.2', 'system_fingerprint': 'fp_ollama', 'finish_reason': 'stop', 'logprobs': None}, id='run-15fccf21-e4c8-4b38-ace2-884cddd2ad08-0', usage_metadata={'input_tokens': 683, 'output_tokens': 146, 'total_tokens': 829})]}\n",
      "{'messages': [AIMessage(content=\"The current weather in San Francisco is partly cloudy with a temperature of 11.1°C (52.0°F). There is no precipitation expected, and the wind speed is 4.5 mph (7.2 kph) from the west. The feels-like temperature is 10.5°C (50.8°F).\\n\\nHere's a summary of the weather forecast for San Francisco:\\n\\n* Monday: Morning - Overcast with a high of 12°C (54°F), Afternoon - Overcast with a low of 10°C (50°F)\\n* Night - Mostly cloudy with a low of 10°C (50°F)\\n\\nPlease note that these are subject to change and may not be up-to-date.\", additional_kwargs={'refusal': None}, response_metadata={'token_usage': {'completion_tokens': 146, 'prompt_tokens': 683, 'total_tokens': 829, 'completion_tokens_details': None, 'prompt_tokens_details': None}, 'model_name': 'llama3.2', 'system_fingerprint': 'fp_ollama', 'finish_reason': 'stop', 'logprobs': None}, id='run-15fccf21-e4c8-4b38-ace2-884cddd2ad08-0', usage_metadata={'input_tokens': 683, 'output_tokens': 146, 'total_tokens': 829})]}\n"
     ]
    }
   ],
   "source": [
    "for event in abot.graph.stream(None, thread):\n",
    "    for v in event.values():\n",
    "        print(v)"
   ]
  },
  {
   "cell_type": "code",
   "execution_count": 12,
   "metadata": {},
   "outputs": [
    {
     "data": {
      "text/plain": [
       "StateSnapshot(values={'messages': [HumanMessage(content='Whats the weather in SF?', id='2a1574d0-3132-4bd6-8c94-da074c467826'), AIMessage(content='', additional_kwargs={'tool_calls': [{'id': 'call_umlw1l1s', 'function': {'arguments': '{\"query\":\"San Francisco weather\"}', 'name': 'tavily_search_results_json'}, 'type': 'function', 'index': 0}], 'refusal': None}, response_metadata={'token_usage': {'completion_tokens': 23, 'prompt_tokens': 257, 'total_tokens': 280, 'completion_tokens_details': None, 'prompt_tokens_details': None}, 'model_name': 'llama3.2', 'system_fingerprint': 'fp_ollama', 'finish_reason': 'tool_calls', 'logprobs': None}, id='run-64e9bccf-4789-47c8-97a7-a9ca79ad8ffe-0', tool_calls=[{'name': 'tavily_search_results_json', 'args': {'query': 'San Francisco weather'}, 'id': 'call_umlw1l1s', 'type': 'tool_call'}], usage_metadata={'input_tokens': 257, 'output_tokens': 23, 'total_tokens': 280}), HumanMessage(content='Whats the weather in SF?', id='cd9ad17f-3662-4b5f-b526-4a2f6fcea2b7'), AIMessage(content='', additional_kwargs={'tool_calls': [{'id': 'call_c1x2hsk2', 'function': {'arguments': '{\"query\":\"San Francisco current weather\"}', 'name': 'tavily_search_results_json'}, 'type': 'function', 'index': 0}], 'refusal': None}, response_metadata={'token_usage': {'completion_tokens': 24, 'prompt_tokens': 294, 'total_tokens': 318, 'completion_tokens_details': None, 'prompt_tokens_details': None}, 'model_name': 'llama3.2', 'system_fingerprint': 'fp_ollama', 'finish_reason': 'tool_calls', 'logprobs': None}, id='run-bbe76ffa-0965-4676-b81a-7262179a5ea6-0', tool_calls=[{'name': 'tavily_search_results_json', 'args': {'query': 'San Francisco current weather'}, 'id': 'call_c1x2hsk2', 'type': 'tool_call'}], usage_metadata={'input_tokens': 294, 'output_tokens': 24, 'total_tokens': 318}), ToolMessage(content='[{\\'url\\': \\'https://www.weatherapi.com/\\', \\'content\\': \"{\\'location\\': {\\'name\\': \\'San Francisco\\', \\'region\\': \\'California\\', \\'country\\': \\'United States of America\\', \\'lat\\': 37.775, \\'lon\\': -122.4183, \\'tz_id\\': \\'America/Los_Angeles\\', \\'localtime_epoch\\': 1739777204, \\'localtime\\': \\'2025-02-16 23:26\\'}, \\'current\\': {\\'last_updated_epoch\\': 1739776500, \\'last_updated\\': \\'2025-02-16 23:15\\', \\'temp_c\\': 11.1, \\'temp_f\\': 52.0, \\'is_day\\': 0, \\'condition\\': {\\'text\\': \\'Partly cloudy\\', \\'icon\\': \\'//cdn.weatherapi.com/weather/64x64/night/116.png\\', \\'code\\': 1003}, \\'wind_mph\\': 4.5, \\'wind_kph\\': 7.2, \\'wind_degree\\': 271, \\'wind_dir\\': \\'W\\', \\'pressure_mb\\': 1020.0, \\'pressure_in\\': 30.13, \\'precip_mm\\': 0.0, \\'precip_in\\': 0.0, \\'humidity\\': 97, \\'cloud\\': 75, \\'feelslike_c\\': 10.5, \\'feelslike_f\\': 50.8, \\'windchill_c\\': 10.8, \\'windchill_f\\': 51.4, \\'heatindex_c\\': 11.1, \\'heatindex_f\\': 52.0, \\'dewpoint_c\\': 11.0, \\'dewpoint_f\\': 51.7, \\'vis_km\\': 16.0, \\'vis_miles\\': 9.0, \\'uv\\': 0.0, \\'gust_mph\\': 7.3, \\'gust_kph\\': 11.8}}\"}, {\\'url\\': \\'https://www.peoplesweather.com/weather/San+Francisco/?date=2025-02-17\\', \\'content\\': \\'Monday 17 February 2025 ; Morning. 8°C. Overcast. Cool ; Afternoon. 12°C. Overcast. Cool ; Night. 10°C. Mostly Cloudy. Cool\\'}]', name='tavily_search_results_json', id='c61686d1-2cdf-4b1b-8582-03783001b92d', tool_call_id='call_c1x2hsk2'), AIMessage(content=\"The current weather in San Francisco is partly cloudy with a temperature of 11.1°C (52.0°F). There is no precipitation expected, and the wind speed is 4.5 mph (7.2 kph) from the west. The feels-like temperature is 10.5°C (50.8°F).\\n\\nHere's a summary of the weather forecast for San Francisco:\\n\\n* Monday: Morning - Overcast with a high of 12°C (54°F), Afternoon - Overcast with a low of 10°C (50°F)\\n* Night - Mostly cloudy with a low of 10°C (50°F)\\n\\nPlease note that these are subject to change and may not be up-to-date.\", additional_kwargs={'refusal': None}, response_metadata={'token_usage': {'completion_tokens': 146, 'prompt_tokens': 683, 'total_tokens': 829, 'completion_tokens_details': None, 'prompt_tokens_details': None}, 'model_name': 'llama3.2', 'system_fingerprint': 'fp_ollama', 'finish_reason': 'stop', 'logprobs': None}, id='run-15fccf21-e4c8-4b38-ace2-884cddd2ad08-0', usage_metadata={'input_tokens': 683, 'output_tokens': 146, 'total_tokens': 829})]}, next=(), config={'configurable': {'thread_id': '1', 'checkpoint_ns': '', 'checkpoint_id': '1efed009-004d-6a4f-8006-165680edddfb'}}, metadata={'source': 'loop', 'writes': {'llm': {'messages': [AIMessage(content=\"The current weather in San Francisco is partly cloudy with a temperature of 11.1°C (52.0°F). There is no precipitation expected, and the wind speed is 4.5 mph (7.2 kph) from the west. The feels-like temperature is 10.5°C (50.8°F).\\n\\nHere's a summary of the weather forecast for San Francisco:\\n\\n* Monday: Morning - Overcast with a high of 12°C (54°F), Afternoon - Overcast with a low of 10°C (50°F)\\n* Night - Mostly cloudy with a low of 10°C (50°F)\\n\\nPlease note that these are subject to change and may not be up-to-date.\", additional_kwargs={'refusal': None}, response_metadata={'token_usage': {'completion_tokens': 146, 'prompt_tokens': 683, 'total_tokens': 829, 'completion_tokens_details': None, 'prompt_tokens_details': None}, 'model_name': 'llama3.2', 'system_fingerprint': 'fp_ollama', 'finish_reason': 'stop', 'logprobs': None}, id='run-15fccf21-e4c8-4b38-ace2-884cddd2ad08-0', usage_metadata={'input_tokens': 683, 'output_tokens': 146, 'total_tokens': 829})]}}, 'step': 6}, created_at='2025-02-17T07:26:54.379476+00:00', parent_config={'configurable': {'thread_id': '1', 'checkpoint_ns': '', 'checkpoint_id': '1efed008-d6c6-6f48-8005-078d4eddeb88'}})"
      ]
     },
     "execution_count": 12,
     "metadata": {},
     "output_type": "execute_result"
    }
   ],
   "source": [
    "abot.graph.get_state(thread)"
   ]
  },
  {
   "cell_type": "code",
   "execution_count": 11,
   "metadata": {},
   "outputs": [
    {
     "data": {
      "text/plain": [
       "()"
      ]
     },
     "execution_count": 11,
     "metadata": {},
     "output_type": "execute_result"
    }
   ],
   "source": [
    "abot.graph.get_state(thread).next"
   ]
  },
  {
   "cell_type": "markdown",
   "metadata": {},
   "source": [
    "### Modify State"
   ]
  },
  {
   "cell_type": "code",
   "execution_count": 5,
   "metadata": {},
   "outputs": [
    {
     "name": "stdout",
     "output_type": "stream",
     "text": [
      "{'messages': [HumanMessage(content='Whats the weather in LA?', id='88d8485f-fabe-4186-8b7d-066710061c75'), AIMessage(content='', additional_kwargs={'tool_calls': [{'id': 'call_nldupa0c', 'function': {'arguments': '{\"query\":\"LA weather\"}', 'name': 'tavily_search_results_json'}, 'type': 'function', 'index': 0}], 'refusal': None}, response_metadata={'token_usage': {'completion_tokens': 22, 'prompt_tokens': 257, 'total_tokens': 279, 'completion_tokens_details': None, 'prompt_tokens_details': None}, 'model_name': 'llama3.2', 'system_fingerprint': 'fp_ollama', 'finish_reason': 'tool_calls', 'logprobs': None}, id='run-2e87ed19-0ba0-4c3c-a57a-38fa90fc5eca-0', tool_calls=[{'name': 'tavily_search_results_json', 'args': {'query': 'LA weather'}, 'id': 'call_nldupa0c', 'type': 'tool_call'}], usage_metadata={'input_tokens': 257, 'output_tokens': 22, 'total_tokens': 279})]}\n",
      "{'messages': [AIMessage(content='', additional_kwargs={'tool_calls': [{'id': 'call_nldupa0c', 'function': {'arguments': '{\"query\":\"LA weather\"}', 'name': 'tavily_search_results_json'}, 'type': 'function', 'index': 0}], 'refusal': None}, response_metadata={'token_usage': {'completion_tokens': 22, 'prompt_tokens': 257, 'total_tokens': 279, 'completion_tokens_details': None, 'prompt_tokens_details': None}, 'model_name': 'llama3.2', 'system_fingerprint': 'fp_ollama', 'finish_reason': 'tool_calls', 'logprobs': None}, id='run-2e87ed19-0ba0-4c3c-a57a-38fa90fc5eca-0', tool_calls=[{'name': 'tavily_search_results_json', 'args': {'query': 'LA weather'}, 'id': 'call_nldupa0c', 'type': 'tool_call'}], usage_metadata={'input_tokens': 257, 'output_tokens': 22, 'total_tokens': 279})]}\n"
     ]
    }
   ],
   "source": [
    "messages = [HumanMessage(\"Whats the weather in LA?\")]\n",
    "thread = {\"configurable\": {\"thread_id\": \"2\"}}\n",
    "for event in abot.graph.stream({\"messages\": messages}, thread):\n",
    "    for v in event.values():\n",
    "        print(v)"
   ]
  },
  {
   "cell_type": "code",
   "execution_count": 24,
   "metadata": {},
   "outputs": [
    {
     "data": {
      "text/plain": [
       "StateSnapshot(values={'messages': [HumanMessage(content='Whats the weather in LA?', id='a9627b24-af6f-4727-9337-8009b7856818'), AIMessage(content='', additional_kwargs={'tool_calls': [{'id': 'call_wmj5qxzg', 'function': {'arguments': '{\"query\":\"LA weather\"}', 'name': 'tavily_search_results_json'}, 'type': 'function', 'index': 0}], 'refusal': None}, response_metadata={'token_usage': {'completion_tokens': 22, 'prompt_tokens': 257, 'total_tokens': 279, 'completion_tokens_details': None, 'prompt_tokens_details': None}, 'model_name': 'llama3.2', 'system_fingerprint': 'fp_ollama', 'finish_reason': 'tool_calls', 'logprobs': None}, id='run-a1049621-8f26-43d1-ab42-148669ad90f0-0', tool_calls=[{'name': 'tavily_search_results_json', 'args': {'query': 'LA weather'}, 'id': 'call_wmj5qxzg', 'type': 'tool_call'}], usage_metadata={'input_tokens': 257, 'output_tokens': 22, 'total_tokens': 279})]}, next=('action',), config={'configurable': {'thread_id': '2', 'checkpoint_ns': '', 'checkpoint_id': '1efed032-1802-63fe-8001-023bfdb48b82'}}, metadata={'source': 'loop', 'writes': {'llm': {'messages': [AIMessage(content='', additional_kwargs={'tool_calls': [{'id': 'call_wmj5qxzg', 'function': {'arguments': '{\"query\":\"LA weather\"}', 'name': 'tavily_search_results_json'}, 'type': 'function', 'index': 0}], 'refusal': None}, response_metadata={'token_usage': {'completion_tokens': 22, 'prompt_tokens': 257, 'total_tokens': 279, 'completion_tokens_details': None, 'prompt_tokens_details': None}, 'model_name': 'llama3.2', 'system_fingerprint': 'fp_ollama', 'finish_reason': 'tool_calls', 'logprobs': None}, id='run-a1049621-8f26-43d1-ab42-148669ad90f0-0', tool_calls=[{'name': 'tavily_search_results_json', 'args': {'query': 'LA weather'}, 'id': 'call_wmj5qxzg', 'type': 'tool_call'}], usage_metadata={'input_tokens': 257, 'output_tokens': 22, 'total_tokens': 279})]}}, 'step': 1}, created_at='2025-02-17T07:45:17.450547+00:00', parent_config={'configurable': {'thread_id': '2', 'checkpoint_ns': '', 'checkpoint_id': '1efed031-ef62-67f1-8000-346a85a654c7'}})"
      ]
     },
     "execution_count": 24,
     "metadata": {},
     "output_type": "execute_result"
    }
   ],
   "source": [
    "abot.graph.get_state(thread)"
   ]
  },
  {
   "cell_type": "code",
   "execution_count": 16,
   "metadata": {},
   "outputs": [
    {
     "data": {
      "text/plain": [
       "AIMessage(content='', additional_kwargs={'tool_calls': [{'id': 'call_re03dxhy', 'function': {'arguments': '{\"query\":\"LA weather\"}', 'name': 'tavily_search_results_json'}, 'type': 'function', 'index': 0}], 'refusal': None}, response_metadata={'token_usage': {'completion_tokens': 22, 'prompt_tokens': 257, 'total_tokens': 279, 'completion_tokens_details': None, 'prompt_tokens_details': None}, 'model_name': 'llama3.2', 'system_fingerprint': 'fp_ollama', 'finish_reason': 'tool_calls', 'logprobs': None}, id='run-c4f224e9-d987-48d1-b46f-4b92ef93fae9-0', tool_calls=[{'name': 'tavily_search_results_json', 'args': {'query': 'LA weather'}, 'id': 'call_re03dxhy', 'type': 'tool_call'}], usage_metadata={'input_tokens': 257, 'output_tokens': 22, 'total_tokens': 279})"
      ]
     },
     "execution_count": 16,
     "metadata": {},
     "output_type": "execute_result"
    }
   ],
   "source": [
    "current_values = abot.graph.get_state(thread)\n",
    "current_values.values[\"messages\"][-1]"
   ]
  },
  {
   "cell_type": "code",
   "execution_count": 17,
   "metadata": {},
   "outputs": [
    {
     "data": {
      "text/plain": [
       "[{'name': 'tavily_search_results_json',\n",
       "  'args': {'query': 'LA weather'},\n",
       "  'id': 'call_re03dxhy',\n",
       "  'type': 'tool_call'}]"
      ]
     },
     "execution_count": 17,
     "metadata": {},
     "output_type": "execute_result"
    }
   ],
   "source": [
    "current_values.values[\"messages\"][-1].tool_calls"
   ]
  },
  {
   "cell_type": "code",
   "execution_count": 25,
   "metadata": {},
   "outputs": [],
   "source": [
    "_id = current_values.values[\"messages\"][-1].tool_calls[0][\"id\"]\n",
    "current_values.values[\"messages\"][-1].tool_calls = [\n",
    "    {\n",
    "        \"name\": \"tavily_search_results_json\",\n",
    "        \"args\": {\"query\": \"current weather in Louisiana\"},\n",
    "        \"id\": _id,\n",
    "        \"type\": \"tool_call\",\n",
    "    }\n",
    "]"
   ]
  },
  {
   "cell_type": "code",
   "execution_count": 26,
   "metadata": {},
   "outputs": [
    {
     "data": {
      "text/plain": [
       "[{'name': 'tavily_search_results_json',\n",
       "  'args': {'query': 'current weather in Louisiana'},\n",
       "  'id': 'call_re03dxhy',\n",
       "  'type': 'tool_call'}]"
      ]
     },
     "execution_count": 26,
     "metadata": {},
     "output_type": "execute_result"
    }
   ],
   "source": [
    "current_values.values[\"messages\"][-1].tool_calls"
   ]
  },
  {
   "cell_type": "code",
   "execution_count": 27,
   "metadata": {},
   "outputs": [
    {
     "name": "stdout",
     "output_type": "stream",
     "text": [
      "{'messages': [HumanMessage(content='Whats the weather in LA?', id='a9627b24-af6f-4727-9337-8009b7856818'), AIMessage(content='', additional_kwargs={'tool_calls': [{'id': 'call_wmj5qxzg', 'function': {'arguments': '{\"query\":\"LA weather\"}', 'name': 'tavily_search_results_json'}, 'type': 'function', 'index': 0}], 'refusal': None}, response_metadata={'token_usage': {'completion_tokens': 22, 'prompt_tokens': 257, 'total_tokens': 279, 'completion_tokens_details': None, 'prompt_tokens_details': None}, 'model_name': 'llama3.2', 'system_fingerprint': 'fp_ollama', 'finish_reason': 'tool_calls', 'logprobs': None}, id='run-a1049621-8f26-43d1-ab42-148669ad90f0-0', tool_calls=[{'name': 'tavily_search_results_json', 'args': {'query': 'LA weather'}, 'id': 'call_wmj5qxzg', 'type': 'tool_call'}], usage_metadata={'input_tokens': 257, 'output_tokens': 22, 'total_tokens': 279}), HumanMessage(content='Whats the weather in LA?', id='410da7e8-2ce7-46da-8be5-05b33f394fb8'), AIMessage(content='', additional_kwargs={'tool_calls': [{'id': 'call_re03dxhy', 'function': {'arguments': '{\"query\":\"LA weather\"}', 'name': 'tavily_search_results_json'}, 'type': 'function', 'index': 0}], 'refusal': None}, response_metadata={'token_usage': {'completion_tokens': 22, 'prompt_tokens': 257, 'total_tokens': 279, 'completion_tokens_details': None, 'prompt_tokens_details': None}, 'model_name': 'llama3.2', 'system_fingerprint': 'fp_ollama', 'finish_reason': 'tool_calls', 'logprobs': None}, id='run-c4f224e9-d987-48d1-b46f-4b92ef93fae9-0', tool_calls=[{'name': 'tavily_search_results_json', 'args': {'query': 'current weather in Louisiana'}, 'id': 'call_re03dxhy', 'type': 'tool_call'}], usage_metadata={'input_tokens': 257, 'output_tokens': 22, 'total_tokens': 279})]}\n"
     ]
    },
    {
     "data": {
      "text/plain": [
       "{'configurable': {'thread_id': '2',\n",
       "  'checkpoint_ns': '',\n",
       "  'checkpoint_id': '1efed03a-1d72-6efb-8002-2fe1d526a098'}}"
      ]
     },
     "execution_count": 27,
     "metadata": {},
     "output_type": "execute_result"
    }
   ],
   "source": [
    "abot.graph.update_state(thread, current_values.values)"
   ]
  },
  {
   "cell_type": "code",
   "execution_count": 28,
   "metadata": {},
   "outputs": [
    {
     "data": {
      "text/plain": [
       "StateSnapshot(values={'messages': [HumanMessage(content='Whats the weather in LA?', id='a9627b24-af6f-4727-9337-8009b7856818'), AIMessage(content='', additional_kwargs={'tool_calls': [{'id': 'call_wmj5qxzg', 'function': {'arguments': '{\"query\":\"LA weather\"}', 'name': 'tavily_search_results_json'}, 'type': 'function', 'index': 0}], 'refusal': None}, response_metadata={'token_usage': {'completion_tokens': 22, 'prompt_tokens': 257, 'total_tokens': 279, 'completion_tokens_details': None, 'prompt_tokens_details': None}, 'model_name': 'llama3.2', 'system_fingerprint': 'fp_ollama', 'finish_reason': 'tool_calls', 'logprobs': None}, id='run-a1049621-8f26-43d1-ab42-148669ad90f0-0', tool_calls=[{'name': 'tavily_search_results_json', 'args': {'query': 'LA weather'}, 'id': 'call_wmj5qxzg', 'type': 'tool_call'}], usage_metadata={'input_tokens': 257, 'output_tokens': 22, 'total_tokens': 279}), HumanMessage(content='Whats the weather in LA?', id='410da7e8-2ce7-46da-8be5-05b33f394fb8'), AIMessage(content='', additional_kwargs={'tool_calls': [{'id': 'call_re03dxhy', 'function': {'arguments': '{\"query\":\"LA weather\"}', 'name': 'tavily_search_results_json'}, 'type': 'function', 'index': 0}], 'refusal': None}, response_metadata={'token_usage': {'completion_tokens': 22, 'prompt_tokens': 257, 'total_tokens': 279, 'completion_tokens_details': None, 'prompt_tokens_details': None}, 'model_name': 'llama3.2', 'system_fingerprint': 'fp_ollama', 'finish_reason': 'tool_calls', 'logprobs': None}, id='run-c4f224e9-d987-48d1-b46f-4b92ef93fae9-0', tool_calls=[{'name': 'tavily_search_results_json', 'args': {'query': 'current weather in Louisiana'}, 'id': 'call_re03dxhy', 'type': 'tool_call'}], usage_metadata={'input_tokens': 257, 'output_tokens': 22, 'total_tokens': 279})]}, next=('action',), config={'configurable': {'thread_id': '2', 'checkpoint_ns': '', 'checkpoint_id': '1efed03a-1d72-6efb-8002-2fe1d526a098'}}, metadata={'source': 'update', 'step': 2, 'writes': {'llm': {'messages': [HumanMessage(content='Whats the weather in LA?', id='410da7e8-2ce7-46da-8be5-05b33f394fb8'), AIMessage(content='', additional_kwargs={'tool_calls': [{'id': 'call_re03dxhy', 'function': {'arguments': '{\"query\":\"LA weather\"}', 'name': 'tavily_search_results_json'}, 'type': 'function', 'index': 0}], 'refusal': None}, response_metadata={'token_usage': {'completion_tokens': 22, 'prompt_tokens': 257, 'total_tokens': 279, 'completion_tokens_details': None, 'prompt_tokens_details': None}, 'model_name': 'llama3.2', 'system_fingerprint': 'fp_ollama', 'finish_reason': 'tool_calls', 'logprobs': None}, id='run-c4f224e9-d987-48d1-b46f-4b92ef93fae9-0', tool_calls=[{'name': 'tavily_search_results_json', 'args': {'query': 'current weather in Louisiana'}, 'id': 'call_re03dxhy', 'type': 'tool_call'}], usage_metadata={'input_tokens': 257, 'output_tokens': 22, 'total_tokens': 279})]}}}, created_at='2025-02-17T07:48:52.769356+00:00', parent_config={'configurable': {'thread_id': '2', 'checkpoint_ns': '', 'checkpoint_id': '1efed032-1802-63fe-8001-023bfdb48b82'}})"
      ]
     },
     "execution_count": 28,
     "metadata": {},
     "output_type": "execute_result"
    }
   ],
   "source": [
    "abot.graph.get_state(thread)"
   ]
  },
  {
   "cell_type": "code",
   "execution_count": 29,
   "metadata": {},
   "outputs": [
    {
     "name": "stdout",
     "output_type": "stream",
     "text": [
      "Calling: {'name': 'tavily_search_results_json', 'args': {'query': 'current weather in Louisiana'}, 'id': 'call_re03dxhy', 'type': 'tool_call'}\n",
      "Back to the model!\n",
      "{'messages': [ToolMessage(content='[{\\'url\\': \\'https://www.weatherapi.com/\\', \\'content\\': \"{\\'location\\': {\\'name\\': \\'Louisiana\\', \\'region\\': \\'Missouri\\', \\'country\\': \\'USA United States of America\\', \\'lat\\': 39.4411, \\'lon\\': -91.0551, \\'tz_id\\': \\'America/Chicago\\', \\'localtime_epoch\\': 1739778620, \\'localtime\\': \\'2025-02-17 01:50\\'}, \\'current\\': {\\'last_updated_epoch\\': 1739778300, \\'last_updated\\': \\'2025-02-17 01:45\\', \\'temp_c\\': -11.6, \\'temp_f\\': 11.1, \\'is_day\\': 0, \\'condition\\': {\\'text\\': \\'Clear\\', \\'icon\\': \\'//cdn.weatherapi.com/weather/64x64/night/113.png\\', \\'code\\': 1000}, \\'wind_mph\\': 10.1, \\'wind_kph\\': 16.2, \\'wind_degree\\': 319, \\'wind_dir\\': \\'NW\\', \\'pressure_mb\\': 1028.0, \\'pressure_in\\': 30.36, \\'precip_mm\\': 0.0, \\'precip_in\\': 0.0, \\'humidity\\': 67, \\'cloud\\': 0, \\'feelslike_c\\': -19.0, \\'feelslike_f\\': -2.2, \\'windchill_c\\': -16.4, \\'windchill_f\\': 2.5, \\'heatindex_c\\': -9.4, \\'heatindex_f\\': 15.0, \\'dewpoint_c\\': -13.5, \\'dewpoint_f\\': 7.8, \\'vis_km\\': 16.0, \\'vis_miles\\': 9.0, \\'uv\\': 0.0, \\'gust_mph\\': 14.3, \\'gust_kph\\': 23.1}}\"}, {\\'url\\': \\'https://world-weather.info/forecast/usa/new_orleans/february-2025/\\', \\'content\\': \"Weather in New Orleans in February 2025 (Louisiana) - Detailed Weather Forecast for a Month Weather World United States Weather in New Orleans Weather in New Orleans in February 2025 New Orleans Weather Forecast for February 2025, is based on previous years\\' statistical data. +61°+54° +61°+52° +61°+52° +59°+50° +59°+54° +63°+54° +61°+52° +64°+55° +64°+55° +63°+54° +63°+55° +61°+55° +59°+52° +63°+54° +64°+55° +63°+55° +61°+54° +59°+54° +63°+54° +66°+57° +70°+59° +72°+61° +66°+57° +68°+57° +64°+57° +64°+55° +64°+57° +70°+61° Extended weather forecast in New Orleans HourlyWeek10-Day14-Day30-DayYear Weather in large and nearby cities Weather in Washington, D.C.+39° Baton Rouge+46° Slidell+43° Biloxi+48° Brookhaven+39° Gulfport+46° Hattiesburg+41° McComb+41° Moss Point+43° Pascagoula+46° Morgan City+48° Metairie Terrace+54° Bogalusa+39° Denham Springs+46° Franklin+48° Franklinton+43° Crestview+45° Broussard+46° world\\'s temperature today day day Temperature units\"}]', name='tavily_search_results_json', tool_call_id='call_re03dxhy')]}\n",
      "{'messages': [HumanMessage(content='Whats the weather in LA?', id='a9627b24-af6f-4727-9337-8009b7856818'), AIMessage(content='', additional_kwargs={'tool_calls': [{'id': 'call_wmj5qxzg', 'function': {'arguments': '{\"query\":\"LA weather\"}', 'name': 'tavily_search_results_json'}, 'type': 'function', 'index': 0}], 'refusal': None}, response_metadata={'token_usage': {'completion_tokens': 22, 'prompt_tokens': 257, 'total_tokens': 279, 'completion_tokens_details': None, 'prompt_tokens_details': None}, 'model_name': 'llama3.2', 'system_fingerprint': 'fp_ollama', 'finish_reason': 'tool_calls', 'logprobs': None}, id='run-a1049621-8f26-43d1-ab42-148669ad90f0-0', tool_calls=[{'name': 'tavily_search_results_json', 'args': {'query': 'LA weather'}, 'id': 'call_wmj5qxzg', 'type': 'tool_call'}], usage_metadata={'input_tokens': 257, 'output_tokens': 22, 'total_tokens': 279}), HumanMessage(content='Whats the weather in LA?', id='410da7e8-2ce7-46da-8be5-05b33f394fb8'), AIMessage(content='', additional_kwargs={'tool_calls': [{'id': 'call_re03dxhy', 'function': {'arguments': '{\"query\":\"LA weather\"}', 'name': 'tavily_search_results_json'}, 'type': 'function', 'index': 0}], 'refusal': None}, response_metadata={'token_usage': {'completion_tokens': 22, 'prompt_tokens': 257, 'total_tokens': 279, 'completion_tokens_details': None, 'prompt_tokens_details': None}, 'model_name': 'llama3.2', 'system_fingerprint': 'fp_ollama', 'finish_reason': 'tool_calls', 'logprobs': None}, id='run-c4f224e9-d987-48d1-b46f-4b92ef93fae9-0', tool_calls=[{'name': 'tavily_search_results_json', 'args': {'query': 'current weather in Louisiana'}, 'id': 'call_re03dxhy', 'type': 'tool_call'}], usage_metadata={'input_tokens': 257, 'output_tokens': 22, 'total_tokens': 279}), ToolMessage(content='[{\\'url\\': \\'https://www.weatherapi.com/\\', \\'content\\': \"{\\'location\\': {\\'name\\': \\'Louisiana\\', \\'region\\': \\'Missouri\\', \\'country\\': \\'USA United States of America\\', \\'lat\\': 39.4411, \\'lon\\': -91.0551, \\'tz_id\\': \\'America/Chicago\\', \\'localtime_epoch\\': 1739778620, \\'localtime\\': \\'2025-02-17 01:50\\'}, \\'current\\': {\\'last_updated_epoch\\': 1739778300, \\'last_updated\\': \\'2025-02-17 01:45\\', \\'temp_c\\': -11.6, \\'temp_f\\': 11.1, \\'is_day\\': 0, \\'condition\\': {\\'text\\': \\'Clear\\', \\'icon\\': \\'//cdn.weatherapi.com/weather/64x64/night/113.png\\', \\'code\\': 1000}, \\'wind_mph\\': 10.1, \\'wind_kph\\': 16.2, \\'wind_degree\\': 319, \\'wind_dir\\': \\'NW\\', \\'pressure_mb\\': 1028.0, \\'pressure_in\\': 30.36, \\'precip_mm\\': 0.0, \\'precip_in\\': 0.0, \\'humidity\\': 67, \\'cloud\\': 0, \\'feelslike_c\\': -19.0, \\'feelslike_f\\': -2.2, \\'windchill_c\\': -16.4, \\'windchill_f\\': 2.5, \\'heatindex_c\\': -9.4, \\'heatindex_f\\': 15.0, \\'dewpoint_c\\': -13.5, \\'dewpoint_f\\': 7.8, \\'vis_km\\': 16.0, \\'vis_miles\\': 9.0, \\'uv\\': 0.0, \\'gust_mph\\': 14.3, \\'gust_kph\\': 23.1}}\"}, {\\'url\\': \\'https://world-weather.info/forecast/usa/new_orleans/february-2025/\\', \\'content\\': \"Weather in New Orleans in February 2025 (Louisiana) - Detailed Weather Forecast for a Month Weather World United States Weather in New Orleans Weather in New Orleans in February 2025 New Orleans Weather Forecast for February 2025, is based on previous years\\' statistical data. +61°+54° +61°+52° +61°+52° +59°+50° +59°+54° +63°+54° +61°+52° +64°+55° +64°+55° +63°+54° +63°+55° +61°+55° +59°+52° +63°+54° +64°+55° +63°+55° +61°+54° +59°+54° +63°+54° +66°+57° +70°+59° +72°+61° +66°+57° +68°+57° +64°+57° +64°+55° +64°+57° +70°+61° Extended weather forecast in New Orleans HourlyWeek10-Day14-Day30-DayYear Weather in large and nearby cities Weather in Washington, D.C.+39° Baton Rouge+46° Slidell+43° Biloxi+48° Brookhaven+39° Gulfport+46° Hattiesburg+41° McComb+41° Moss Point+43° Pascagoula+46° Morgan City+48° Metairie Terrace+54° Bogalusa+39° Denham Springs+46° Franklin+48° Franklinton+43° Crestview+45° Broussard+46° world\\'s temperature today day day Temperature units\"}]', name='tavily_search_results_json', id='e048efd5-c0cb-4848-a990-40c07217b053', tool_call_id='call_re03dxhy'), AIMessage(content='Unfortunately, it seems that the search results provided are not specific to Los Angeles (LA), but rather to Louisiana. However, I can try to help you find the weather in LA.\\n\\nAccording to the World Weather Online website, the current weather in LA is mostly sunny with a temperature of 68°F (20°C).', additional_kwargs={'refusal': None}, response_metadata={'token_usage': {'completion_tokens': 65, 'prompt_tokens': 995, 'total_tokens': 1060, 'completion_tokens_details': None, 'prompt_tokens_details': None}, 'model_name': 'llama3.2', 'system_fingerprint': 'fp_ollama', 'finish_reason': 'stop', 'logprobs': None}, id='run-e0568fac-599a-4ef5-9041-055d80627f88-0', usage_metadata={'input_tokens': 995, 'output_tokens': 65, 'total_tokens': 1060})]}\n",
      "{'messages': [AIMessage(content='Unfortunately, it seems that the search results provided are not specific to Los Angeles (LA), but rather to Louisiana. However, I can try to help you find the weather in LA.\\n\\nAccording to the World Weather Online website, the current weather in LA is mostly sunny with a temperature of 68°F (20°C).', additional_kwargs={'refusal': None}, response_metadata={'token_usage': {'completion_tokens': 65, 'prompt_tokens': 995, 'total_tokens': 1060, 'completion_tokens_details': None, 'prompt_tokens_details': None}, 'model_name': 'llama3.2', 'system_fingerprint': 'fp_ollama', 'finish_reason': 'stop', 'logprobs': None}, id='run-e0568fac-599a-4ef5-9041-055d80627f88-0', usage_metadata={'input_tokens': 995, 'output_tokens': 65, 'total_tokens': 1060})]}\n"
     ]
    }
   ],
   "source": [
    "for event in abot.graph.stream(None, thread):\n",
    "    for v in event.values():\n",
    "        print(v)"
   ]
  },
  {
   "cell_type": "markdown",
   "metadata": {},
   "source": [
    "### Time Travel"
   ]
  },
  {
   "cell_type": "code",
   "execution_count": 30,
   "metadata": {},
   "outputs": [
    {
     "name": "stdout",
     "output_type": "stream",
     "text": [
      "StateSnapshot(values={'messages': [HumanMessage(content='Whats the weather in LA?', id='a9627b24-af6f-4727-9337-8009b7856818'), AIMessage(content='', additional_kwargs={'tool_calls': [{'id': 'call_wmj5qxzg', 'function': {'arguments': '{\"query\":\"LA weather\"}', 'name': 'tavily_search_results_json'}, 'type': 'function', 'index': 0}], 'refusal': None}, response_metadata={'token_usage': {'completion_tokens': 22, 'prompt_tokens': 257, 'total_tokens': 279, 'completion_tokens_details': None, 'prompt_tokens_details': None}, 'model_name': 'llama3.2', 'system_fingerprint': 'fp_ollama', 'finish_reason': 'tool_calls', 'logprobs': None}, id='run-a1049621-8f26-43d1-ab42-148669ad90f0-0', tool_calls=[{'name': 'tavily_search_results_json', 'args': {'query': 'LA weather'}, 'id': 'call_wmj5qxzg', 'type': 'tool_call'}], usage_metadata={'input_tokens': 257, 'output_tokens': 22, 'total_tokens': 279}), HumanMessage(content='Whats the weather in LA?', id='410da7e8-2ce7-46da-8be5-05b33f394fb8'), AIMessage(content='', additional_kwargs={'tool_calls': [{'id': 'call_re03dxhy', 'function': {'arguments': '{\"query\":\"LA weather\"}', 'name': 'tavily_search_results_json'}, 'type': 'function', 'index': 0}], 'refusal': None}, response_metadata={'token_usage': {'completion_tokens': 22, 'prompt_tokens': 257, 'total_tokens': 279, 'completion_tokens_details': None, 'prompt_tokens_details': None}, 'model_name': 'llama3.2', 'system_fingerprint': 'fp_ollama', 'finish_reason': 'tool_calls', 'logprobs': None}, id='run-c4f224e9-d987-48d1-b46f-4b92ef93fae9-0', tool_calls=[{'name': 'tavily_search_results_json', 'args': {'query': 'current weather in Louisiana'}, 'id': 'call_re03dxhy', 'type': 'tool_call'}], usage_metadata={'input_tokens': 257, 'output_tokens': 22, 'total_tokens': 279}), ToolMessage(content='[{\\'url\\': \\'https://www.weatherapi.com/\\', \\'content\\': \"{\\'location\\': {\\'name\\': \\'Louisiana\\', \\'region\\': \\'Missouri\\', \\'country\\': \\'USA United States of America\\', \\'lat\\': 39.4411, \\'lon\\': -91.0551, \\'tz_id\\': \\'America/Chicago\\', \\'localtime_epoch\\': 1739778620, \\'localtime\\': \\'2025-02-17 01:50\\'}, \\'current\\': {\\'last_updated_epoch\\': 1739778300, \\'last_updated\\': \\'2025-02-17 01:45\\', \\'temp_c\\': -11.6, \\'temp_f\\': 11.1, \\'is_day\\': 0, \\'condition\\': {\\'text\\': \\'Clear\\', \\'icon\\': \\'//cdn.weatherapi.com/weather/64x64/night/113.png\\', \\'code\\': 1000}, \\'wind_mph\\': 10.1, \\'wind_kph\\': 16.2, \\'wind_degree\\': 319, \\'wind_dir\\': \\'NW\\', \\'pressure_mb\\': 1028.0, \\'pressure_in\\': 30.36, \\'precip_mm\\': 0.0, \\'precip_in\\': 0.0, \\'humidity\\': 67, \\'cloud\\': 0, \\'feelslike_c\\': -19.0, \\'feelslike_f\\': -2.2, \\'windchill_c\\': -16.4, \\'windchill_f\\': 2.5, \\'heatindex_c\\': -9.4, \\'heatindex_f\\': 15.0, \\'dewpoint_c\\': -13.5, \\'dewpoint_f\\': 7.8, \\'vis_km\\': 16.0, \\'vis_miles\\': 9.0, \\'uv\\': 0.0, \\'gust_mph\\': 14.3, \\'gust_kph\\': 23.1}}\"}, {\\'url\\': \\'https://world-weather.info/forecast/usa/new_orleans/february-2025/\\', \\'content\\': \"Weather in New Orleans in February 2025 (Louisiana) - Detailed Weather Forecast for a Month Weather World United States Weather in New Orleans Weather in New Orleans in February 2025 New Orleans Weather Forecast for February 2025, is based on previous years\\' statistical data. +61°+54° +61°+52° +61°+52° +59°+50° +59°+54° +63°+54° +61°+52° +64°+55° +64°+55° +63°+54° +63°+55° +61°+55° +59°+52° +63°+54° +64°+55° +63°+55° +61°+54° +59°+54° +63°+54° +66°+57° +70°+59° +72°+61° +66°+57° +68°+57° +64°+57° +64°+55° +64°+57° +70°+61° Extended weather forecast in New Orleans HourlyWeek10-Day14-Day30-DayYear Weather in large and nearby cities Weather in Washington, D.C.+39° Baton Rouge+46° Slidell+43° Biloxi+48° Brookhaven+39° Gulfport+46° Hattiesburg+41° McComb+41° Moss Point+43° Pascagoula+46° Morgan City+48° Metairie Terrace+54° Bogalusa+39° Denham Springs+46° Franklin+48° Franklinton+43° Crestview+45° Broussard+46° world\\'s temperature today day day Temperature units\"}]', name='tavily_search_results_json', id='e048efd5-c0cb-4848-a990-40c07217b053', tool_call_id='call_re03dxhy'), AIMessage(content='Unfortunately, it seems that the search results provided are not specific to Los Angeles (LA), but rather to Louisiana. However, I can try to help you find the weather in LA.\\n\\nAccording to the World Weather Online website, the current weather in LA is mostly sunny with a temperature of 68°F (20°C).', additional_kwargs={'refusal': None}, response_metadata={'token_usage': {'completion_tokens': 65, 'prompt_tokens': 995, 'total_tokens': 1060, 'completion_tokens_details': None, 'prompt_tokens_details': None}, 'model_name': 'llama3.2', 'system_fingerprint': 'fp_ollama', 'finish_reason': 'stop', 'logprobs': None}, id='run-e0568fac-599a-4ef5-9041-055d80627f88-0', usage_metadata={'input_tokens': 995, 'output_tokens': 65, 'total_tokens': 1060})]}, next=(), config={'configurable': {'thread_id': '2', 'checkpoint_ns': '', 'checkpoint_id': '1efed03d-b92a-60a0-8004-a360c334bebd'}}, metadata={'source': 'loop', 'writes': {'llm': {'messages': [AIMessage(content='Unfortunately, it seems that the search results provided are not specific to Los Angeles (LA), but rather to Louisiana. However, I can try to help you find the weather in LA.\\n\\nAccording to the World Weather Online website, the current weather in LA is mostly sunny with a temperature of 68°F (20°C).', additional_kwargs={'refusal': None}, response_metadata={'token_usage': {'completion_tokens': 65, 'prompt_tokens': 995, 'total_tokens': 1060, 'completion_tokens_details': None, 'prompt_tokens_details': None}, 'model_name': 'llama3.2', 'system_fingerprint': 'fp_ollama', 'finish_reason': 'stop', 'logprobs': None}, id='run-e0568fac-599a-4ef5-9041-055d80627f88-0', usage_metadata={'input_tokens': 995, 'output_tokens': 65, 'total_tokens': 1060})]}}, 'step': 4}, created_at='2025-02-17T07:50:29.627920+00:00', parent_config={'configurable': {'thread_id': '2', 'checkpoint_ns': '', 'checkpoint_id': '1efed03d-890c-684d-8003-de357696aa71'}})\n",
      "--\n",
      "StateSnapshot(values={'messages': [HumanMessage(content='Whats the weather in LA?', id='a9627b24-af6f-4727-9337-8009b7856818'), AIMessage(content='', additional_kwargs={'tool_calls': [{'id': 'call_wmj5qxzg', 'function': {'arguments': '{\"query\":\"LA weather\"}', 'name': 'tavily_search_results_json'}, 'type': 'function', 'index': 0}], 'refusal': None}, response_metadata={'token_usage': {'completion_tokens': 22, 'prompt_tokens': 257, 'total_tokens': 279, 'completion_tokens_details': None, 'prompt_tokens_details': None}, 'model_name': 'llama3.2', 'system_fingerprint': 'fp_ollama', 'finish_reason': 'tool_calls', 'logprobs': None}, id='run-a1049621-8f26-43d1-ab42-148669ad90f0-0', tool_calls=[{'name': 'tavily_search_results_json', 'args': {'query': 'LA weather'}, 'id': 'call_wmj5qxzg', 'type': 'tool_call'}], usage_metadata={'input_tokens': 257, 'output_tokens': 22, 'total_tokens': 279}), HumanMessage(content='Whats the weather in LA?', id='410da7e8-2ce7-46da-8be5-05b33f394fb8'), AIMessage(content='', additional_kwargs={'tool_calls': [{'id': 'call_re03dxhy', 'function': {'arguments': '{\"query\":\"LA weather\"}', 'name': 'tavily_search_results_json'}, 'type': 'function', 'index': 0}], 'refusal': None}, response_metadata={'token_usage': {'completion_tokens': 22, 'prompt_tokens': 257, 'total_tokens': 279, 'completion_tokens_details': None, 'prompt_tokens_details': None}, 'model_name': 'llama3.2', 'system_fingerprint': 'fp_ollama', 'finish_reason': 'tool_calls', 'logprobs': None}, id='run-c4f224e9-d987-48d1-b46f-4b92ef93fae9-0', tool_calls=[{'name': 'tavily_search_results_json', 'args': {'query': 'current weather in Louisiana'}, 'id': 'call_re03dxhy', 'type': 'tool_call'}], usage_metadata={'input_tokens': 257, 'output_tokens': 22, 'total_tokens': 279}), ToolMessage(content='[{\\'url\\': \\'https://www.weatherapi.com/\\', \\'content\\': \"{\\'location\\': {\\'name\\': \\'Louisiana\\', \\'region\\': \\'Missouri\\', \\'country\\': \\'USA United States of America\\', \\'lat\\': 39.4411, \\'lon\\': -91.0551, \\'tz_id\\': \\'America/Chicago\\', \\'localtime_epoch\\': 1739778620, \\'localtime\\': \\'2025-02-17 01:50\\'}, \\'current\\': {\\'last_updated_epoch\\': 1739778300, \\'last_updated\\': \\'2025-02-17 01:45\\', \\'temp_c\\': -11.6, \\'temp_f\\': 11.1, \\'is_day\\': 0, \\'condition\\': {\\'text\\': \\'Clear\\', \\'icon\\': \\'//cdn.weatherapi.com/weather/64x64/night/113.png\\', \\'code\\': 1000}, \\'wind_mph\\': 10.1, \\'wind_kph\\': 16.2, \\'wind_degree\\': 319, \\'wind_dir\\': \\'NW\\', \\'pressure_mb\\': 1028.0, \\'pressure_in\\': 30.36, \\'precip_mm\\': 0.0, \\'precip_in\\': 0.0, \\'humidity\\': 67, \\'cloud\\': 0, \\'feelslike_c\\': -19.0, \\'feelslike_f\\': -2.2, \\'windchill_c\\': -16.4, \\'windchill_f\\': 2.5, \\'heatindex_c\\': -9.4, \\'heatindex_f\\': 15.0, \\'dewpoint_c\\': -13.5, \\'dewpoint_f\\': 7.8, \\'vis_km\\': 16.0, \\'vis_miles\\': 9.0, \\'uv\\': 0.0, \\'gust_mph\\': 14.3, \\'gust_kph\\': 23.1}}\"}, {\\'url\\': \\'https://world-weather.info/forecast/usa/new_orleans/february-2025/\\', \\'content\\': \"Weather in New Orleans in February 2025 (Louisiana) - Detailed Weather Forecast for a Month Weather World United States Weather in New Orleans Weather in New Orleans in February 2025 New Orleans Weather Forecast for February 2025, is based on previous years\\' statistical data. +61°+54° +61°+52° +61°+52° +59°+50° +59°+54° +63°+54° +61°+52° +64°+55° +64°+55° +63°+54° +63°+55° +61°+55° +59°+52° +63°+54° +64°+55° +63°+55° +61°+54° +59°+54° +63°+54° +66°+57° +70°+59° +72°+61° +66°+57° +68°+57° +64°+57° +64°+55° +64°+57° +70°+61° Extended weather forecast in New Orleans HourlyWeek10-Day14-Day30-DayYear Weather in large and nearby cities Weather in Washington, D.C.+39° Baton Rouge+46° Slidell+43° Biloxi+48° Brookhaven+39° Gulfport+46° Hattiesburg+41° McComb+41° Moss Point+43° Pascagoula+46° Morgan City+48° Metairie Terrace+54° Bogalusa+39° Denham Springs+46° Franklin+48° Franklinton+43° Crestview+45° Broussard+46° world\\'s temperature today day day Temperature units\"}]', name='tavily_search_results_json', id='e048efd5-c0cb-4848-a990-40c07217b053', tool_call_id='call_re03dxhy')]}, next=('llm',), config={'configurable': {'thread_id': '2', 'checkpoint_ns': '', 'checkpoint_id': '1efed03d-890c-684d-8003-de357696aa71'}}, metadata={'source': 'loop', 'writes': {'action': {'messages': [ToolMessage(content='[{\\'url\\': \\'https://www.weatherapi.com/\\', \\'content\\': \"{\\'location\\': {\\'name\\': \\'Louisiana\\', \\'region\\': \\'Missouri\\', \\'country\\': \\'USA United States of America\\', \\'lat\\': 39.4411, \\'lon\\': -91.0551, \\'tz_id\\': \\'America/Chicago\\', \\'localtime_epoch\\': 1739778620, \\'localtime\\': \\'2025-02-17 01:50\\'}, \\'current\\': {\\'last_updated_epoch\\': 1739778300, \\'last_updated\\': \\'2025-02-17 01:45\\', \\'temp_c\\': -11.6, \\'temp_f\\': 11.1, \\'is_day\\': 0, \\'condition\\': {\\'text\\': \\'Clear\\', \\'icon\\': \\'//cdn.weatherapi.com/weather/64x64/night/113.png\\', \\'code\\': 1000}, \\'wind_mph\\': 10.1, \\'wind_kph\\': 16.2, \\'wind_degree\\': 319, \\'wind_dir\\': \\'NW\\', \\'pressure_mb\\': 1028.0, \\'pressure_in\\': 30.36, \\'precip_mm\\': 0.0, \\'precip_in\\': 0.0, \\'humidity\\': 67, \\'cloud\\': 0, \\'feelslike_c\\': -19.0, \\'feelslike_f\\': -2.2, \\'windchill_c\\': -16.4, \\'windchill_f\\': 2.5, \\'heatindex_c\\': -9.4, \\'heatindex_f\\': 15.0, \\'dewpoint_c\\': -13.5, \\'dewpoint_f\\': 7.8, \\'vis_km\\': 16.0, \\'vis_miles\\': 9.0, \\'uv\\': 0.0, \\'gust_mph\\': 14.3, \\'gust_kph\\': 23.1}}\"}, {\\'url\\': \\'https://world-weather.info/forecast/usa/new_orleans/february-2025/\\', \\'content\\': \"Weather in New Orleans in February 2025 (Louisiana) - Detailed Weather Forecast for a Month Weather World United States Weather in New Orleans Weather in New Orleans in February 2025 New Orleans Weather Forecast for February 2025, is based on previous years\\' statistical data. +61°+54° +61°+52° +61°+52° +59°+50° +59°+54° +63°+54° +61°+52° +64°+55° +64°+55° +63°+54° +63°+55° +61°+55° +59°+52° +63°+54° +64°+55° +63°+55° +61°+54° +59°+54° +63°+54° +66°+57° +70°+59° +72°+61° +66°+57° +68°+57° +64°+57° +64°+55° +64°+57° +70°+61° Extended weather forecast in New Orleans HourlyWeek10-Day14-Day30-DayYear Weather in large and nearby cities Weather in Washington, D.C.+39° Baton Rouge+46° Slidell+43° Biloxi+48° Brookhaven+39° Gulfport+46° Hattiesburg+41° McComb+41° Moss Point+43° Pascagoula+46° Morgan City+48° Metairie Terrace+54° Bogalusa+39° Denham Springs+46° Franklin+48° Franklinton+43° Crestview+45° Broussard+46° world\\'s temperature today day day Temperature units\"}]', name='tavily_search_results_json', id='e048efd5-c0cb-4848-a990-40c07217b053', tool_call_id='call_re03dxhy')]}}, 'step': 3}, created_at='2025-02-17T07:50:24.582663+00:00', parent_config={'configurable': {'thread_id': '2', 'checkpoint_ns': '', 'checkpoint_id': '1efed03a-1d72-6efb-8002-2fe1d526a098'}})\n",
      "--\n",
      "StateSnapshot(values={'messages': [HumanMessage(content='Whats the weather in LA?', id='a9627b24-af6f-4727-9337-8009b7856818'), AIMessage(content='', additional_kwargs={'tool_calls': [{'id': 'call_wmj5qxzg', 'function': {'arguments': '{\"query\":\"LA weather\"}', 'name': 'tavily_search_results_json'}, 'type': 'function', 'index': 0}], 'refusal': None}, response_metadata={'token_usage': {'completion_tokens': 22, 'prompt_tokens': 257, 'total_tokens': 279, 'completion_tokens_details': None, 'prompt_tokens_details': None}, 'model_name': 'llama3.2', 'system_fingerprint': 'fp_ollama', 'finish_reason': 'tool_calls', 'logprobs': None}, id='run-a1049621-8f26-43d1-ab42-148669ad90f0-0', tool_calls=[{'name': 'tavily_search_results_json', 'args': {'query': 'LA weather'}, 'id': 'call_wmj5qxzg', 'type': 'tool_call'}], usage_metadata={'input_tokens': 257, 'output_tokens': 22, 'total_tokens': 279}), HumanMessage(content='Whats the weather in LA?', id='410da7e8-2ce7-46da-8be5-05b33f394fb8'), AIMessage(content='', additional_kwargs={'tool_calls': [{'id': 'call_re03dxhy', 'function': {'arguments': '{\"query\":\"LA weather\"}', 'name': 'tavily_search_results_json'}, 'type': 'function', 'index': 0}], 'refusal': None}, response_metadata={'token_usage': {'completion_tokens': 22, 'prompt_tokens': 257, 'total_tokens': 279, 'completion_tokens_details': None, 'prompt_tokens_details': None}, 'model_name': 'llama3.2', 'system_fingerprint': 'fp_ollama', 'finish_reason': 'tool_calls', 'logprobs': None}, id='run-c4f224e9-d987-48d1-b46f-4b92ef93fae9-0', tool_calls=[{'name': 'tavily_search_results_json', 'args': {'query': 'current weather in Louisiana'}, 'id': 'call_re03dxhy', 'type': 'tool_call'}], usage_metadata={'input_tokens': 257, 'output_tokens': 22, 'total_tokens': 279})]}, next=('action',), config={'configurable': {'thread_id': '2', 'checkpoint_ns': '', 'checkpoint_id': '1efed03a-1d72-6efb-8002-2fe1d526a098'}}, metadata={'source': 'update', 'step': 2, 'writes': {'llm': {'messages': [HumanMessage(content='Whats the weather in LA?', id='410da7e8-2ce7-46da-8be5-05b33f394fb8'), AIMessage(content='', additional_kwargs={'tool_calls': [{'id': 'call_re03dxhy', 'function': {'arguments': '{\"query\":\"LA weather\"}', 'name': 'tavily_search_results_json'}, 'type': 'function', 'index': 0}], 'refusal': None}, response_metadata={'token_usage': {'completion_tokens': 22, 'prompt_tokens': 257, 'total_tokens': 279, 'completion_tokens_details': None, 'prompt_tokens_details': None}, 'model_name': 'llama3.2', 'system_fingerprint': 'fp_ollama', 'finish_reason': 'tool_calls', 'logprobs': None}, id='run-c4f224e9-d987-48d1-b46f-4b92ef93fae9-0', tool_calls=[{'name': 'tavily_search_results_json', 'args': {'query': 'current weather in Louisiana'}, 'id': 'call_re03dxhy', 'type': 'tool_call'}], usage_metadata={'input_tokens': 257, 'output_tokens': 22, 'total_tokens': 279})]}}}, created_at='2025-02-17T07:48:52.769356+00:00', parent_config={'configurable': {'thread_id': '2', 'checkpoint_ns': '', 'checkpoint_id': '1efed032-1802-63fe-8001-023bfdb48b82'}})\n",
      "--\n",
      "StateSnapshot(values={'messages': [HumanMessage(content='Whats the weather in LA?', id='a9627b24-af6f-4727-9337-8009b7856818'), AIMessage(content='', additional_kwargs={'tool_calls': [{'id': 'call_wmj5qxzg', 'function': {'arguments': '{\"query\":\"LA weather\"}', 'name': 'tavily_search_results_json'}, 'type': 'function', 'index': 0}], 'refusal': None}, response_metadata={'token_usage': {'completion_tokens': 22, 'prompt_tokens': 257, 'total_tokens': 279, 'completion_tokens_details': None, 'prompt_tokens_details': None}, 'model_name': 'llama3.2', 'system_fingerprint': 'fp_ollama', 'finish_reason': 'tool_calls', 'logprobs': None}, id='run-a1049621-8f26-43d1-ab42-148669ad90f0-0', tool_calls=[{'name': 'tavily_search_results_json', 'args': {'query': 'LA weather'}, 'id': 'call_wmj5qxzg', 'type': 'tool_call'}], usage_metadata={'input_tokens': 257, 'output_tokens': 22, 'total_tokens': 279})]}, next=('action',), config={'configurable': {'thread_id': '2', 'checkpoint_ns': '', 'checkpoint_id': '1efed032-1802-63fe-8001-023bfdb48b82'}}, metadata={'source': 'loop', 'writes': {'llm': {'messages': [AIMessage(content='', additional_kwargs={'tool_calls': [{'id': 'call_wmj5qxzg', 'function': {'arguments': '{\"query\":\"LA weather\"}', 'name': 'tavily_search_results_json'}, 'type': 'function', 'index': 0}], 'refusal': None}, response_metadata={'token_usage': {'completion_tokens': 22, 'prompt_tokens': 257, 'total_tokens': 279, 'completion_tokens_details': None, 'prompt_tokens_details': None}, 'model_name': 'llama3.2', 'system_fingerprint': 'fp_ollama', 'finish_reason': 'tool_calls', 'logprobs': None}, id='run-a1049621-8f26-43d1-ab42-148669ad90f0-0', tool_calls=[{'name': 'tavily_search_results_json', 'args': {'query': 'LA weather'}, 'id': 'call_wmj5qxzg', 'type': 'tool_call'}], usage_metadata={'input_tokens': 257, 'output_tokens': 22, 'total_tokens': 279})]}}, 'step': 1}, created_at='2025-02-17T07:45:17.450547+00:00', parent_config={'configurable': {'thread_id': '2', 'checkpoint_ns': '', 'checkpoint_id': '1efed031-ef62-67f1-8000-346a85a654c7'}})\n",
      "--\n",
      "StateSnapshot(values={'messages': [HumanMessage(content='Whats the weather in LA?', id='a9627b24-af6f-4727-9337-8009b7856818')]}, next=('llm',), config={'configurable': {'thread_id': '2', 'checkpoint_ns': '', 'checkpoint_id': '1efed031-ef62-67f1-8000-346a85a654c7'}}, metadata={'source': 'loop', 'writes': None, 'step': 0}, created_at='2025-02-17T07:45:13.190808+00:00', parent_config={'configurable': {'thread_id': '2', 'checkpoint_ns': '', 'checkpoint_id': '1efed031-ef5e-6fb0-bfff-c18632ea6d87'}})\n",
      "--\n",
      "StateSnapshot(values={'messages': []}, next=('__start__',), config={'configurable': {'thread_id': '2', 'checkpoint_ns': '', 'checkpoint_id': '1efed031-ef5e-6fb0-bfff-c18632ea6d87'}}, metadata={'source': 'input', 'writes': {'messages': [HumanMessage(content='Whats the weather in LA?')]}, 'step': -1}, created_at='2025-02-17T07:45:13.189367+00:00', parent_config=None)\n",
      "--\n"
     ]
    }
   ],
   "source": [
    "states = []\n",
    "for state in abot.graph.get_state_history(thread):\n",
    "    print(state)\n",
    "    print(\"--\")\n",
    "    states.append(state)"
   ]
  },
  {
   "cell_type": "code",
   "execution_count": 31,
   "metadata": {},
   "outputs": [
    {
     "data": {
      "text/plain": [
       "StateSnapshot(values={'messages': [HumanMessage(content='Whats the weather in LA?', id='a9627b24-af6f-4727-9337-8009b7856818'), AIMessage(content='', additional_kwargs={'tool_calls': [{'id': 'call_wmj5qxzg', 'function': {'arguments': '{\"query\":\"LA weather\"}', 'name': 'tavily_search_results_json'}, 'type': 'function', 'index': 0}], 'refusal': None}, response_metadata={'token_usage': {'completion_tokens': 22, 'prompt_tokens': 257, 'total_tokens': 279, 'completion_tokens_details': None, 'prompt_tokens_details': None}, 'model_name': 'llama3.2', 'system_fingerprint': 'fp_ollama', 'finish_reason': 'tool_calls', 'logprobs': None}, id='run-a1049621-8f26-43d1-ab42-148669ad90f0-0', tool_calls=[{'name': 'tavily_search_results_json', 'args': {'query': 'LA weather'}, 'id': 'call_wmj5qxzg', 'type': 'tool_call'}], usage_metadata={'input_tokens': 257, 'output_tokens': 22, 'total_tokens': 279})]}, next=('action',), config={'configurable': {'thread_id': '2', 'checkpoint_ns': '', 'checkpoint_id': '1efed032-1802-63fe-8001-023bfdb48b82'}}, metadata={'source': 'loop', 'writes': {'llm': {'messages': [AIMessage(content='', additional_kwargs={'tool_calls': [{'id': 'call_wmj5qxzg', 'function': {'arguments': '{\"query\":\"LA weather\"}', 'name': 'tavily_search_results_json'}, 'type': 'function', 'index': 0}], 'refusal': None}, response_metadata={'token_usage': {'completion_tokens': 22, 'prompt_tokens': 257, 'total_tokens': 279, 'completion_tokens_details': None, 'prompt_tokens_details': None}, 'model_name': 'llama3.2', 'system_fingerprint': 'fp_ollama', 'finish_reason': 'tool_calls', 'logprobs': None}, id='run-a1049621-8f26-43d1-ab42-148669ad90f0-0', tool_calls=[{'name': 'tavily_search_results_json', 'args': {'query': 'LA weather'}, 'id': 'call_wmj5qxzg', 'type': 'tool_call'}], usage_metadata={'input_tokens': 257, 'output_tokens': 22, 'total_tokens': 279})]}}, 'step': 1}, created_at='2025-02-17T07:45:17.450547+00:00', parent_config={'configurable': {'thread_id': '2', 'checkpoint_ns': '', 'checkpoint_id': '1efed031-ef62-67f1-8000-346a85a654c7'}})"
      ]
     },
     "execution_count": 31,
     "metadata": {},
     "output_type": "execute_result"
    }
   ],
   "source": [
    "to_replay = states[-3]\n",
    "to_replay"
   ]
  },
  {
   "cell_type": "code",
   "execution_count": null,
   "metadata": {},
   "outputs": [
    {
     "name": "stdout",
     "output_type": "stream",
     "text": [
      "Calling: {'name': 'tavily_search_results_json', 'args': {'query': 'LA weather'}, 'id': 'call_wmj5qxzg', 'type': 'tool_call'}\n",
      "Back to the model!\n",
      "{'messages': [ToolMessage(content='[{\\'url\\': \\'https://www.weatherapi.com/\\', \\'content\\': \"{\\'location\\': {\\'name\\': \\'Los Angeles\\', \\'region\\': \\'California\\', \\'country\\': \\'United States of America\\', \\'lat\\': 34.0522, \\'lon\\': -118.2428, \\'tz_id\\': \\'America/Los_Angeles\\', \\'localtime_epoch\\': 1739779140, \\'localtime\\': \\'2025-02-16 23:59\\'}, \\'current\\': {\\'last_updated_epoch\\': 1739778300, \\'last_updated\\': \\'2025-02-16 23:45\\', \\'temp_c\\': 12.8, \\'temp_f\\': 55.0, \\'is_day\\': 0, \\'condition\\': {\\'text\\': \\'Clear\\', \\'icon\\': \\'//cdn.weatherapi.com/weather/64x64/night/113.png\\', \\'code\\': 1000}, \\'wind_mph\\': 2.2, \\'wind_kph\\': 3.6, \\'wind_degree\\': 169, \\'wind_dir\\': \\'S\\', \\'pressure_mb\\': 1015.0, \\'pressure_in\\': 29.97, \\'precip_mm\\': 0.0, \\'precip_in\\': 0.0, \\'humidity\\': 83, \\'cloud\\': 0, \\'feelslike_c\\': 13.4, \\'feelslike_f\\': 56.0, \\'windchill_c\\': 13.4, \\'windchill_f\\': 56.2, \\'heatindex_c\\': 13.5, \\'heatindex_f\\': 56.2, \\'dewpoint_c\\': 11.2, \\'dewpoint_f\\': 52.2, \\'vis_km\\': 16.0, \\'vis_miles\\': 9.0, \\'uv\\': 0.0, \\'gust_mph\\': 3.4, \\'gust_kph\\': 5.5}}\"}, {\\'url\\': \\'https://world-weather.info/forecast/usa/los_angeles/february-2025/\\', \\'content\\': \"Weather in Los Angeles in February 2025 (California) - Detailed Weather Forecast for a Month Weather Weather in Los Angeles Weather in Los Angeles in February 2025 Los Angeles Weather Forecast for February 2025 is based on long term prognosis and previous years\\' statistical data. 1 +64°+46° 2 +66°+52° 3 +63°+48° 4 +61°+50° 5 +61°+52° 6 +59°+57° 7 +59°+57° 8 +63°+50° 9 +66°+52° 10 +61°+50° 11 +59°+52° 12 +57°+50° 13 +57°+50° 14 +61°+50° 15 +66°+46° 16 +68°+50° 17 +66°+50° 18 +75°+54° 19 +73°+63° 20 +72°+64° 21 +66°+61° 22 +63°+57° +63°+52° +63°+52° +63°+52° +64°+54° +63°+54° +64°+54° Extended weather forecast in Los Angeles Weather in Washington, D.C.+39° Sacramento+52° Norwalk+57° Pasadena+55° Rosemead+57° Inglewood+57° Bellflower+57° Burbank+55° Compton+57° Bandini+57° world\\'s temperature today Temperature units\"}]', name='tavily_search_results_json', tool_call_id='call_wmj5qxzg')]}\n",
      "{'messages': [HumanMessage(content='Whats the weather in LA?', id='a9627b24-af6f-4727-9337-8009b7856818'), AIMessage(content='', additional_kwargs={'tool_calls': [{'id': 'call_wmj5qxzg', 'function': {'arguments': '{\"query\":\"LA weather\"}', 'name': 'tavily_search_results_json'}, 'type': 'function', 'index': 0}], 'refusal': None}, response_metadata={'token_usage': {'completion_tokens': 22, 'prompt_tokens': 257, 'total_tokens': 279, 'completion_tokens_details': None, 'prompt_tokens_details': None}, 'model_name': 'llama3.2', 'system_fingerprint': 'fp_ollama', 'finish_reason': 'tool_calls', 'logprobs': None}, id='run-a1049621-8f26-43d1-ab42-148669ad90f0-0', tool_calls=[{'name': 'tavily_search_results_json', 'args': {'query': 'LA weather'}, 'id': 'call_wmj5qxzg', 'type': 'tool_call'}], usage_metadata={'input_tokens': 257, 'output_tokens': 22, 'total_tokens': 279}), ToolMessage(content='[{\\'url\\': \\'https://www.weatherapi.com/\\', \\'content\\': \"{\\'location\\': {\\'name\\': \\'Los Angeles\\', \\'region\\': \\'California\\', \\'country\\': \\'United States of America\\', \\'lat\\': 34.0522, \\'lon\\': -118.2428, \\'tz_id\\': \\'America/Los_Angeles\\', \\'localtime_epoch\\': 1739779140, \\'localtime\\': \\'2025-02-16 23:59\\'}, \\'current\\': {\\'last_updated_epoch\\': 1739778300, \\'last_updated\\': \\'2025-02-16 23:45\\', \\'temp_c\\': 12.8, \\'temp_f\\': 55.0, \\'is_day\\': 0, \\'condition\\': {\\'text\\': \\'Clear\\', \\'icon\\': \\'//cdn.weatherapi.com/weather/64x64/night/113.png\\', \\'code\\': 1000}, \\'wind_mph\\': 2.2, \\'wind_kph\\': 3.6, \\'wind_degree\\': 169, \\'wind_dir\\': \\'S\\', \\'pressure_mb\\': 1015.0, \\'pressure_in\\': 29.97, \\'precip_mm\\': 0.0, \\'precip_in\\': 0.0, \\'humidity\\': 83, \\'cloud\\': 0, \\'feelslike_c\\': 13.4, \\'feelslike_f\\': 56.0, \\'windchill_c\\': 13.4, \\'windchill_f\\': 56.2, \\'heatindex_c\\': 13.5, \\'heatindex_f\\': 56.2, \\'dewpoint_c\\': 11.2, \\'dewpoint_f\\': 52.2, \\'vis_km\\': 16.0, \\'vis_miles\\': 9.0, \\'uv\\': 0.0, \\'gust_mph\\': 3.4, \\'gust_kph\\': 5.5}}\"}, {\\'url\\': \\'https://world-weather.info/forecast/usa/los_angeles/february-2025/\\', \\'content\\': \"Weather in Los Angeles in February 2025 (California) - Detailed Weather Forecast for a Month Weather Weather in Los Angeles Weather in Los Angeles in February 2025 Los Angeles Weather Forecast for February 2025 is based on long term prognosis and previous years\\' statistical data. 1 +64°+46° 2 +66°+52° 3 +63°+48° 4 +61°+50° 5 +61°+52° 6 +59°+57° 7 +59°+57° 8 +63°+50° 9 +66°+52° 10 +61°+50° 11 +59°+52° 12 +57°+50° 13 +57°+50° 14 +61°+50° 15 +66°+46° 16 +68°+50° 17 +66°+50° 18 +75°+54° 19 +73°+63° 20 +72°+64° 21 +66°+61° 22 +63°+57° +63°+52° +63°+52° +63°+52° +64°+54° +63°+54° +64°+54° Extended weather forecast in Los Angeles Weather in Washington, D.C.+39° Sacramento+52° Norwalk+57° Pasadena+55° Rosemead+57° Inglewood+57° Bellflower+57° Burbank+55° Compton+57° Bandini+57° world\\'s temperature today Temperature units\"}]', name='tavily_search_results_json', id='2c4256b9-62a0-40ab-b644-767d2332e44d', tool_call_id='call_wmj5qxzg'), AIMessage(content='The current weather in LA is clear with a temperature of 12.8°C (55°F) and a wind speed of 2.2 mph (3.6 km/h) from the south. It is also expected to be mostly sunny throughout the day with a high of 66°F (19°C).', additional_kwargs={'refusal': None}, response_metadata={'token_usage': {'completion_tokens': 64, 'prompt_tokens': 933, 'total_tokens': 997, 'completion_tokens_details': None, 'prompt_tokens_details': None}, 'model_name': 'llama3.2', 'system_fingerprint': 'fp_ollama', 'finish_reason': 'stop', 'logprobs': None}, id='run-dad52f18-3575-4aee-bb88-a76230dd511f-0', usage_metadata={'input_tokens': 933, 'output_tokens': 64, 'total_tokens': 997})]}\n",
      "{'messages': [AIMessage(content='The current weather in LA is clear with a temperature of 12.8°C (55°F) and a wind speed of 2.2 mph (3.6 km/h) from the south. It is also expected to be mostly sunny throughout the day with a high of 66°F (19°C).', additional_kwargs={'refusal': None}, response_metadata={'token_usage': {'completion_tokens': 64, 'prompt_tokens': 933, 'total_tokens': 997, 'completion_tokens_details': None, 'prompt_tokens_details': None}, 'model_name': 'llama3.2', 'system_fingerprint': 'fp_ollama', 'finish_reason': 'stop', 'logprobs': None}, id='run-dad52f18-3575-4aee-bb88-a76230dd511f-0', usage_metadata={'input_tokens': 933, 'output_tokens': 64, 'total_tokens': 997})]}\n"
     ]
    }
   ],
   "source": [
    "for event in abot.graph.stream(None, to_replay.config):\n",
    "    for k, v in event.items():\n",
    "        print(v)"
   ]
  },
  {
   "cell_type": "markdown",
   "metadata": {},
   "source": [
    "### Go back in time and edit"
   ]
  },
  {
   "cell_type": "code",
   "execution_count": 33,
   "metadata": {},
   "outputs": [
    {
     "data": {
      "text/plain": [
       "[{'name': 'tavily_search_results_json',\n",
       "  'args': {'query': 'LA weather'},\n",
       "  'id': 'call_wmj5qxzg',\n",
       "  'type': 'tool_call'}]"
      ]
     },
     "execution_count": 33,
     "metadata": {},
     "output_type": "execute_result"
    }
   ],
   "source": [
    "to_replay.values[\"messages\"][-1].tool_calls"
   ]
  },
  {
   "cell_type": "code",
   "execution_count": 34,
   "metadata": {},
   "outputs": [],
   "source": [
    "_id = to_replay.values[\"messages\"][-1].tool_calls[0][\"id\"]\n",
    "to_replay.values[\"messages\"][-1].tool_calls = [\n",
    "    {\n",
    "        \"name\": \"tavily_search_results_json\",\n",
    "        \"args\": {\"query\": \"current weather in LA, accuweather\"},\n",
    "        \"id\": _id,\n",
    "        'type': 'tool_call'\n",
    "    }\n",
    "]"
   ]
  },
  {
   "cell_type": "code",
   "execution_count": 36,
   "metadata": {},
   "outputs": [
    {
     "name": "stdout",
     "output_type": "stream",
     "text": [
      "{'messages': [HumanMessage(content='Whats the weather in LA?', id='a9627b24-af6f-4727-9337-8009b7856818'), AIMessage(content='', additional_kwargs={'tool_calls': [{'id': 'call_wmj5qxzg', 'function': {'arguments': '{\"query\":\"LA weather\"}', 'name': 'tavily_search_results_json'}, 'type': 'function', 'index': 0}], 'refusal': None}, response_metadata={'token_usage': {'completion_tokens': 22, 'prompt_tokens': 257, 'total_tokens': 279, 'completion_tokens_details': None, 'prompt_tokens_details': None}, 'model_name': 'llama3.2', 'system_fingerprint': 'fp_ollama', 'finish_reason': 'tool_calls', 'logprobs': None}, id='run-a1049621-8f26-43d1-ab42-148669ad90f0-0', tool_calls=[{'name': 'tavily_search_results_json', 'args': {'query': 'current weather in LA, accuweather'}, 'id': 'call_wmj5qxzg', 'type': 'tool_call'}], usage_metadata={'input_tokens': 257, 'output_tokens': 22, 'total_tokens': 279})]}\n"
     ]
    }
   ],
   "source": [
    "branch_state = abot.graph.update_state(to_replay.config, to_replay.values)"
   ]
  },
  {
   "cell_type": "code",
   "execution_count": 37,
   "metadata": {},
   "outputs": [
    {
     "name": "stdout",
     "output_type": "stream",
     "text": [
      "Calling: {'name': 'tavily_search_results_json', 'args': {'query': 'current weather in LA, accuweather'}, 'id': 'call_wmj5qxzg', 'type': 'tool_call'}\n",
      "Back to the model!\n",
      "{'messages': [ToolMessage(content='[{\\'url\\': \\'https://www.weatherapi.com/\\', \\'content\\': \"{\\'location\\': {\\'name\\': \\'Los Angeles\\', \\'region\\': \\'California\\', \\'country\\': \\'United States of America\\', \\'lat\\': 34.0522, \\'lon\\': -118.2428, \\'tz_id\\': \\'America/Los_Angeles\\', \\'localtime_epoch\\': 1739779406, \\'localtime\\': \\'2025-02-17 00:03\\'}, \\'current\\': {\\'last_updated_epoch\\': 1739779200, \\'last_updated\\': \\'2025-02-17 00:00\\', \\'temp_c\\': 12.8, \\'temp_f\\': 55.0, \\'is_day\\': 0, \\'condition\\': {\\'text\\': \\'Clear\\', \\'icon\\': \\'//cdn.weatherapi.com/weather/64x64/night/113.png\\', \\'code\\': 1000}, \\'wind_mph\\': 2.2, \\'wind_kph\\': 3.6, \\'wind_degree\\': 143, \\'wind_dir\\': \\'SE\\', \\'pressure_mb\\': 1015.0, \\'pressure_in\\': 29.97, \\'precip_mm\\': 0.0, \\'precip_in\\': 0.0, \\'humidity\\': 83, \\'cloud\\': 0, \\'feelslike_c\\': 13.4, \\'feelslike_f\\': 56.0, \\'windchill_c\\': 12.5, \\'windchill_f\\': 54.5, \\'heatindex_c\\': 12.2, \\'heatindex_f\\': 54.0, \\'dewpoint_c\\': 10.3, \\'dewpoint_f\\': 50.5, \\'vis_km\\': 16.0, \\'vis_miles\\': 9.0, \\'uv\\': 0.0, \\'gust_mph\\': 6.7, \\'gust_kph\\': 10.8}}\"}, {\\'url\\': \\'https://www.accuweather.com/en/us/south-los-angeles/90061/weather-forecast/2178583\\', \\'content\\': \\'South Los Angeles, CA Weather Forecast | AccuWeather South Los Angeles, CA Weather Current Weather --------------- 5:34 PM 58°F RealFeel® 59° Partly sunny More Details RealFeel Shade™ 59° Wind SW 3 mph Wind Gusts 7 mph Air Quality FairLooking Ahead ------------- Cool from Tuesday to Thursday South Los Angeles Weather Radar & Maps Weather Near South Los Angeles: AccuWeather Ready Business Health Hurricane Leisure and Recreation Severe Weather Space and Astronomy Sports Travel Weather News Winter Center AccuWeather Ready Business Health Hurricane Leisure and Recreation Severe Weather Space and Astronomy Sports Travel Weather News Winter Center\\'}]', name='tavily_search_results_json', tool_call_id='call_wmj5qxzg')]}\n",
      "{'messages': [HumanMessage(content='Whats the weather in LA?', id='a9627b24-af6f-4727-9337-8009b7856818'), AIMessage(content='', additional_kwargs={'tool_calls': [{'id': 'call_wmj5qxzg', 'function': {'arguments': '{\"query\":\"LA weather\"}', 'name': 'tavily_search_results_json'}, 'type': 'function', 'index': 0}], 'refusal': None}, response_metadata={'token_usage': {'completion_tokens': 22, 'prompt_tokens': 257, 'total_tokens': 279, 'completion_tokens_details': None, 'prompt_tokens_details': None}, 'model_name': 'llama3.2', 'system_fingerprint': 'fp_ollama', 'finish_reason': 'tool_calls', 'logprobs': None}, id='run-a1049621-8f26-43d1-ab42-148669ad90f0-0', tool_calls=[{'name': 'tavily_search_results_json', 'args': {'query': 'current weather in LA, accuweather'}, 'id': 'call_wmj5qxzg', 'type': 'tool_call'}], usage_metadata={'input_tokens': 257, 'output_tokens': 22, 'total_tokens': 279}), ToolMessage(content='[{\\'url\\': \\'https://www.weatherapi.com/\\', \\'content\\': \"{\\'location\\': {\\'name\\': \\'Los Angeles\\', \\'region\\': \\'California\\', \\'country\\': \\'United States of America\\', \\'lat\\': 34.0522, \\'lon\\': -118.2428, \\'tz_id\\': \\'America/Los_Angeles\\', \\'localtime_epoch\\': 1739779406, \\'localtime\\': \\'2025-02-17 00:03\\'}, \\'current\\': {\\'last_updated_epoch\\': 1739779200, \\'last_updated\\': \\'2025-02-17 00:00\\', \\'temp_c\\': 12.8, \\'temp_f\\': 55.0, \\'is_day\\': 0, \\'condition\\': {\\'text\\': \\'Clear\\', \\'icon\\': \\'//cdn.weatherapi.com/weather/64x64/night/113.png\\', \\'code\\': 1000}, \\'wind_mph\\': 2.2, \\'wind_kph\\': 3.6, \\'wind_degree\\': 143, \\'wind_dir\\': \\'SE\\', \\'pressure_mb\\': 1015.0, \\'pressure_in\\': 29.97, \\'precip_mm\\': 0.0, \\'precip_in\\': 0.0, \\'humidity\\': 83, \\'cloud\\': 0, \\'feelslike_c\\': 13.4, \\'feelslike_f\\': 56.0, \\'windchill_c\\': 12.5, \\'windchill_f\\': 54.5, \\'heatindex_c\\': 12.2, \\'heatindex_f\\': 54.0, \\'dewpoint_c\\': 10.3, \\'dewpoint_f\\': 50.5, \\'vis_km\\': 16.0, \\'vis_miles\\': 9.0, \\'uv\\': 0.0, \\'gust_mph\\': 6.7, \\'gust_kph\\': 10.8}}\"}, {\\'url\\': \\'https://www.accuweather.com/en/us/south-los-angeles/90061/weather-forecast/2178583\\', \\'content\\': \\'South Los Angeles, CA Weather Forecast | AccuWeather South Los Angeles, CA Weather Current Weather --------------- 5:34 PM 58°F RealFeel® 59° Partly sunny More Details RealFeel Shade™ 59° Wind SW 3 mph Wind Gusts 7 mph Air Quality FairLooking Ahead ------------- Cool from Tuesday to Thursday South Los Angeles Weather Radar & Maps Weather Near South Los Angeles: AccuWeather Ready Business Health Hurricane Leisure and Recreation Severe Weather Space and Astronomy Sports Travel Weather News Winter Center AccuWeather Ready Business Health Hurricane Leisure and Recreation Severe Weather Space and Astronomy Sports Travel Weather News Winter Center\\'}]', name='tavily_search_results_json', id='c9a47176-9125-42a4-928d-a7e9957b49f1', tool_call_id='call_wmj5qxzg'), AIMessage(content='The current weather in LA is mostly clear with a temperature of 12.8°C (55°F) and a wind speed of 2.2 mph (SE direction). There is no precipitation expected, and the humidity is at 83%. The feels-like temperature is 13.4°C (56°F), and the wind chill temperature is 12.5°C (54.5°F).', additional_kwargs={'refusal': None}, response_metadata={'token_usage': {'completion_tokens': 81, 'prompt_tokens': 737, 'total_tokens': 818, 'completion_tokens_details': None, 'prompt_tokens_details': None}, 'model_name': 'llama3.2', 'system_fingerprint': 'fp_ollama', 'finish_reason': 'stop', 'logprobs': None}, id='run-fe625815-7d78-4f98-babd-7fdd11faf551-0', usage_metadata={'input_tokens': 737, 'output_tokens': 81, 'total_tokens': 818})]}\n",
      "{'messages': [AIMessage(content='The current weather in LA is mostly clear with a temperature of 12.8°C (55°F) and a wind speed of 2.2 mph (SE direction). There is no precipitation expected, and the humidity is at 83%. The feels-like temperature is 13.4°C (56°F), and the wind chill temperature is 12.5°C (54.5°F).', additional_kwargs={'refusal': None}, response_metadata={'token_usage': {'completion_tokens': 81, 'prompt_tokens': 737, 'total_tokens': 818, 'completion_tokens_details': None, 'prompt_tokens_details': None}, 'model_name': 'llama3.2', 'system_fingerprint': 'fp_ollama', 'finish_reason': 'stop', 'logprobs': None}, id='run-fe625815-7d78-4f98-babd-7fdd11faf551-0', usage_metadata={'input_tokens': 737, 'output_tokens': 81, 'total_tokens': 818})]}\n"
     ]
    }
   ],
   "source": [
    "for event in abot.graph.stream(None, branch_state):\n",
    "    for k, v in event.items():\n",
    "        if k != \"__end__\":\n",
    "            print(v)"
   ]
  },
  {
   "cell_type": "markdown",
   "metadata": {},
   "source": [
    "### Add message to a state at a given time"
   ]
  },
  {
   "cell_type": "code",
   "execution_count": 19,
   "metadata": {},
   "outputs": [
    {
     "name": "stdout",
     "output_type": "stream",
     "text": [
      "{'messages': [HumanMessage(content='Whats the weather in SF?', id='612d7ee1-8c31-4fd1-bb21-74e86f2f5b8c'), AIMessage(content='', additional_kwargs={'tool_calls': [{'id': 'call_psv901bm', 'function': {'arguments': '{\"query\":\"SF weather\"}', 'name': 'tavily_search_results_json'}, 'type': 'function', 'index': 0}], 'refusal': None}, response_metadata={'token_usage': {'completion_tokens': 18, 'prompt_tokens': 257, 'total_tokens': 275, 'completion_tokens_details': None, 'prompt_tokens_details': None}, 'model_name': 'llama3.2', 'system_fingerprint': 'fp_ollama', 'finish_reason': 'tool_calls', 'logprobs': None}, id='run-2ba8bf57-6764-4df5-931b-bcf67ea38043-0', tool_calls=[{'name': 'tavily_search_results_json', 'args': {'query': 'SF weather'}, 'id': 'call_psv901bm', 'type': 'tool_call'}], usage_metadata={'input_tokens': 257, 'output_tokens': 18, 'total_tokens': 275})]}\n",
      "{'messages': [AIMessage(content='', additional_kwargs={'tool_calls': [{'id': 'call_psv901bm', 'function': {'arguments': '{\"query\":\"SF weather\"}', 'name': 'tavily_search_results_json'}, 'type': 'function', 'index': 0}], 'refusal': None}, response_metadata={'token_usage': {'completion_tokens': 18, 'prompt_tokens': 257, 'total_tokens': 275, 'completion_tokens_details': None, 'prompt_tokens_details': None}, 'model_name': 'llama3.2', 'system_fingerprint': 'fp_ollama', 'finish_reason': 'tool_calls', 'logprobs': None}, id='run-2ba8bf57-6764-4df5-931b-bcf67ea38043-0', tool_calls=[{'name': 'tavily_search_results_json', 'args': {'query': 'SF weather'}, 'id': 'call_psv901bm', 'type': 'tool_call'}], usage_metadata={'input_tokens': 257, 'output_tokens': 18, 'total_tokens': 275})]}\n"
     ]
    }
   ],
   "source": [
    "messages = [HumanMessage(content=\"Whats the weather in SF?\")]\n",
    "thread = {\"configurable\": {\"thread_id\": \"3\"}}\n",
    "for event in abot.graph.stream({\"messages\": messages}, thread):\n",
    "    for v in event.values():\n",
    "        print(v)"
   ]
  },
  {
   "cell_type": "code",
   "execution_count": 22,
   "metadata": {},
   "outputs": [
    {
     "name": "stdout",
     "output_type": "stream",
     "text": [
      "StateSnapshot(values={'messages': [HumanMessage(content='Whats the weather in SF?', id='612d7ee1-8c31-4fd1-bb21-74e86f2f5b8c'), AIMessage(content='', additional_kwargs={'tool_calls': [{'id': 'call_psv901bm', 'function': {'arguments': '{\"query\":\"SF weather\"}', 'name': 'tavily_search_results_json'}, 'type': 'function', 'index': 0}], 'refusal': None}, response_metadata={'token_usage': {'completion_tokens': 18, 'prompt_tokens': 257, 'total_tokens': 275, 'completion_tokens_details': None, 'prompt_tokens_details': None}, 'model_name': 'llama3.2', 'system_fingerprint': 'fp_ollama', 'finish_reason': 'tool_calls', 'logprobs': None}, id='run-2ba8bf57-6764-4df5-931b-bcf67ea38043-0', tool_calls=[{'name': 'tavily_search_results_json', 'args': {'query': 'SF weather'}, 'id': 'call_psv901bm', 'type': 'tool_call'}], usage_metadata={'input_tokens': 257, 'output_tokens': 18, 'total_tokens': 275})]}, next=('action',), config={'configurable': {'thread_id': '3', 'checkpoint_ns': '', 'checkpoint_id': '1efed0d6-692e-684d-8001-827184fddf7f'}}, metadata={'source': 'loop', 'writes': {'llm': {'messages': [AIMessage(content='', additional_kwargs={'tool_calls': [{'id': 'call_psv901bm', 'function': {'arguments': '{\"query\":\"SF weather\"}', 'name': 'tavily_search_results_json'}, 'type': 'function', 'index': 0}], 'refusal': None}, response_metadata={'token_usage': {'completion_tokens': 18, 'prompt_tokens': 257, 'total_tokens': 275, 'completion_tokens_details': None, 'prompt_tokens_details': None}, 'model_name': 'llama3.2', 'system_fingerprint': 'fp_ollama', 'finish_reason': 'tool_calls', 'logprobs': None}, id='run-2ba8bf57-6764-4df5-931b-bcf67ea38043-0', tool_calls=[{'name': 'tavily_search_results_json', 'args': {'query': 'SF weather'}, 'id': 'call_psv901bm', 'type': 'tool_call'}], usage_metadata={'input_tokens': 257, 'output_tokens': 18, 'total_tokens': 275})]}}, 'step': 1}, created_at='2025-02-17T08:58:48.303623+00:00', parent_config={'configurable': {'thread_id': '3', 'checkpoint_ns': '', 'checkpoint_id': '1efed0d6-51be-6404-8000-15d1b9612540'}})\n",
      "--\n",
      "StateSnapshot(values={'messages': [HumanMessage(content='Whats the weather in SF?', id='612d7ee1-8c31-4fd1-bb21-74e86f2f5b8c')]}, next=('llm',), config={'configurable': {'thread_id': '3', 'checkpoint_ns': '', 'checkpoint_id': '1efed0d6-51be-6404-8000-15d1b9612540'}}, metadata={'source': 'loop', 'writes': None, 'step': 0}, created_at='2025-02-17T08:58:45.845914+00:00', parent_config={'configurable': {'thread_id': '3', 'checkpoint_ns': '', 'checkpoint_id': '1efed0d6-51bb-6cf1-bfff-05c03899fae4'}})\n",
      "--\n",
      "StateSnapshot(values={'messages': []}, next=('__start__',), config={'configurable': {'thread_id': '3', 'checkpoint_ns': '', 'checkpoint_id': '1efed0d6-51bb-6cf1-bfff-05c03899fae4'}}, metadata={'source': 'input', 'writes': {'messages': [HumanMessage(content='Whats the weather in SF?')]}, 'step': -1}, created_at='2025-02-17T08:58:45.844913+00:00', parent_config=None)\n",
      "--\n"
     ]
    }
   ],
   "source": [
    "states = []\n",
    "for state in abot.graph.get_state_history(thread):\n",
    "    print(state)\n",
    "    print(\"--\")\n",
    "    states.append(state)"
   ]
  },
  {
   "cell_type": "code",
   "execution_count": null,
   "metadata": {},
   "outputs": [
    {
     "name": "stdout",
     "output_type": "stream",
     "text": [
      "Calling: {'name': 'tavily_search_results_json', 'args': {'query': 'SF weather'}, 'id': 'call_yyopnyvw', 'type': 'tool_call'}\n",
      "Back to the model!\n",
      "{'messages': [ToolMessage(content='[{\\'url\\': \\'https://www.weatherapi.com/\\', \\'content\\': \"{\\'location\\': {\\'name\\': \\'San Francisco\\', \\'region\\': \\'California\\', \\'country\\': \\'United States of America\\', \\'lat\\': 37.775, \\'lon\\': -122.4183, \\'tz_id\\': \\'America/Los_Angeles\\', \\'localtime_epoch\\': 1739781807, \\'localtime\\': \\'2025-02-17 00:43\\'}, \\'current\\': {\\'last_updated_epoch\\': 1739781000, \\'last_updated\\': \\'2025-02-17 00:30\\', \\'temp_c\\': 10.4, \\'temp_f\\': 50.7, \\'is_day\\': 0, \\'condition\\': {\\'text\\': \\'Partly cloudy\\', \\'icon\\': \\'//cdn.weatherapi.com/weather/64x64/night/116.png\\', \\'code\\': 1003}, \\'wind_mph\\': 5.6, \\'wind_kph\\': 9.0, \\'wind_degree\\': 286, \\'wind_dir\\': \\'WNW\\', \\'pressure_mb\\': 1020.0, \\'pressure_in\\': 30.13, \\'precip_mm\\': 0.0, \\'precip_in\\': 0.0, \\'humidity\\': 100, \\'cloud\\': 50, \\'feelslike_c\\': 9.3, \\'feelslike_f\\': 48.7, \\'windchill_c\\': 9.2, \\'windchill_f\\': 48.6, \\'heatindex_c\\': 10.2, \\'heatindex_f\\': 50.4, \\'dewpoint_c\\': 9.7, \\'dewpoint_f\\': 49.4, \\'vis_km\\': 16.0, \\'vis_miles\\': 9.0, \\'uv\\': 0.0, \\'gust_mph\\': 8.7, \\'gust_kph\\': 14.1}}\"}, {\\'url\\': \\'https://www.weather2travel.com/california/san-francisco/february/\\', \\'content\\': \"San Francisco weather in February 2025 | California Holidays San Francisco weather in February 2025 Expect 16°C daytime maximum temperatures in the shade with on average 7 hours of sunshine per day in San Francisco in February. There are usually 9 days with some rain in San Francisco in February and the average monthly rainfall is 91mm. Get your weekly fix of holiday inspiration from some of the world\\'s best travel writers plus save on your next trip with the latest exclusive offers More holidays January sales Handpicked travel deals & holiday discounts We help you find the best travel deals for your holiday in the sun by sharing tips on when and where to go, before providing you with top discounts. Holidays\"}]', name='tavily_search_results_json', tool_call_id='call_yyopnyvw')]}\n",
      "{'messages': [HumanMessage(content='Whats the weather in SF?', id='b57419df-0aeb-4d8d-9023-36f1581d0fc9'), AIMessage(content='', additional_kwargs={'tool_calls': [{'id': 'call_yyopnyvw', 'function': {'arguments': '{\"query\":\"SF weather\"}', 'name': 'tavily_search_results_json'}, 'type': 'function', 'index': 0}], 'refusal': None}, response_metadata={'token_usage': {'completion_tokens': 22, 'prompt_tokens': 257, 'total_tokens': 279, 'completion_tokens_details': None, 'prompt_tokens_details': None}, 'model_name': 'llama3.2', 'system_fingerprint': 'fp_ollama', 'finish_reason': 'tool_calls', 'logprobs': None}, id='run-4ae92de1-8b0b-48b9-8059-b4c10762eec5-0', tool_calls=[{'name': 'tavily_search_results_json', 'args': {'query': 'SF weather'}, 'id': 'call_yyopnyvw', 'type': 'tool_call'}], usage_metadata={'input_tokens': 257, 'output_tokens': 22, 'total_tokens': 279}), ToolMessage(content='[{\\'url\\': \\'https://www.weatherapi.com/\\', \\'content\\': \"{\\'location\\': {\\'name\\': \\'San Francisco\\', \\'region\\': \\'California\\', \\'country\\': \\'United States of America\\', \\'lat\\': 37.775, \\'lon\\': -122.4183, \\'tz_id\\': \\'America/Los_Angeles\\', \\'localtime_epoch\\': 1739781807, \\'localtime\\': \\'2025-02-17 00:43\\'}, \\'current\\': {\\'last_updated_epoch\\': 1739781000, \\'last_updated\\': \\'2025-02-17 00:30\\', \\'temp_c\\': 10.4, \\'temp_f\\': 50.7, \\'is_day\\': 0, \\'condition\\': {\\'text\\': \\'Partly cloudy\\', \\'icon\\': \\'//cdn.weatherapi.com/weather/64x64/night/116.png\\', \\'code\\': 1003}, \\'wind_mph\\': 5.6, \\'wind_kph\\': 9.0, \\'wind_degree\\': 286, \\'wind_dir\\': \\'WNW\\', \\'pressure_mb\\': 1020.0, \\'pressure_in\\': 30.13, \\'precip_mm\\': 0.0, \\'precip_in\\': 0.0, \\'humidity\\': 100, \\'cloud\\': 50, \\'feelslike_c\\': 9.3, \\'feelslike_f\\': 48.7, \\'windchill_c\\': 9.2, \\'windchill_f\\': 48.6, \\'heatindex_c\\': 10.2, \\'heatindex_f\\': 50.4, \\'dewpoint_c\\': 9.7, \\'dewpoint_f\\': 49.4, \\'vis_km\\': 16.0, \\'vis_miles\\': 9.0, \\'uv\\': 0.0, \\'gust_mph\\': 8.7, \\'gust_kph\\': 14.1}}\"}, {\\'url\\': \\'https://www.weather2travel.com/california/san-francisco/february/\\', \\'content\\': \"San Francisco weather in February 2025 | California Holidays San Francisco weather in February 2025 Expect 16°C daytime maximum temperatures in the shade with on average 7 hours of sunshine per day in San Francisco in February. There are usually 9 days with some rain in San Francisco in February and the average monthly rainfall is 91mm. Get your weekly fix of holiday inspiration from some of the world\\'s best travel writers plus save on your next trip with the latest exclusive offers More holidays January sales Handpicked travel deals & holiday discounts We help you find the best travel deals for your holiday in the sun by sharing tips on when and where to go, before providing you with top discounts. Holidays\"}]', name='tavily_search_results_json', id='a51f843e-77eb-4f3a-95c2-33d2b962b4f4', tool_call_id='call_yyopnyvw'), AIMessage(content='The current weather in SF is partly cloudy with a temperature of 10.4°C (50.7°F). There is no precipitation expected today. The wind is blowing at 5.6 mph (9.0 km/h) from the WNW direction, and the pressure is 1020.0 mb (30.13 inHg).', additional_kwargs={'refusal': None}, response_metadata={'token_usage': {'completion_tokens': 72, 'prompt_tokens': 737, 'total_tokens': 809, 'completion_tokens_details': None, 'prompt_tokens_details': None}, 'model_name': 'llama3.2', 'system_fingerprint': 'fp_ollama', 'finish_reason': 'stop', 'logprobs': None}, id='run-9ae9f7db-f12e-491e-912b-aad815a02060-0', usage_metadata={'input_tokens': 737, 'output_tokens': 72, 'total_tokens': 809})]}\n",
      "{'messages': [AIMessage(content='The current weather in SF is partly cloudy with a temperature of 10.4°C (50.7°F). There is no precipitation expected today. The wind is blowing at 5.6 mph (9.0 km/h) from the WNW direction, and the pressure is 1020.0 mb (30.13 inHg).', additional_kwargs={'refusal': None}, response_metadata={'token_usage': {'completion_tokens': 72, 'prompt_tokens': 737, 'total_tokens': 809, 'completion_tokens_details': None, 'prompt_tokens_details': None}, 'model_name': 'llama3.2', 'system_fingerprint': 'fp_ollama', 'finish_reason': 'stop', 'logprobs': None}, id='run-9ae9f7db-f12e-491e-912b-aad815a02060-0', usage_metadata={'input_tokens': 737, 'output_tokens': 72, 'total_tokens': 809})]}\n"
     ]
    }
   ],
   "source": [
    "#  if contiue call\n",
    "for event in abot.graph.stream(None, thread):\n",
    "    for v in event.values():\n",
    "        print(v)"
   ]
  },
  {
   "cell_type": "code",
   "execution_count": 28,
   "metadata": {},
   "outputs": [
    {
     "data": {
      "text/plain": [
       "'call_psv901bm'"
      ]
     },
     "execution_count": 28,
     "metadata": {},
     "output_type": "execute_result"
    }
   ],
   "source": [
    "states[0].values[\"messages\"][-1].tool_calls[0][\"id\"]"
   ]
  },
  {
   "cell_type": "code",
   "execution_count": 30,
   "metadata": {},
   "outputs": [
    {
     "data": {
      "text/plain": [
       "{'messages': [ToolMessage(content='54 degree celcius', name='tavily_search_results_json', tool_call_id='call_psv901bm')]}"
      ]
     },
     "execution_count": 30,
     "metadata": {},
     "output_type": "execute_result"
    }
   ],
   "source": [
    "_id = states[0].values[\"messages\"][-1].tool_calls[0][\"id\"]\n",
    "# toolMessage format\n",
    "# ToolMessage(content=\"\", name=\"tavily_search_results_json\", tool_call_id=\"call_yyopnyvw\")\n",
    "state_update = {\n",
    "    \"messages\": [\n",
    "        ToolMessage(\n",
    "            tool_call_id=_id,\n",
    "            name=\"tavily_search_results_json\",\n",
    "            content=\"54 degree celcius\",\n",
    "        )\n",
    "    ]\n",
    "}\n",
    "state_update"
   ]
  },
  {
   "cell_type": "code",
   "execution_count": 35,
   "metadata": {},
   "outputs": [],
   "source": [
    "branch_and_add = abot.graph.update_state(\n",
    "    states[0].config, state_update, as_node=\"action\"\n",
    ")"
   ]
  },
  {
   "cell_type": "code",
   "execution_count": 42,
   "metadata": {},
   "outputs": [
    {
     "name": "stdout",
     "output_type": "stream",
     "text": [
      "{'messages': [HumanMessage(content='Whats the weather in SF?', id='612d7ee1-8c31-4fd1-bb21-74e86f2f5b8c'), AIMessage(content='', additional_kwargs={'tool_calls': [{'id': 'call_psv901bm', 'function': {'arguments': '{\"query\":\"SF weather\"}', 'name': 'tavily_search_results_json'}, 'type': 'function', 'index': 0}], 'refusal': None}, response_metadata={'token_usage': {'completion_tokens': 18, 'prompt_tokens': 257, 'total_tokens': 275, 'completion_tokens_details': None, 'prompt_tokens_details': None}, 'model_name': 'llama3.2', 'system_fingerprint': 'fp_ollama', 'finish_reason': 'tool_calls', 'logprobs': None}, id='run-2ba8bf57-6764-4df5-931b-bcf67ea38043-0', tool_calls=[{'name': 'tavily_search_results_json', 'args': {'query': 'SF weather'}, 'id': 'call_psv901bm', 'type': 'tool_call'}], usage_metadata={'input_tokens': 257, 'output_tokens': 18, 'total_tokens': 275}), ToolMessage(content='54 degree celcius', name='tavily_search_results_json', id='9570fcba-5970-438f-a71a-d062f62233cd', tool_call_id='call_psv901bm')]}\n",
      "--\n",
      "{'messages': [HumanMessage(content='Whats the weather in SF?', id='612d7ee1-8c31-4fd1-bb21-74e86f2f5b8c'), AIMessage(content='', additional_kwargs={'tool_calls': [{'id': 'call_psv901bm', 'function': {'arguments': '{\"query\":\"SF weather\"}', 'name': 'tavily_search_results_json'}, 'type': 'function', 'index': 0}], 'refusal': None}, response_metadata={'token_usage': {'completion_tokens': 18, 'prompt_tokens': 257, 'total_tokens': 275, 'completion_tokens_details': None, 'prompt_tokens_details': None}, 'model_name': 'llama3.2', 'system_fingerprint': 'fp_ollama', 'finish_reason': 'tool_calls', 'logprobs': None}, id='run-2ba8bf57-6764-4df5-931b-bcf67ea38043-0', tool_calls=[{'name': 'tavily_search_results_json', 'args': {'query': 'SF weather'}, 'id': 'call_psv901bm', 'type': 'tool_call'}], usage_metadata={'input_tokens': 257, 'output_tokens': 18, 'total_tokens': 275})]}\n",
      "--\n",
      "{'messages': [HumanMessage(content='Whats the weather in SF?', id='612d7ee1-8c31-4fd1-bb21-74e86f2f5b8c')]}\n",
      "--\n",
      "{'messages': []}\n",
      "--\n"
     ]
    }
   ],
   "source": [
    "states = []\n",
    "for state in abot.graph.get_state_history(thread):\n",
    "    print(state.values)\n",
    "    print(\"--\")\n",
    "    states.append(state)"
   ]
  },
  {
   "cell_type": "code",
   "execution_count": 46,
   "metadata": {},
   "outputs": [
    {
     "name": "stdout",
     "output_type": "stream",
     "text": [
      "{'messages': [HumanMessage(content='Whats the weather in SF?', id='612d7ee1-8c31-4fd1-bb21-74e86f2f5b8c'), AIMessage(content='', additional_kwargs={'tool_calls': [{'id': 'call_psv901bm', 'function': {'arguments': '{\"query\":\"SF weather\"}', 'name': 'tavily_search_results_json'}, 'type': 'function', 'index': 0}], 'refusal': None}, response_metadata={'token_usage': {'completion_tokens': 18, 'prompt_tokens': 257, 'total_tokens': 275, 'completion_tokens_details': None, 'prompt_tokens_details': None}, 'model_name': 'llama3.2', 'system_fingerprint': 'fp_ollama', 'finish_reason': 'tool_calls', 'logprobs': None}, id='run-2ba8bf57-6764-4df5-931b-bcf67ea38043-0', tool_calls=[{'name': 'tavily_search_results_json', 'args': {'query': 'SF weather'}, 'id': 'call_psv901bm', 'type': 'tool_call'}], usage_metadata={'input_tokens': 257, 'output_tokens': 18, 'total_tokens': 275}), ToolMessage(content='54 degree celcius', name='tavily_search_results_json', id='9570fcba-5970-438f-a71a-d062f62233cd', tool_call_id='call_psv901bm'), AIMessage(content=\"The current temperature in San Francisco is 54 degrees Celsius, but I couldn't find any information on the current weather conditions. If you'd like to know more about the forecast for SF, I can try looking that up for you.\\n\\nWould you like me to check the weather forecast for San Francisco?\", additional_kwargs={'refusal': None}, response_metadata={'token_usage': {'completion_tokens': 61, 'prompt_tokens': 164, 'total_tokens': 225, 'completion_tokens_details': None, 'prompt_tokens_details': None}, 'model_name': 'llama3.2', 'system_fingerprint': 'fp_ollama', 'finish_reason': 'stop', 'logprobs': None}, id='run-0aed5d0e-1e92-48ca-96b9-6fd58c492750-0', usage_metadata={'input_tokens': 164, 'output_tokens': 61, 'total_tokens': 225})]}\n",
      "{'messages': [AIMessage(content=\"The current temperature in San Francisco is 54 degrees Celsius, but I couldn't find any information on the current weather conditions. If you'd like to know more about the forecast for SF, I can try looking that up for you.\\n\\nWould you like me to check the weather forecast for San Francisco?\", additional_kwargs={'refusal': None}, response_metadata={'token_usage': {'completion_tokens': 61, 'prompt_tokens': 164, 'total_tokens': 225, 'completion_tokens_details': None, 'prompt_tokens_details': None}, 'model_name': 'llama3.2', 'system_fingerprint': 'fp_ollama', 'finish_reason': 'stop', 'logprobs': None}, id='run-0aed5d0e-1e92-48ca-96b9-6fd58c492750-0', usage_metadata={'input_tokens': 164, 'output_tokens': 61, 'total_tokens': 225})]}\n"
     ]
    }
   ],
   "source": [
    "for event in abot.graph.stream(None, branch_and_add):\n",
    "    for k, v in event.items():\n",
    "        print(v)"
   ]
  },
  {
   "cell_type": "code",
   "execution_count": 51,
   "metadata": {},
   "outputs": [
    {
     "name": "stdout",
     "output_type": "stream",
     "text": [
      "The current temperature in San Francisco is 54 degrees Celsius, but I couldn't find any information on the current weather conditions. If you'd like to know more about the forecast for SF, I can try looking that up for you.\n",
      "\n",
      "Would you like me to check the weather forecast for San Francisco?\n"
     ]
    }
   ],
   "source": [
    "print(v[\"messages\"][0].content)"
   ]
  },
  {
   "cell_type": "code",
   "execution_count": null,
   "metadata": {},
   "outputs": [],
   "source": []
  }
 ],
 "metadata": {
  "kernelspec": {
   "display_name": "chat",
   "language": "python",
   "name": "python3"
  },
  "language_info": {
   "codemirror_mode": {
    "name": "ipython",
    "version": 3
   },
   "file_extension": ".py",
   "mimetype": "text/x-python",
   "name": "python",
   "nbconvert_exporter": "python",
   "pygments_lexer": "ipython3",
   "version": "3.12.8"
  }
 },
 "nbformat": 4,
 "nbformat_minor": 2
}
