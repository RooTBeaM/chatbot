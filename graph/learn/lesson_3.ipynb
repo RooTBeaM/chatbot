{
 "cells": [
  {
   "cell_type": "code",
   "execution_count": 2,
   "metadata": {},
   "outputs": [],
   "source": [
    "# libraries\n",
    "from dotenv import load_dotenv\n",
    "import os\n",
    "from tavily import TavilyClient\n",
    "\n",
    "# load environment variables from .env file\n",
    "_ = load_dotenv(\"../.env\")"
   ]
  },
  {
   "cell_type": "code",
   "execution_count": 3,
   "metadata": {},
   "outputs": [],
   "source": [
    "# connect\n",
    "client = TavilyClient(api_key=os.environ.get(\"TAVILY_API_KEY\"))"
   ]
  },
  {
   "cell_type": "code",
   "execution_count": 4,
   "metadata": {},
   "outputs": [
    {
     "data": {
      "text/plain": [
       "'The new Nvidia Blackwell GPU architecture features groundbreaking compute performance and optimized for large-scale AI models. It includes the second-generation Transformer Engine, confidential computing to protect sensitive data, and fifth-generation NVLink with 50GB/sec per link bandwidth, supporting up to 576 GPUs for seamless scaling of large AI workloads. The Blackwell B200 is built on a TSMC 4NP node and is designed to meet the demands of generative AI.'"
      ]
     },
     "execution_count": 4,
     "metadata": {},
     "output_type": "execute_result"
    }
   ],
   "source": [
    "# run search\n",
    "result = client.search(\"What is in Nvidia's new Blackwell GPU?\", include_answer=True)\n",
    "\n",
    "# print the answer\n",
    "result[\"answer\"]"
   ]
  },
  {
   "cell_type": "markdown",
   "metadata": {},
   "source": [
    "### Regular search"
   ]
  },
  {
   "cell_type": "code",
   "execution_count": 5,
   "metadata": {},
   "outputs": [],
   "source": [
    "# choose location (try to change to your own city!)\n",
    "\n",
    "city = \"bangkok\"\n",
    "\n",
    "query = f\"\"\"\n",
    "    what is the current weather in {city}?\n",
    "    Should I travel there today?\n",
    "    \"weather.com\"\n",
    "\"\"\""
   ]
  },
  {
   "cell_type": "code",
   "execution_count": 6,
   "metadata": {},
   "outputs": [
    {
     "name": "stdout",
     "output_type": "stream",
     "text": [
      "https://weather.com/en-LC/weather/tenday/l/61d235a12c8f0b158c472bb5cf4a6a2d17b42270c214e7285c48666e57f21864?traffic_source=footerNav_Tenday\n",
      "https://weather.com/weather/hourbyhour/l/c2ed3e9b1efee2ca7085681e732f8f432a46b8bf935f5abf08ae066a11f2be32\n",
      "https://weather.com/weather/today/l/Bangor+ME?canonicalCityId=1bed76693e82f04bba756ceae52fcb63ecf5eb99fde38578ea9ecae34a0de94e\n",
      "https://weather.com/weather/today/l/Loganville+GA?canonicalCityId=4f25fbe452b99ea6512a083b951ee10d2d7cdb9ef7e6e0d21355f862c6902b16\n",
      "https://weather.com/weather/tenday/l/Rialto+CA?canonicalCityId=daee3b97cb98f252cc3b31d9cb1582ca4ab4145d4049138d8a35e76069444cb7\n",
      "https://weather.com/weather/today/l/Brentwood+CA?canonicalCityId=e6f3776c3d84993470cf3760f3164154dbd9e39064a6c6a4e80753762f470e63\n"
     ]
    }
   ],
   "source": [
    "import requests\n",
    "from bs4 import BeautifulSoup\n",
    "from duckduckgo_search import DDGS\n",
    "import re\n",
    "\n",
    "ddg = DDGS()\n",
    "\n",
    "\n",
    "def search(query, max_results=6):\n",
    "    try:\n",
    "        results = ddg.text(query, max_results=max_results)\n",
    "        return [i[\"href\"] for i in results]\n",
    "    except Exception as e:\n",
    "        print(f\"returning previous results due to exception reaching ddg.\")\n",
    "        results = [  # cover case where DDG rate limits due to high deeplearning.ai volume\n",
    "            \"https://weather.com/weather/today/l/USCA0987:1:US\",\n",
    "            \"https://weather.com/weather/hourbyhour/l/54f9d8baac32496f6b5497b4bf7a277c3e2e6cc5625de69680e6169e7e38e9a8\",\n",
    "        ]\n",
    "        return results\n",
    "\n",
    "\n",
    "for i in search(query):\n",
    "    print(i)"
   ]
  },
  {
   "cell_type": "code",
   "execution_count": 7,
   "metadata": {},
   "outputs": [],
   "source": [
    "def scrape_weather_info(url):\n",
    "    \"\"\"Scrape content from the given URL\"\"\"\n",
    "    if not url:\n",
    "        return \"Weather information could not be found.\"\n",
    "\n",
    "    # fetch data\n",
    "    headers = {\"User-Agent\": \"Mozilla/5.0\"}\n",
    "    response = requests.get(url, headers=headers)\n",
    "    if response.status_code != 200:\n",
    "        return \"Failed to retrieve the webpage.\"\n",
    "\n",
    "    # parse result\n",
    "    soup = BeautifulSoup(response.text, \"html.parser\")\n",
    "    return soup"
   ]
  },
  {
   "cell_type": "code",
   "execution_count": 10,
   "metadata": {},
   "outputs": [
    {
     "name": "stdout",
     "output_type": "stream",
     "text": [
      "Website: http://www.google.com/search?hl=en&q=what+is+the+current+weather+in+bangkok?+Should+I+travel+there+today?+\"weather.com\"\n",
      "\n",
      "\n",
      "<body><noscript><style>table,div,span,p{display:none}</style><meta content=\"0;url=/httpservice/retry/enablejs?sei=EseyZ5bJGaTv4-EPq6yUuAo\" http-equiv=\"refresh\"/><div style=\"display:block\">Please click <a href=\"/httpservice/retry/enablejs?sei=EseyZ5bJGaTv4-EPq6yUuAo\">here</a> if you are not redirected within a few seconds.</div></noscript><script nonce=\"9EG1WpPyWx7yMxxpDG8L2A\">//# sourceMappingURL=data:application/json;charset=utf-8;base64,eyJ2ZXJzaW9uIjogMywic291cmNlcyI6WyIiXSwic291cmNlc0NvbnRlbnQiOlsiICJdLCJuYW1lcyI6WyJjbG9zdXJlRHluYW1pY0J1dHRvbiJdLCJtYXBwaW5ncyI6IkFBQUE7QUFBQTtBQUFBO0FBQUE7QUFBQTtBQUFBO0FBQUEifQ==\n",
      "(function(){function Z(P){return P}var g=function(P,J,X,m,W,C,d,S,T,E,L,h){for(L=(h=68,67);;)try{if(h==95)break;else if(h==J)L=83,T=S.createPolicy(C,{createHTML:r,createScript:r,createScriptURL:r}),h=52;else{if(h==52)return L=67,T;if(h==68)T=d,S=A.trustedTypes,h=59;else if(h==78)h=A.console?X:52;else{if(h==m)return T;h==59?h=S&&S.createPolicy?J:m:h==P?(L=67,h=78):h==X&&(A.console[W](E.message),h=52)}}}catch(y){if(L==67)throw y;L==83&&(E=y,h=P)}},r=function(P){return Z.call(this,P)},A=this||self;(0,eval)(function(P,J){return(J=g(96,84,17,54,\"error\",\"ks\",null))&&P.eval(J.createScript(\"1\"))===1?function(X){return J.createScript(X)}:function(X){return\"\"+X}}(A)(Array(Math.random()*7824|0).join(\"\\n\")+['//# sourceMappingURL=data:application/json;charset=utf-8;base64,eyJ2ZXJzaW9uIjogMywic291cmNlcyI6WyIiXSwic291cmNlc0NvbnRlbnQiOlsiICJdLCJuYW1lcyI6WyJjbG9zdXJlRHluYW1pY0J1dHRvbiJdLCJtYXBwaW5ncyI6IkFBQUE7QUFBQTtBQUFBO0FBQUE7QUFBQTtBQUFBO0FBQUEifQ==',\n",
      "'(function(){/*',\n",
      "'',\n",
      "' Copyright Google LLC',\n",
      "' SPDX-License-Identifier: Apache-2.0',\n",
      "'*/',\n",
      "'var k=function(h,J,P,X,L,T,S,Z,y,m,A,E,d,W,r){for(W=10;W!=74;)if(W==18)r=P in Js?Js[P]:Js[P]=h+P,W=54;else if(W==52)W=(J+3&27)>=3&&(J^37)<16?1:63;else if(W==63)W=(J+6&7)==3?39:97;else if(W==10)W=48;else if(W==97)W=(J+9^32)>=J&&(J+6^29)<J?91:92;else if(W==91)r=h&&h.parentNode?h.parentNode.removeChild(h):null,W=92;else if(W==54)W=J<<1&15?52:3;else if(W==3){for(L in(Z=P,X).i){for(S=X.i[T=P,L];T<S.length;T++)++Z,Xc(37,21,h,S[T]);delete X.i[X.BK--,L]}W=52}else if(W==1)d=function(){},S=void 0,T=Ll(h,function(C,g){for(g=68;g!=95;)g==59?(P&&S7(P),S=C,d(),d=void 0,g=95):g==68&&(g=d?59:95)},!!P),L=T[1],X=T[0],r={top:function(C,g,w,l,G,c,R){for(R=83;R!=54;)if(R==38)G=d,d=function(){(G(),S7)(c)},R=54;else if(R==83)c=function(){S(function(e){S7(function(){C(e)})},w)},R=78;else{if(R==53)return l=X(w),C&&C(l),l;R==78?R=g?17:53:R==17?R=S?58:38:R==58&&(c(),R=54)}},pe:function(C){L&&L(C)}},W=63;else if(W==48)W=((J^10)&15)==1?18:54;else{if(W==92)return r;if(W==39){if(Z=X.A.i[String(L)]){for(y=(Z=Z.concat(),h),A=0;A<Z.length;++A)(m=Z[A])&&!m.LT&&m.capture==T&&(S=m.bF||m.src,E=m.listener,m.vK&&t(m,17,0,X.A),y=E.call(S,P)!==false&&y);r=y&&!P.defaultPrevented}else r=h;W=97}}},Xc=function(h,J,P,X,L,T,S,Z,y){for(Z=84;Z!=29;)if(Z==25)this.clientX=T.clientX!==void 0?T.clientX:T.pageX,this.clientY=T.clientY!==void 0?T.clientY:T.pageY,this.screenX=T.screenX||0,this.screenY=T.screenY||0,Z=12;else if(Z==44)L=P.toElement,Z=33;else if(Z==72)L=P.fromElement,Z=33;else if(Z==74)Z=L?33:77;else if(Z==12)this.button=P.button,this.keyCode=P.keyCode||0,this.key=P.key||\"\",this.charCode=P.charCode||(S==\"keypress\"?P.keyCode:0),this.ctrlKey=P.ctrlKey,this.altKey=P.altKey,this.shiftKey=P.shiftKey,this.metaKey=P.metaKey,this.pointerId=P.pointerId||0,this.pointerType=P.pointerType,this.state=P.state,this.timeStamp=P.timeStamp,this.j=P,P.defaultPrevented&&Tr.K.preventDefault.call(this),Z=53;else if(Z==33)this.relatedTarget=L,Z=51;else if(Z==48)Z=(J^8)>>4?53:70;else if(Z==h)this.offsetX=P.offsetX,this.offsetY=P.offsetY,this.clientX=P.clientX!==void 0?P.clientX:P.pageX,this.clientY=P.clientY!==void 0?P.clientY:P.pageY,this.screenX=P.screenX||0,this.screenY=P.screenY||0,Z=12;else if(Z==51)Z=T?25:h;else if(Z==70)Zh.call(this,P?P.type:\"\"),this.relatedTarget=this.currentTarget=this.target=null,this.button=this.screenY=this.screenX=this.clientY=this.clientX=this.offsetY=this.offsetX=0,this.key=\"\",this.charCode=this.keyCode=0,this.metaKey=this.shiftKey=this.altKey=this.ctrlKey=false,this.state=null,this.pointerId=0,this.pointerType=\"\",this.timeStamp=0,this.j=null,Z=45;else if(Z==71)S=this.type=P.type,T=P.changedTouches&&P.changedTouches.length?P.changedTouches[0]:null,this.target=P.target||P.srcElement,this.currentTarget=X,L=P.relatedTarget,Z=74;else{if(Z==11)return y;Z==77?Z=S==\"mouseover\"?72:36:Z==36?Z=S==\"mouseout\"?44:33:Z==45?Z=P?71:53:Z==54?(this.X=P,Z=11):Z==84?Z=48:Z==35?(X.LT=P,X.listener=null,X.proxy=null,X.src=null,X.bF=null,Z=82):Z==53?Z=(J-4&7)==1?35:82:Z==82&&(Z=J-5<<2>=J&&(J+5^15)<J?54:11)}},yh=function(h,J,P,X,L,T,S,Z,y,m){for(y=h;y!=7;)if(y==48){for(Z in S=((Array.prototype.forEach.call(f(6,\"\",(T={},X)),function(A){T[A]=true}),Array.prototype.forEach).call(L,function(A){T[A]=true}),\"\"),T)S+=S.length>0?\" \"+Z:Z;V(X,26,\"string\",S),y=45}else if(y==82)y=93;else if(y==92)y=(P+3&44)>=P&&(P-2^17)<P?59:45;else if(y==86)Array.prototype.forEach.call(L,function(A,E,d){for(d=92;d!=46;)d==92?d=X.classList?44:27:d==70?(E=mx(\"\",21,J,X),V(X,20,\"string\",E+(E.length>0?\" \"+A:A)),d=46):d==44?(X.classList.add(A),d=46):d==27&&(d=(X.classList?X.classList.contains(A):En(83,1,A,f(9,\"\",X)))?46:70)}),y=45;else{if(y==93)return m;y==45?y=(P&11)==P?82:93:y==59?y=X.classList?86:48:y==h&&(y=92)}},V=function(h,J,P,X,L,T,S){for(T=41;T!=14;)if(T==5)T=J-4>>4?98:88;else if(T==41)T=76;else{if(T==98)return S;T==88?(S=!!(L=h.xK,2*(L|P)-(L|X)+~L-~X),T=98):T==96?(typeof h.className==P?h.className=X:h.setAttribute&&h.setAttribute(\"class\",X),T=5):T==76&&(T=(J-9&4)<3&&(J^5)>>3>=0?96:5)}},As=function(h,J,P,X,L,T,S,Z,y,m,A,E){for(E=47;E!=21;)if(E==60)E=(P|4)>=0&&(P^16)>>4<h?18:7;else if(E==34)E=(P^38)>>3>=0&&((P|h)&8)<1?40:60;else if(E==18)Z=S.length,m=typeof S===\"string\"?S.split(X):S,y=L,E=14;else if(E==51)y in m&&T.call(void 0,m[y],y,S),E=J;else if(E==33)E=y<Z?51:7;else if(E==J)y++,E=33;else if(E==47)E=34;else if(E==14)E=33;else{if(E==7)return A;E==40&&(this.src=X,this.i={},this.BK=0,E=60)}},zr=function(h,J,P,X,L,T,S,Z,y,m,A,E,d,W){for(A=82,E=59;;)try{if(A==56)break;else if(A==1)this[this+\"\"]=this,d=Promise.resolve(),A=99;else if(A==9)A=h-3>>4?87:66;else if(A==23)T.o=null,Z=T.Z.pop(),A=43;else if(A==43)E=30,m=Wf(Z,P,T,X),A=47;else if(A==18)E=59,Cl(68,J,W,T),A=47;else if(A==66)X.oO(function(r){L=r},J,P),d=L,A=87;else if(A==53)A=T.Z.length?23:48;else if(A==86)A=(h-1^28)>=h&&(h+5^11)<h?1:99;else if(A==99)A=(h+7&29)<h&&(h-3^7)>=h?45:9;else if(A==13)u.call(this,J,P||dF.Dh(),X),A=86;else if(A==75)A=S&&T.o?64:85;else if(A==45)A=53;else if(A==2)A=h-4>>3==2?13:86;else if(A==64)y=T.o,y(function(){U(5,L,T,X,X)}),A=48;else if(A==82)A=2;else if(A==85)A=53;else{if(A==87)return d;A==47?(E=59,A=75):A==48&&(d=m,A=9)}}catch(r){if(E==59)throw r;E==30&&(W=r,A=18)}},la=function(h,J,P,X,L,T,S,Z,y,m,A,E){return(P-3^30)>=P&&(P-5^8)<P&&(m=sn,Z=S&7,L=[-24,-41,-16,-34,-22,-71,L,1,11,-26],y=wF[T.U](T.Kr),y[T.U]=function(d){A=(Z+=6+7*S,Z&=7,d)},y.concat=function(d,W,r,C,g){return(A=(C=(d=(W=X%16+1,+(m()|h)*W-W*A)+2*X*X*W- -2378*X*A+L[g=Z+75,(g|h)- -1+(~g^7)+(~g&7)]*X*W- -3886*A+Z+58*A*A-116*X*X*A,L[d]),void 0),L)[(r=Z+J,7-(~r&7))+((S|h)- -1+(~S|2))]=C,L[Z+(-(S|2)+-2-~S- -3)]=-41,C},E=y),(P+1&59)>=P&&(P+6^24)<P&&(X=wF[h.U](h.bP),X[h.U]=function(){return J},X.concat=function(d){J=d},E=X),E},ts=function(h,J,P,X,L,T,S,Z,y,m,A){for(A=17;A!=22;)if(A==45)A=(X-6|34)<X&&(X+8^21)>=X?36:72;else{if(A==51)return m;if(A==30)P.classList?Array.prototype.forEach.call(L,function(E){Cl(5,1,h,\"string\",J,E,P)}):V(P,25,\"string\",Array.prototype.filter.call(f(3,J,P),function(E){return!En(81,1,E,L)}).join(h)),A=51;else if(A==36){a:{switch(Z){case S:m=y?\"disable\":\"enable\";break a;case 2:m=y?\"highlight\":\"unhighlight\";break a;case 4:m=y?\"activate\":\"deactivate\";break a;case P:m=y?\"select\":\"unselect\";break a;case L:m=y?\"check\":\"uncheck\";break a;case 32:m=y?\"focus\":\"blur\";break a;case T:m=y?\"open\":\"close\";break a}throw Error(\"Invalid component state\");}A=72}else A==17?A=45:A==72&&(A=X+2>>3==1?30:51)}},Gr=function(h,J,P,X,L,T,S){for(L=16;L!=6;)if(L==58)this.ra=F.document||document,L=36;else if(L==97)L=(J|48)==J?58:36;else if(L==h)this.type=P,this.currentTarget=this.target=X,this.defaultPrevented=this.KT=false,L=70;else if(L==75)L=97;else if(L==70)L=(J|4)>>3==3?75:97;else{if(L==56)return S;L==16?L=35:L==35?L=((J|1)&15)==3?h:70:L==36?L=(J|72)==J?44:56:L==44&&(T=function(Z){return P.call(T.src,T.listener,Z)},P=RK,S=T,L=56)}},K=function(h,J,P,X,L,T,S,Z,y,m,A,E,d,W,r){for(r=76;r!=33;){if(r==94)throw Error(\"Invalid event type\");if(r==18)fl||(T=d),T===void 0&&(T=P),L.addEventListener(y.toString(),m,T),r=84;else if(r==15)d=U(29,J,T)?!!T.capture:!!T,(A=mx(L,12))||(L[Vh]=A=new vf(L)),E=A.add(y,S,Z,d,X),r=14;else if(r==17)this.ga=this.ga,this.Y=this.Y,r=75;else if(r==80)L.attachEvent(k(\"on\",27,y.toString()),m),r=84;else if(r==13)m=Gr(87,72),E.proxy=m,m.src=L,m.listener=E,r=39;else if(r==81)r=((h^13)&15)==3?77:44;else{if(r==55)throw Error(\"addEventListener and attachEvent are unavailable.\");if(r==84)cf++,r=44;else if(r==89)X.Z.splice(J,J,P),r=74;else if(r==79){a:{for(S=(Z=[J==typeof globalThis&&globalThis,L,J==typeof window&&window,J==typeof self&&self,J==typeof global&&global],P);S<Z.length;++S)if((T=Z[S])&&T[X]==Math){W=T;break a}throw Error(\"Cannot find global object\");}r=57}else if(r==57)r=((h^22)&15)==3?89:74;else if(r==7)r=L.attachEvent?80:6;else if(r==58)L.addListener(m),r=84;else if(r==6)r=L.addListener&&L.removeListener?58:55;else if(r==75)r=h-9>>3>=1&&(h<<1&14)<6?79:57;else if(r==77)r=y?15:94;else if(r==14)r=E.proxy?44:13;else if(r==39)r=L.addEventListener?18:7;else{if(r==74)return W;r==44?r=((h|1)&14)==2?17:75:r==76&&(r=81)}}}},oK=function(h,J,P,X,L,T,S,Z,y,m,A,E){for(A=14;A!=56;)if(A==46)P(function(d){d(J)}),E=[function(){return J},function(){}],A=28;else if(A==6)oK(26,0,true,9,L,T[m],S,Z,y),A=18;else if(A==12)A=Array.isArray(T)?8:57;else{if(A==23)return E;A==8?(m=J,A=99):A==28?A=(X+3&31)>=X&&(X-1^10)<X?12:23:A==24?A=m<T.length?6:23:A==14?A=69:A==69?A=X-9<<2>=X&&(X+4^h)<X?46:28:A==18?(m++,A=24):A==99?A=24:A==57&&(y=f(16,y),L&&L[ua]?L.A.add(String(T),y,P,U(25,null,S)?!!S.capture:!!S,Z):K(30,null,false,Z,L,S,y,P,T),A=23)}},U=function(h,J,P,X,L,T,S,Z,y,m,A){for(m=5;m!=26;)if(m==40)m=h<<1&15?93:67;else if(m==79)m=h-9>>4<3&&(h<<1&27)>=18?87:74;else if(m==5)m=51;else if(m==71)m=h+5>>2<h&&(h-7^26)>=h?64:40;else if(m==64)m=40;else if(m==54){if(P.Z.length){P.J2&&\":TQR:TQR:\"(),P.J2=true,P.Nc=L;try{T=P.L(),P.aO=0,P.z7=0,P.A2=T,P.Vw=T,Z=zr(28,2048,1,true,254,P,L),S=X?0:10,y=P.L()-P.Vw,P.uF+=y,P.CT&&P.CT(y-P.S,P.R,P.s,P.aO),P.R=false,P.s=false,P.S=0,y<S||P.RO--<=0||(y=Math.floor(y),P.OG.push(y<=J?y:254))}finally{P.J2=false}A=Z}m=71}else if(m==51)m=(h|48)==h?30:79;else if(m==30)J.Dh=function(){return J.kK?J.kK:J.kK=new J},J.kK=void 0,m=79;else if(m==87)X=typeof P,A=X==\"object\"&&P!=J||X==\"function\",m=74;else{if(m==93)return A;m==74?m=((h|1)&15)<13&&(h<<1&11)>=4?54:71:m==67&&(m=93)}},pl=function(h,J,P,X,L,T,S,Z,y,m,A,E){for(E=20;E!=19;)if(E==68)Z-=8,y.push(T>>Z&255),E=53;else if(E==26)A=function(){},A.prototype=X.prototype,P.K=X.prototype,P.prototype=new A,P.prototype.constructor=P,P.Cr=function(d,W,r){for(var C=77;C!=19;){if(C==90)return X.prototype[W].apply(d,g);if(C==37)C=w<arguments.length?28:90;else if(C==78)C=37;else if(C==4)w++,C=37;else if(C==77)var g=Array((C=78,arguments).length-J),w=J;else C==28&&(g[w-J]=arguments[w],C=4)}},E=56;else if(E==70)E=Z>7?68:93;else if(E==82)Z=L=0,y=[],E=97;else{if(E==56)return m;E==28?(this[this+\"\"]=this,E=30):E==53?E=70:E==99?E=(h|40)==h?82:91:E==97?E=7:E==7?E=L<J.length?5:6:E==93?(L++,E=7):E==30?E=(h^24)>>4?56:26:E==81?E=70:E==20?E=99:E==5?(Z+=P,T=(S=T<<P,X=J[L],-2*~S+~X+2*(~S&X)+(~S|X)),E=81):E==6?(m=y,E=91):E==91&&(E=h>>2<7&&(h-1&7)>=1?28:30)}},Cl=function(h,J,P,X,L,T,S,Z,y,m){for(m=6;m!=75;)if(m==84)m=h-1<24&&(h<<2&27)>=17?95:7;else if(m==7)m=(h|48)==h?9:58;else if(m==46)m=h-9<<1>=h&&(h-5|23)<h?96:39;else if(m==95)L=P,L=(T=L<<13,-2*(L|0)+(L|T)+(L&T)+2*(L&~T)),L=(Z=L>>17,(L|0)+(Z|0)+2*~(L&Z)- -2),L=(S=L<<5,-(L|0)+(L|S)+~S-~(L|S)),(L&=X)||(L=1),y=2*(J|L)+~(J&L)- -2+~(J|L),m=7;else if(m==51)this.n===0?y=[0,0]:(this.F.sort(function(A,E){return A-E}),y=[this.n,this.F[this.F.length>>1]]),m=84;else if(m==9)this.n++,P=J-this.O,this.O+=P/this.n,this.EG+=P*(J-this.O),m=58;else{if(m==59)return y;m==6?m=46:m==96?(X.N=((X.N?X.N+\"~\":\"E:\")+P.message+\":\"+P.stack).slice(0,J),m=39):m==39?m=(h+8^20)>=h&&(h-3^25)<h?51:84:m==58?m=((h^52)&7)==1?66:59:m==66&&(S.classList?S.classList.remove(T):(S.classList?S.classList.contains(T):En(82,J,T,f(5,L,S)))&&V(S,3,X,Array.prototype.filter.call(f(7,L,S),function(A){return A!=T}).join(P)),m=59)}},O=function(h,J,P,X,L,T,S,Z,y,m,A){return(h|32)==((h-4^((h&75)==h&&(J.D?m=e7(J.C,J):(P=MN(8,true,J,3420),(P|128)-2*~(P&128)+~P+-129&&(P=(P|128)+~P-(~P|128),X=MN(2,true,J,3420),P=(P<<2)+(X|0)),m=P)),10))<h&&(h-8|31)>=h&&(X=qN(3420,P,true),X&128&&(X=(X|0)-~(X&127)+~X|qN(3420,P,true)<<J),m=X),h)&&(m=A=function(){for(var E=27;E!=55;)if(E==36){var d=!L.Z.length;E=(K(21,0,r,L),d&&U(23,254,L,false,false),13)}else if(E==66)E=T==P?36:7;else if(E==27)E=L.X==L?99:55;else if(E==99)E=L.h?69:40;else{if(E==13)return W;if(E==54)E=T==J?45:66;else if(E==45){var W=U(6,(K(37,0,r,L),254),L,false,false);E=13}else if(E==69)var r=[NN,(E=54,X),S,void 0,Z,y,arguments];else E==7?(W=Wf(r,1,L,true),E=13):E==40&&(Z&&y&&Z.removeEventListener(y,A,Bf),E=55)}}),m},IK=function(h,J,P,X,L,T,S,Z,y){if(L+7>>5<h&&(L>>2&7)>=0)if(T=Un(\"splice\",X,\"number\")===\"array\"?X:[X],this.N)P(this.N);else try{S=!this.Z.length,Z=[],K(5,0,[Fc,Z,T],this),K(69,0,[Kl,P,Z],this),J&&!S||U(22,254,this,true,J)}catch(m){Cl(67,2048,m,this),P(this.N)}if((L-8^28)>=L&&(L-7|7)<L){for(S=(T=O(11,J),P);X>P;X--)S=S<<8|qN(3420,J,true);H(T,J,S)}return(L^57)>>4||(y=(S=T[X]<<J,Z=T[(X|P)+h]<<16,2*(S&Z)+~S+(S&~Z)-(~S^Z))|T[(X|P)+2]<<8|T[2*(X|3)-~(X&3)+~(X|3)]),y},Qh=function(h,J,P,X,L,T){for(L=22;L!=J;)if(L==17)T=Math.floor(this.L()),L=41;else if(L==22)L=69;else if(L==44)ba.call(this),X||On||(On=new j7),this.H=this.iF=this.hH=this.Zh=null,this.yw=this.TD=false,this.h2=void 0,this.t2=null,L=30;else if(L==69)L=P+2>>2<P&&(P-5|30)>=P?44:30;else{if(L==41)return T;L==30&&(L=P>>2&h?41:17)}},t=function(h,J,P,X,L,T,S,Z,y,m,A){for(m=61;m!=65;){if(m==86)return A;if(m==71){a:{for(Z=P;Z<L.length;++Z)if(S=L[Z],!S.LT&&S.listener==X&&S.capture==!!T&&S.bF==h){A=Z;break a}A=-1}m=74}else if(m==29)m=L in X.i&&Dh(83,1,8,X.i[L],h)?40:95;else if(m==95)m=(J+9^32)<J&&(J-2|78)>=J?31:86;else if(m==48)m=X===\"\"||X==void 0?23:91;else if(m==31)A=wF[P](wF.prototype,{pop:h,splice:h,prototype:h,stack:h,document:h,length:h,parent:h,replace:h,call:h,console:h,floor:h,propertyIsEnumerable:h}),m=86;else if(m==50)Array.isArray(X)&&(X=X.join(\" \")),S=P+L,m=48;else if(m==20)m=(J|80)==J?13:83;else if(m==62)L=h.type,m=29;else if(m==94)y={},xA=(y.atomic=false,y.autocomplete=\"none\",y.dropeffect=\"none\",y.haspopup=false,y[h]=\"off\",y.multiline=false,y.multiselectable=false,y.orientation=\"vertical\",y.readonly=false,y.relevant=\"additions text\",y.required=false,y.sort=\"none\",y.busy=false,y.disabled=false,y.hidden=false,y.invalid=\"false\",y),m=73;else if(m==13)m=h?8:92;else if(m==82)m=((J^82)&13)==1?62:95;else if(m==74)m=(J-4|9)>=J&&(J-8|49)<J?50:82;else if(m==61)m=20;else if(m==83)m=(J>>2&15)==2?71:74;else if(m==8)m=typeof P!==\"function\"?22:83;else if(m==40)Xc(37,29,true,h),m=1;else if(m==91)T.setAttribute(S,X),m=82;else{if(m==22)throw Error(\"Invalid decorator function \"+P);if(m==92)throw Error(\"Invalid class name \"+h);m==33?(delete X.i[L],X.BK--,m=95):m==23?m=xA?73:94:m==1?m=X.i[L].length==P?33:95:m==73&&(Z=xA,L in Z?T.setAttribute(S,Z[L]):T.removeAttribute(S),m=82)}}},$A=function(h,J,P,X,L,T,S,Z,y,m,A,E,d,W){for(W=44;W!=43;)if(W==44)W=98;else if(W==31)W=92;else if(W==86)P.A.remove(String(S),Z,m,h),W=17;else if(W==21){if((h.I+=(A=(S=(m=h.ma>(L||h.z7++,T)&&h.J2&&h.Nc&&h.UG<=1&&!h.D&&!h.o&&(!L||h.c6-X>1)&&document.hidden==0,h.z7==4))||m?h.L():h.A2,Z=A-h.A2,Z>>14>T),h.P&&(h.P^=(h.I+1>>2)*(Z<<2)),h).X=h.I+1>>2!=T||h.X,S||m)h.z7=T,h.A2=A;m?(h.ma>h.aO&&(h.aO=h.ma),A-h.Vw<h.ma-(P?255:L?5:2)?d=false:(h.c6=X,y=Q(h,L?378:55),H(55,h,h.J),h.Z.push([nl,y,L?X+1:X,h.R,h.s]),h.o=S7,d=true)):d=false,W=46}else if(W==8)W=Array.isArray(S)?88:60;else if(W==82)W=P?1:17;else if(W==92)W=E<S.length?11:17;else if(W==73)(A=y.PK(h,Z,m,S))&&Dh(83,0,18,true,A),W=17;else if(W==39)W=y?73:17;else if(W==58)E++,W=92;else if(W==60)m=U(27,T,L)?!!L.capture:!!L,Z=f(20,Z),W=79;else if(W==88)E=X,W=31;else{if(W==46)return d;W==17?W=J-5<<1<J&&(J+5^3)>=J?21:46:W==98?W=J+5&3?17:8:W==11?($A(h,11,P,0,L,null,S[E],Z),W=58):W==1?(y=mx(P,13),W=39):W==79&&(W=P&&P[ua]?86:82)}},f=function(h,J,P,X,L,T,S,Z){for(S=30;S!=45;)if(S==34)S=(h>>2&7)>=1&&(h<<2&15)<1?97:74;else{if(S==77)return Z;S==41?(Z=P.classList?P.classList:mx(J,20,\"class\",P).match(/\\\\S+/g)||[],S=34):S==48?(H(X,P,J),J[YA]=2796,S=33):S==97?(typeof J===\"function\"?Z=J:(J[aK]||(J[aK]=function(y){return J.handleEvent(y)}),Z=J[aK]),S=74):S==33?S=(h-3|25)<h&&(h-5|48)>=h?70:77:S==30?S=22:S==74?S=(h|72)==h?48:33:S==22?S=(h|5)>>4?34:41:S==70&&(this.listener=L,this.proxy=null,this.src=X,this.type=J,this.capture=!!P,this.bF=T,this.key=++hM,this.vK=this.LT=false,S=77)}},PP=function(h,J,P,X,L,T,S,Z,y){for(Z=71;Z!=25;){if(Z==h)return y;if(Z==60)Z=(J+2&6)>=4&&(J-1&8)<6?7:h;else if(Z==71)Z=8;else if(Z==5){a:if(typeof L===\"string\")y=typeof T!==\"string\"||T.length!=X?-1:L.indexOf(T,P);else{for(S=P;S<L.length;S++)if(S in L&&L[S]===T){y=S;break a}y=-1}Z=60}else if(Z==7){if((L=P.length,L)>X){for(S=Array(L),T=X;T<L;T++)S[T]=P[T];y=S}else y=[];Z=h}else Z==8&&(Z=(J+1^31)<J&&(J-9|40)>=J?5:60)}},mx=function(h,J,P,X,L,T,S,Z){for(S=96;S!=75;)if(S==20)S=(J|48)==J?12:62;else if(S==83){a:{for(T in L)if(X.call(void 0,L[T],T,L)){Z=h;break a}Z=P}S=59}else if(S==60)P=h[Vh],Z=P instanceof vf?P:null,S=20;else if(S==58)S=(J+2^17)>=J&&(J+7^14)<J?50:32;else if(S==96)S=58;else if(S==26)S=J>>1&7?59:83;else if(S==48)this.F.push(h),S=62;else if(S==62)S=((J^10)&7)>=4&&(J^27)<16?67:26;else if(S==82)P=Math.floor(Math.random()*this.n),P<50&&(this.F[P]=h),S=62;else if(S==32)S=(J^25)&10?20:60;else{if(S==59)return Z;S==67?(Z=typeof X.className==\"string\"?X.className:X.getAttribute&&X.getAttribute(P)||h,S=26):S==76?S=this.F.length<50?48:82:S==50?(Z=Object.prototype.hasOwnProperty.call(h,JM)&&h[JM]||(h[JM]=++XD),S=32):S==12&&(this.n++,S=76)}},LY=function(h,J,P,X,L,T,S,Z,y,m){for(m=h;m!=66;)if(m==44)m=(J&15)==J?12:91;else if(m==12)X.t2&&X.t2.forEach(P,void 0),m=91;else if(m==h)m=3;else{if(m==91)return y;m==3?m=((J|5)&3)==1?98:44:m==98?m=X.LT?80:56:m==56?(L=new Tr(P,this),Z=X.listener,S=X.bF||X.src,X.vK&&Dh(83,0,6,true,X),T=Z.call(S,L),m=17):m==80?(T=true,m=17):m==17&&(y=T,m=44)}},iR=function(h,J,P,X,L,T,S,Z,y,m){for(y=h;y!=91;)if(y==74)m=!!(L.NF&P)&&V(L,7,0,P)!=T&&(!(S=L.JH,-~(S&P)+(S&~P)+(~S^P)+(~S&P))||L.dispatchEvent(ts(\" \",\"\",8,3,16,X,1,P,T)))&&!L.Y,y=18;else{if(y==18)return m;y==77?(S=typeof L,Z=S!=T?S:L?Array.isArray(L)?\"array\":S:\"null\",m=Z==X||Z==T&&typeof L.length==P,y=37):y==1?y=J>>2&3?37:77:y==37?y=J-9>>3==1?74:18:y==h&&(y=1)}},To=function(h,J,P,X,L){for(X=25;X!=13;)if(X==25)X=50;else if(X==49)Sd.call(this),this.A=new vf(this),this.wa=null,this.aj=this,X=3;else if(X==54)L=Math.floor(this.uF+(this.L()-this.Vw)),X=97;else if(X==20)L=P,X=16;else{if(X==16)return L;X==50?X=J-1>>4?3:49:X==97?X=((J^16)&h)==2?20:16:X==3&&(X=J>>2&5?97:54)}},En=function(h,J,P,X,L,T,S,Z,y,m,A,E,d,W,r,C){for(r=18;r!=67;)if(r==52)C=this.n===0?0:Math.sqrt(this.EG/this.n),r=59;else if(r==33)X+=8192,r=37;else if(r==41)X=J,C=function(){return X<P.length?{done:false,value:P[X++]}:{done:true}},r=11;else if(r==37)r=X<J.length?31:1;else if(r==18)r=48;else if(r==58)C=T,r=28;else if(r==21)C=PP(81,17,0,J,X,P)>=0,r=39;else if(r==80)T=void 0,r=58;else if(r==31)L+=String.fromCharCode.apply(null,J.slice(X,X+8192)),r=33;else if(r==49)r=37;else if(r==28)r=h-6>>4?11:41;else if(r==66)P=window.btoa,r=4;else if(r==19)L=\"\",X=0,r=49;else if(r==4)r=P?19:80;else if(r==11)r=(h|72)==h?36:15;else if(r==14){a:{for(A=(m=(E=T.split(L),Zl),J);A<E.length-P;A++){if(!(d=E[A],d in m))break a;m=m[d]}W=(y=E[E.length-P],m[y]),Z=S(W),Z!=W&&Z!=X&&rv(m,y,{configurable:true,writable:true,value:Z})}r=15}else if(r==39)r=(h|24)==h?66:28;else{if(r==59)return C;r==48?r=(h^90)>>4?39:21:r==36?r=S?14:15:r==15?r=(h+8^20)>=h&&(h+8&44)<h?52:59:r==1&&(T=P(L).replace(/\\\\+/g,\"-\").replace(/\\\\//g,\"_\").replace(/=/g,\"\"),r=58)}},EX=function(h,J,P,X,L,T,S,Z,y,m,A,E,d,W){for(W=24;W!=10;)if(W==93)y+=P.charCodeAt(A),y+=y<<10,y=(h=y>>6,2*(~y&h)+(y|~h)-(~y|h)),W=21;else if(W==24)W=8;else if(W==3)W=J&&J.once?57:60;else if(W==94)d=(y=m5[P.substring(0,3)+\"_\"])?y(P.substring(3),T,S,h,X,L,J):oK(26,P,T,17),W=19;else if(W==21)A++,W=88;else if(W==41)W=88;else if(W==57)oK(26,0,true,10,X,S,J,L,h),W=43;else if(W==0)h=f(24,h),X&&X[ua]?X.A.add(String(S),h,P,U(31,T,J)?!!J.capture:!!J,L):K(14,null,false,L,X,J,h,P,S),W=43;else if(W==53)W=y<S.length?45:43;else if(W==8)W=(Z|48)==Z?3:43;else if(W==12)y+=y<<3,y=(L=y>>11,-(L|0)+(y|L)+(~y&L)),E=y+(y<<15)>>>0,J=new Number((m=(X=1<<T,-~(X&1)+-2+(X&-2)),-~(E|m)-(~E&m)+(~E|m))),J[0]=(E>>>T)%S,d=J,W=82;else if(W==45)EX(h,J,false,X,L,null,S[y],49),W=5;else if(W==56)W=53;else if(W==88)W=A<P.length?93:12;else{if(W==82)return d;W==43?W=(Z&118)==Z?94:19:W==5?(y++,W=53):W==30?(y=A=0,W=41):W==48?(y=0,W=56):W==60?W=Array.isArray(S)?48:0:W==19&&(W=Z<<1&7?82:30)}},Dh=function(h,J,P,X,L,T,S,Z,y,m,A,E){for(E=39;E!=81;)if(E==84)E=y&&y[ua]?2:43;else if(E==39)E=56;else if(E==20)T=this.constructor,E=87;else if(E==12)m=y?typeof y.Dh===\"function\"?y.Dh():new y:null,E=38;else if(E==80)T.src=null,y[Vh]=null,E=36;else if(E==43)Z=L.type,S=L.proxy,y.removeEventListener?y.removeEventListener(Z,S,L.capture):y.detachEvent?y.detachEvent(k(\"on\",11,Z),S):y.addListener&&y.removeListener&&y.removeListener(S),cf--,T=mx(y,9),E=23;else if(E==44)E=12;else if(E==28)E=T?77:12;else if(E==56)E=(P-9&6)==2?66:57;else if(E==38)this.g=m,E=57;else if(E==42)E=T.BK==J?80:36;else if(E==49)t(L,3,J,T),E=42;else if(E==23)E=T?49:30;else if(E==27)y=L.src,E=84;else if(E==h)E=(m=X)?38:20;else if(E==66)yc.call(this,L),E=h;else if(E==57)E=(P-5&3)==1?89:36;else if(E==2)t(L,19,J,y.A),E=36;else if(E==77)Z=mx(T,5),E=90;else if(E==30)Xc(37,37,X,L),E=36;else if(E==87)E=28;else if(E==9)E=28;else if(E==36)E=(P|8)==P?5:53;else if(E==90)E=(y=AM[Z])?44:96;else if(E==5)T=PP(81,16,0,J,X,L),(S=T>=0)&&Array.prototype.splice.call(X,T,J),A=S,E=53;else if(E==89)E=typeof L!==\"number\"&&L&&!L.LT?27:36;else if(E==96)T=(S=Object.getPrototypeOf(T.prototype))&&S.constructor,E=9;else if(E==53)return A},WP=function(h,J){function P(){this.O=this.EG=this.n=0}return[function(X){(J.qF(X),h).qF(X)},(h=(J=(P.prototype.Xa=function(){return En.call(this,64)},P.prototype.qF=function(X,L){return Cl.call(this,48,X,L)},new P),new P),function(X){return h=(X=[J.Xa(),h.Xa(),J.O,h.O],new P),X})]},CY=function(h){return k.call(this,h,14)},dv=function(h,J,P,X,L,T,S,Z){try{T=h[(6+3*(J^2)+4*(~J^2)-2*(~J|2))%3],h[J]=(L=(X=h[J],S=h[(2*(J|1)-~(J&1)+~(J|1))%3],(X&~S)+(~X^S)-(~X|S))-(T|0),Z=J==1?T<<P:T>>>P,-(L|0)-(Z|0)+2*(L|Z))}catch(y){throw y;}},Ll=function(h,J,P,X,L,T,S,Z){return EX.call(this,X,S,h,L,T,J,P,6,Z)},gv=function(h,J){return ts.call(this,\" \",\"\",h,6,J)},zo=function(h,J,P,X,L){if(h.length==3){for(P=0;P<3;P++)J[P]+=h[P];for(X=(L=[13,8,13,12,16,5,3,10,15],0);X<9;X++)J[3](J,X%3,L[X])}},D,sX=function(h,J,P,X,L,T){return k.call(this,h,36,J,P,X,L,T)},wv=function(){return U.call(this,10)},pY=function(h,J,P,X,L,T,S,Z,y,m,A,E,d,W){for(A=((h.Kr=t({get:function(){return this.concat()}},(h.uP=(h.zD=h[Kl],h.pr=tM,lR),23),h.U),h).bP=wF[h.U](h.Kr,{value:{value:{}}}),y=0,[]);y<298;y++)A[y]=String.fromCharCode(y);if((h.gv=(h.z7=(E=(h.ee=void 0,h.c6=8001,h.A2=0,h.D=void 0,(h.C=(h.J=0,void 0),h.X=h,(h.Nc=false,h).o=(h.uF=0,null),h).ma=0,h.RO=25,(h.R=false,h.S=(h.P=void 0,h.iP=false,0),h.v6=(h.I=1,h.HK=[],h.Z=[],function(r){return Xc.call(this,37,22,r)}),h.T=void 0,(h.CT=L,h.UG=0,h).cK=[],h.v=void 0,h.aO=0,h).W6=(h.tH=[],0),window).performance||{},h.Za=[],void 0),E.timeOrigin||(E.timing||{}).navigationStart||0),h.qc=(h.s=false,P),h.pT=[],h.Vw=0,h.N=(h.fT=false,void 0),h.h=[],h.J2=false,h.OG=[],J&&J.length==2)&&(h.Za=J[0],h.tH=J[1]),S)try{h.v=JSON.parse(S)}catch(r){h.v={}}U(36,254,(K(53,0,(K(21,0,(K(37,0,[(f(74,(f((f((f((f((H(443,h,((f(74,function(r,C,g){C=(g=O(8,r),Q(r.X,g)),C[0].removeEventListener(C[1],C[2],Bf)},h,(f(77,function(r,C){(C=Q(r,O(8,r)),cP)(8,104,r.X,0,C,55)},(H(148,h,(H((f(79,(H((f(75,function(r,C,g,w){(g=O(10,(w=qN(3420,(C=O(10,r),r),true),r)),H)(g,r,Q(r,C)>>>w)},(H(496,h,(H(112,h,(H(388,h,(f(79,(f(73,function(r,C,g,w,l){H((l=Q(r,(w=Q(r,(C=(g=O(9,r),O(3,r)),g)),C)),C),r,l+w)},((new vP((H(511,(f(73,function(r,C,g,w,l,G){for(G=17;G!=83;)G==73?(C++,G=57):G==50?(H(l,r,w),G=83):G==99?(w.push(qN(3420,r,true)),G=73):G==17?(l=O(10,r),g=O(12,7,r),C=0,w=[],G=63):G==63?G=57:G==57&&(G=C<g?99:50)},h,(f(75,function(r,C,g,w,l){for(l=87;l!=69;)l==92?l=C>0?11:7:l==7?(g[196]=r.h[196],g[388]=r.h[388],r.h=g,l=69):l==19?(C=qN(3420,r,true),l=61):l==20?(H(55,r,r.J),l=69):l==61?l=92:l==87?(g=r.HK.pop(),l=89):l==33?(C--,l=92):l==89?l=g?19:20:l==11&&(w=O(11,r),g[w]=r.h[w],l=33)},(f(74,function(r,C,g,w,l){for(l=41;l!=86;)l==36?(w=O(8,r),g=O(9,r),H(g,r,function(G){return eval(G)}(Rw(Q(r.X,w)))),l=86):l==41&&(l=$A(r,5,false,C,true,0)?86:36)},h,(h.oj=(H(408,h,(f(78,(H(240,(f(78,(h.Fa=(f(77,(f(74,function(r,C,g,w,l,G){for(G=50;G!=72;)G==99?G=r.X==r||l==r.v6&&g==r?59:72:G==50?G=$A(r,6,false,C,true,0)?72:20:G==20?(w=Vc(3420,1,r,0,true),l=w.IO,g=w.Lr,G=99):G==59&&(H(w.xI,r,l.apply(g,w.G)),r.A2=r.L(),G=72)},h,((H((f(75,function(r,C,g,w,l,G,c,R){for(R=62;R!=56;)R==59?(H(c,r,w),R=56):R==62?(c=O(8,r),g=O(14,7,r),w=\"\",l=Q(r,44),C=l.length,G=0,R=68):R==36?R=28:R==68?R=28:R==28?R=g--?47:59:R==47&&(G=((G|0)+(O(13,7,r)|0))%C,w+=A[l[G]],R=36)},(H(196,(f(75,function(r,C,g,w,l,G,c,R,e,q,N,I,a,hs,M,Pf,ia,rF,v){for(v=21;v!=9;)v==60?v=46:v==99?v=ia<R?20:70:v==70?(Pf=C,a=[],v=60):v==14?v=46:v==20?(l[ia]&&(g[ia]=O(3,r)),v=12):v==75?v=e<R?36:8:v==26?v=69:v==54?(f(73,function(b,B,z,kA,gF,p){for(p=3;p!=51;)p==50?p=l[gF]?7:85:p==85?p=25:p==3?(gF=0,kA=[],z=[],p=55):p==63?(b.D=la(b,a.slice(),10),b.C=la(b,z,17),p=51):p==55?p=70:p==18?(B=kA[B],p=7):p==61?p=25:p==70?p=gF<R?46:63:p==13?(kA.push(O(9,b)),p=61):p==46?(B=g[gF],p=50):p==25?p=B>=kA.length?13:18:p==7?(z.push(B),p=15):p==15&&(gF++,p=70)},r,q),v=9):v==36?(G=rF(1),l.push(G),c+=G?0:1,v=41):v==8?(hs=((c|0)-1).toString(2).length,g=[],M=0,v=26):v==45?v=99:v==15?(ia=0,v=45):v==55?(a.push(Q(r,O(9,r))),v=14):v==41?(e++,v=75):v==12?(ia++,v=99):v==69?v=M<R?79:15:v==86?(M++,v=69):v==21?(rF=function(b,B){for(;N<b;)I|=qN(3420,r,true)<<N,N+=8;return B=(N-=b,I)&(1<<b)-1,I>>=b,B},q=O(3,r),I=N=0,C=(w=rF(3),2*~w-4*~(w|1)-(w^1)+2*(w|-2)),R=rF(5),l=[],c=e=0,v=96):v==79?(l[M]||(g[M]=rF(hs)),v=86):v==46?v=Pf--?55:54:v==96&&(v=75)},h,(f(79,function(r,C,g,w){(w=O(9,(C=O(3,r),g=O(8,r),r)),H)(w,r,Q(r,C)||Q(r,g))},h,(f(78,(f(77,function(r,C,g,w,l,G,c,R,e,q,N,I,a,hs,M){for(M=93;M!=77;)if(M==57)M=25;else if(M==26)M=r.X==r?98:77;else if(M==25)M=N<w?72:77;else if(M==80)M=Un(\"splice\",q,\"number\")==\"object\"?30:26;else if(M==30){for(g in hs=[],q)hs.push(g);q=(M=26,hs)}else M==98?(N=0,e=e>0?e:1,w=q.length,M=57):M==46?(N+=e,M=25):M==75?(G=O(11,r),a=O(9,r),l=O(11,r),I=O(10,r),e=Q(r,l),q=Q(r,G),c=Q(r,a),R=Q(r,I),M=80):M==72?(c(q.slice(N,(N|0)+(e|0)),R),M=46):M==93&&(M=$A(r,5,true,C,true,0)?77:75)},h,(H(394,h,(H(377,h,(f(75,(f(77,function(r,C){H((C=O(3,r),C),r,[])},h,(f(77,(H(407,h,(f(74,(f(78,(H(358,(H(378,h,(H(55,h,(((h.laantf=[],h.kuydqs=[],h).bgodnd=(h.cpnqjn=\"\",0),h).v&&h.v.a&&((d=h.v.b)&&(h.bgodnd=d),(m=h.v.c)&&(h.cpnqjn=m),(W=h.v.d)&&(h.kuydqs=W),(Z=h.v.e)&&(h.laantf=Z)),0)),0)),h),{}),function(r){Go(r,3)}),h,84),function(r,C,g,w){Q(r,(g=Q(r,(C=O(10,(w=O(9,r),r)),C)),w))!=0&&H(55,r,g)}),h,414),h)),function(r,C,g,w,l,G,c,R){g=Q(r,(w=(R=Q(r,(G=O(11,(C=O((l=O(11,(c=O(11,r),r)),8),r),r)),C)),Q)(r,l),G)),H(c,r,O(32,2,1,w,r,g,R))}),h,124),374)),function(r,C,g,w,l){C=(g=Q(r,(l=O(3,(w=O(3,r),r)),w)),Un(\"splice\",g,\"number\")),H(l,r,C)}),h,490),0)),[154,0,0])),17)),function(r,C,g,w,l,G,c,R){for(R=65;R!=33;)R==24?R=r.X==r?86:33:R==42?R=G==2?99:33:R==86?(c=Q(r,C),G=Q(r,w),l=Q(r,g),c[G]=l,R=58):R==65?(C=O(9,r),w=O(10,r),g=O(3,r),R=24):R==99?(r.P=MN(32,false,r,3420),r.T=void 0,R=33):R==75?(r.T=void 0,R=42):R==58&&(R=C==19?75:33)}),h,416),297)),381)),f(78,function(r){km(r,1)},h,184),h),[]),h),290),188),h,[]),H)(72,h,fY(4)),227)),function(r,C,g,w,l,G){g=Q(r,(C=(w=(l=O(10,(G=O(9,r),r)),O(8,r)),Q(r,l)),G))==C,H(w,r,+g)}),h,86),0),function(r){km(r,4)}),h,405),h),0),function(r,C,g,w,l,G,c,R,e,q,N){for(N=10;N!=82;)N==95?(C=O(33,2,1,w,r,1,e,q,g),q.addEventListener(g,C,Bf),Q(r,188).push(function(){q.removeEventListener(g,C,Bf)}),H(240,r,[q,g,C]),N=82):N==10?(G=O(10,r),R=O(10,r),c=O(11,r),l=O(8,r),w=Q(r,c),q=Q(r.X,G),g=Q(r,R),e=Q(r,l),N=38):N==38&&(N=q!==0?95:82)}),h,98),[])),0),82)),h),137),277)),h),[]),\"Submit\"))).dispose(),h),460),function(r,C,g,w,l,G,c,R,e,q){for(q=0;q!=4;)q==0?q=$A(r,8,false,C,true,0)?4:17:q==17&&(w=Vc(3420,1,r.X,0,true),c=w.xI,g=w.Lr,R=w.G,e=R.length,G=w.IO,l=e==0?new g[G]:e==1?new g[G](R[0]):e==2?new g[G](R[0],R[1]):e==3?new g[G](R[0],R[1],R[2]):e==4?new g[G](R[0],R[1],R[2],R[3]):2(),H(c,r,l),q=4)}),h,441),[2048])),fY(4))),551)),h),306),445),h,[0,0,0]),function(r){Go(r,4)}),h,318),278),h,fY(4)),[])),h),484),274)),h).EP=0,F)),79),function(r,C,g,w,l,G){H((G=Q(r,(g=(C=(l=O(3,(w=O(3,r),r)),O(11,r)),Q(r,w)),l)),C),r,g in G|0)},h,371),73),function(r){IK(1,r,0,4,42)},h,186),79),function(r,C,g,w,l,G){H((w=Q(r,(C=Q(r,(l=(G=O((g=O(9,r),11),r),O(8,r)),g)),G)),l),r,C[w])},h,87),73),function(r,C,g){H((C=O(9,(g=O(8,r),r)),C),r,\"\"+Q(r,g))},h,244),function(){}),h,282),YA)],h),[ow,X]),h),[uR,T]),h),h),true,true)},ed=function(h,J,P,X,L,T,S,Z,y,m,A,E){for(E=30;E!=24;)if(E==36)y=L[m],E=7;else if(E==67)E=26;else if(E==17){a:{if(y&&typeof y.length==S){if(U(28,null,y)){Z=typeof y.item==\"function\"||typeof y.item==\"string\";break a}if(typeof y===\"function\"){Z=typeof y.item==\"function\";break a}}Z=false}As(2,80,8,P,X,A,Z?PP(81,3,y,X):y),E=59}else E==7?E=!iR(4,3,S,\"array\",y,h)||U(30,null,y)&&y.nodeType>X?18:17:E==30?(A=function(d){d&&T.appendChild(typeof d===\"string\"?J.createTextNode(d):d)},m=1,E=67):E==59?(m++,E=26):E==26?E=m<L.length?36:24:E==18&&(A(y),E=59)},u=function(h,J,P,X,L,T,S,Z){return Dh.call(this,83,h,3,J,P,X,L,T,S,Z)},NL=function(){return yh.call(this,31,\"class\",3)},dF=function(){return U.call(this,24)},H=function(h,J,P){if(h==55||h==378)J.h[h]?J.h[h].concat(P):J.h[h]=la(J,P,18);else{if(J.iP&&h!=19)return;h==394||h==278||h==408||h==72||h==196||h==148||h==511||h==445||h==112||h==388?J.h[h]||(J.h[h]=la(0,61,3,h,P,J,118)):J.h[h]=la(0,61,13,h,P,J,145)}h==19&&(J.P=MN(32,false,J,3420),J.T=void 0)},yc=function(h){return Qh.call(this,3,20,5,h)},Tr=function(h,J,P,X,L){return Xc.call(this,37,3,h,J,P,X,L)},BP=function(h,J){function P(){this.n=(this.F=[],0)}return[function(X){(h.Qw(X),J).Qw(X)},(h=(P.prototype.je=(P.prototype.Qw=function(X,L){return mx.call(this,X,50,L)},function(){return Cl.call(this,30)}),new P),J=new P,function(X){return J=(X=h.je().concat(J.je()),new P),X})]},MN=function(h,J,P,X,L,T,S,Z,y,m,A,E,d,W,r,C,g){if(r=Q(P,55),r>=P.J)throw[UX,31];for(g=(W=(y=0,r),P.zD).length,m=h;m>0;)d=W%8,A=8-(d|0),C=W>>3,S=A<m?A:m,L=P.cK[C],J&&(Z=P,Z.T!=W>>6&&(Z.T=W>>6,E=Q(Z,19),Z.ee=FD(2,29,Z.P,X,3,Z.T,[0,0,E[1],E[2]])),L^=P.ee[C&g]),y|=(L>>8-(d|0)-(S|0)&(1<<S)-1)<<(m|0)-(S|0),W+=S,m-=S;return H(55,P,((T=y,r)|0)+(h|0)),T},x=function(h,J,P,X,L,T,S,Z,y){if(h.X==h)for(T=Q(h,P),P==278||P==112||P==72?(Z=function(m,A,E,d,W,r,C,g,w){for(w=(C=88,37);;)try{if(C==24)break;else{if(C==69)throw w=37,g;C==56?C=T.Da!=r?91:43:C==34?(w=36,T.nr=FD(2,29,IK(1,24,0,A,53,T),3420,3,IK(1,24,0,2*(A|4)-~(A&4)+~(A|4),52,T),E),C=43):C==43?(T.push((d=T.nr[W&7],-2*(~d^m)+(d|~m)+(~d|m))),C=24):C==91?(T.Da=r,E=[0,0,L[1],L[2]],A=(r<<3)-4,C=34):C==88&&(W=T.length,r=3*(W&-5)-2*(W^4)+(~W&4)>>3,C=56)}}catch(l){if(w==37)throw l;w==36&&(g=l,C=69)}},L=Q(h,445)):Z=function(m){T.push(m)},X&&Z(X&255),y=0,S=J.length;y<S;y++)Z(J[y])},rv=typeof Object.defineProperties==\"function\"?Object.defineProperty:function(h,J,P,X){for(X=58;X!=59;){if(X==60)return h[J]=P.value,h;if(X==58)X=h==Array.prototype||h==Object.prototype?81:60;else if(X==81)return h}},KY=function(h,J,P,X,L,T,S,Z,y,m,A,E){J.push((L=(y=h[0]<<24,A=h[1]<<16,(y&A)+2*(y&~A)-(y|~A)+(~y|A)),Z=h[2]<<8,(L|0)-1-(L&~Z)-(~L^Z))|h[3]),J.push((m=h[4]<<24,T=h[5]<<16,-~(m|T)+(m&~T)+(~m^T)+(~m&T))|h[6]<<8|h[7]),J.push((E=(S=h[8]<<24|h[9]<<16,P=h[10]<<8,-~(S&P)+3*(S&~P)-(S|~P)+2*(~S|P)),X=h[11],2*(X|0)+~X-(~E|X)))},vP=function(h,J,P){return zr.call(this,20,h,J,P)},bR=function(h,J,P,X,L,T,S,Z,y,m,A,E){if(!P.iP&&(Z=void 0,X&&X[0]===UX&&(Z=X[2],h=X[1],X=void 0),m=Q(P,196),m.length==0&&(E=Q(P,378)>>3,m.push(h,E>>J&255,E&255),Z!=void 0&&m.push((Z|255)-~(Z&255)+~(Z|255))),S=\"\",X&&(X.message&&(S+=X.message),X.stack&&(S+=\":\"+X.stack)),L=Q(P,388),L[0]>3)){P.X=(S=Iw((S=S.slice(0,(L[0]|0)-3),L[0]-=(S.length|0)+3,S),128),A=P.X,P);try{P.fT?(T=(T=Q(P,148))&&T[T.length-1]||95,(y=Q(P,511))&&y[y.length-1]==T||x(P,[-1-~T-(T&-256)],511)):x(P,[95],148),x(P,n(2,S.length).concat(S),278,51)}finally{P.X=A}}},FD=function(h,J,P,X,L,T,S,Z,y,m){for(Z=S[y=(m=0,S[h]|0),L]|0;m<14;m++)T=T>>>8|T<<24,T+=P|0,T^=y+X,P=P<<L|P>>>J,Z=Z>>>8|Z<<24,P^=T,Z+=y|0,y=y<<L|y>>>J,Z^=m+X,y^=Z;return[P>>>24&255,P>>>16&255,P>>>8&255,P>>>0&255,T>>>24&255,T>>>16&255,T>>>8&255,T>>>0&255]},km=function(h,J,P,X){x(h,(P=O(10,h),X=O(3,h),n(J,Q(h,P))),X)},jd=function(h,J,P,X,L,T,S,Z,y,m,A,E){for(m=(E=2,13);;)try{if(E==46)break;else if(E==66)m=13,E=h;else if(E==63)E=Z&&Z.createPolicy?P:55;else if(E==P)m=78,y=Z.createPolicy(L,{createHTML:OX,createScript:OX,createScriptURL:OX}),E=X;else if(E==J)F.console[S](A.message),E=X;else if(E==2)Z=F.trustedTypes,y=T,E=63;else{if(E==X)return m=13,y;if(E==55)return y;E==h&&(E=F.console?J:X)}}catch(d){if(m==13)throw d;m==78&&(A=d,E=66)}},Sd=function(){return K.call(this,3)},Vc=function(h,J,P,X,L,T,S,Z,y,m){for(y=((Z=(T=P[HP]||{},O(10,P)),T).xI=O(11,P),T.G=[],P.X==P)?(qN(h,P,L)|X)-J:1,m=O(3,P),S=X;S<y;S++)T.G.push(O(8,P));for((T.Lr=Q(P,m),T).IO=Q(P,Z);y--;)T.G[y]=Q(P,T.G[y]);return T},Y=function(h,J,P,X,L,T,S){S=this;try{pY(this,h,J,T,X,L,P)}catch(Z){Cl(99,2048,Z,this),L(function(y){y(S.N)})}},Q=function(h,J,P){if(P=h.h[J],P===void 0)throw[UX,30,J];if(P.value)return P.create();return P.create(J*2*J+-41*J+-67),P.prototype},ba=function(){return To.call(this,11,5)},Go=function(h,J,P,X,L,T,S){x(h,(T=Q(h,(S=O(10,(P=O(3,(L=-4+2*(X=J&3,J|4)-2*(J^4)+(~J&4),h)),h)),P)),L&&(T=Iw(\"\"+T,128)),X&&x(h,n(2,T.length),S),T),S)},Qc=function(h,J,P,X,L){return yh.call(this,31,\"class\",29,h,J,P,X,L)},Wf=function(h,J,P,X,L,T,S,Z,y,m,A,E){if((L=h[0],L)==Fc)P.s=X,P.RO=25,P.u(h);else if(L==Kl){E=h[J];try{Z=P.N||P.u(h)}catch(d){Cl(36,2048,d,P),Z=P.N}(E((S=P.L(),Z)),P).S+=P.L()-S}else if(L==nl)h[3]&&(P.R=X),h[4]&&(P.s=X),P.u(h);else if(L==ow)P.R=X,P.u(h);else if(L==uR){try{for(T=0;T<P.pT.length;T++)try{m=P.pT[T],m[0][m[J]](m[2])}catch(d){}}catch(d){}(0,h[J])(function(d,W){P.oO(d,X,W)},function(d){(K(5,0,[Dl],(d=!P.Z.length,P)),d)&&U(21,254,P,false,X)},function(d){return P.F$(d)},(P.pT=[],y=P.L(),function(d,W){return P.B6(d,W)})),P.S+=P.L()-y}else{if(L==NN)return A=h[2],H(291,P,h[6]),H(358,P,A),P.u(h);L==Dl?(P.u(h),P.h=null,P.cK=[],P.OG=[]):L==YA&&F.document.readyState===\"loading\"&&(P.o=function(d,W){function r(C){for(C=97;C!=61;)C==12?(W=X,F.document.removeEventListener(\"DOMContentLoaded\",r,Bf),F.removeEventListener(\"load\",r,Bf),d(),C=61):C==97&&(C=W?61:12)}(F.document.addEventListener(\"DOMContentLoaded\",(W=false,r),Bf),F).addEventListener(\"load\",r,Bf)})}},OX=function(h){return To.call(this,11,18,h)},n=function(h,J,P,X,L){for(X=(h|0)-1,P=[];X>=0;X--)P[-2*~(h&1)+2*~(h|1)+2*(h&-2)+(h^1)-(X|0)]=(L=J>>X*8,(L|255)- -2+(L^255)+2*(~L^255));return P},Zh=function(h,J){return Gr.call(this,87,3,h,J)},j7=function(){return Gr.call(this,87,48)},nY=function(h,J){for(var P=16;P!=47;)if(P==16)var X=(P=59,1);else if(P==74)T++,P=6;else if(P==59)P=5;else if(P==71)X++,P=5;else if(P==99){var L=arguments[X];for(S in L)h[S]=L[S];var T=(P=86,0)}else if(P==86)P=6;else if(P==43){var S=xm[T];P=(Object.prototype.hasOwnProperty.call(L,S)&&(h[S]=L[S]),74)}else P==6?P=T<xm.length?43:71:P==5&&(P=X<arguments.length?99:47)},e7=function(h,J,P){return(P=h.create().shift(),J.D.create().length||J.C.create().length)||(J.D=void 0,J.C=void 0),P},fY=function(h,J,P){for(P=49;P!=72;)if(P==22)J.push(Math.random()*255|0),P=91;else if(P==55)P=h--?22:10;else if(P==49)J=[],P=44;else{if(P==10)return J;P==91?P=55:P==44&&(P=55)}},$m=function(){return Gr.call(this,87,24)},aw=function(h,J,P,X,L,T){return Q(P,(H(55,P,(Ym(9,496,((T=Q(P,55),P.cK)&&T<P.J?(H(55,P,P.J),cP(8,104,P,L,J,55)):H(55,P,J),P),X),T)),h))},RK=function(h,J,P,X,L,T){return LY.call(this,11,16,J,h,P,X,L,T)},Un=function(h,J,P,X,L){if(X=typeof J,X==\"object\")if(J){if(J instanceof Array)return\"array\";if(J instanceof Object)return X;if((L=Object.prototype.toString.call(J),L)==\"[object Window]\")return\"object\";if(L==\"[object Array]\"||typeof J.length==P&&typeof J.splice!=\"undefined\"&&typeof J.propertyIsEnumerable!=\"undefined\"&&!J.propertyIsEnumerable(h))return\"array\";if(L==\"[object Function]\"||typeof J.call!=\"undefined\"&&typeof J.propertyIsEnumerable!=\"undefined\"&&!J.propertyIsEnumerable(\"call\"))return\"function\"}else return\"null\";else if(X==\"function\"&&typeof J.call==\"undefined\")return\"object\";return X},h0=function(h,J,P,X,L){return f.call(this,27,J,L,X,h,P)},qN=function(h,J,P){return J.D?e7(J.C,J):MN(8,P,J,h)},cP=function(h,J,P,X,L,T){P.HK.length>J?bR(X,h,P,[UX,36]):(P.HK.push(P.h.slice()),P.h[T]=void 0,H(T,P,L))},Ym=function(h,J,P,X,L,T,S,Z,y){if(!P.N){P.UG++;try{for(L=(Z=0,void 0),y=P.J;--X;)try{if(S=void 0,P.D)L=e7(P.D,P);else{if(Z=Q(P,55),Z>=y)break;L=Q(P,(S=O(h,(H(378,P,Z),P)),S))}$A(P,h,(L&&(T=L[Dl],2049+(T&-2049)+(~T^2048))?L(P,X):bR(0,8,P,[UX,21,S]),false),X,false,0)}catch(m){Q(P,J)?bR(22,8,P,m):H(J,P,m)}if(!X){if(P.rv){Ym(9,496,(P.UG--,P),797695779510);return}bR(0,8,P,[UX,33])}}catch(m){try{bR(22,8,P,m)}catch(A){Cl(35,2048,A,P)}}P.UG--}},vf=function(h){return As.call(this,2,80,32,h)},Iw=function(h,J,P,X,L,T,S,Z,y,m,A,E){for(X=(L=h.replace(/\\\\r\\\\n/g,\"\\\\n\"),T=S=0,[]);T<L.length;T++)m=L.charCodeAt(T),m<J?X[S++]=m:(m<2048?X[S++]=m>>6|192:((m&64512)==55296&&T+1<L.length&&(E=L.charCodeAt(T+1),64513+(E^64512)-2*(~E&64512)+(~E|64512))==56320?(m=65536+(-2*~(m&1023)-1+~m+(m&-1024)<<10)+(y=L.charCodeAt(++T),-~(y&1023)+(y&-1024)+(~y|1023)),X[S++]=(Z=m>>18,241+2*(Z&-241)+(~Z|240)),X[S++]=m>>12&63|J):X[S++]=m>>12|224,X[S++]=(P=m>>6&63,256-(P&J)+(P|-129)-(~P|J))),X[S++]=(A=63-~(m&63)+-64,(A&J)-1-(~A^J)));return X},Zl=K(17,\"object\",0,\"Math\",this),F=(En(72,0,1,null,\".\",\"Symbol\",function(h,J,P,X,L,T){for(L=91;L!=49;){if(L==43)return h;if(L==91)T=function(S,Z){rv(this,\"description\",(this.AH=S,{configurable:true,writable:true,value:Z}))},X=function(S,Z){for(Z=52;Z!=18;){if(Z==87)return new T(J+(S||\"\")+\"_\"+P++,S);if(Z==69)throw new TypeError(\"Symbol is not a constructor\");Z==52&&(Z=this instanceof X?69:87)}},L=50;else if(L==50)L=h?43:57;else if(L==57)return T.prototype.toString=function(){return this.AH},J=\"jscomp_symbol_\"+(Math.random()*1E9>>>0)+\"_\",P=0,X}}),this)||self,JM=\"closure_uid_\"+(Math.random()*1E9>>>0),On,XD=0,fl=function(h,J,P,X,L,T){for(T=30,X=98;;)try{if(T==42)break;else if(T==36)X=90,P=function(){},F.addEventListener(\"test\",P,J),F.removeEventListener(\"test\",P,J),T=90;else if(T==30)T=F.addEventListener&&Object.defineProperty?19:57;else{if(T==57)return false;if(T==19)h=false,J=Object.defineProperty({},\"passive\",{get:function(){h=true}}),T=36;else{if(T==90)return X=98,h;T==32&&(X=98,T=90)}}}catch(S){if(X==98)throw S;X==90&&(L=S,T=32)}}(),ua=\"closure_listenable_\"+((pl(31,2,Tr,(Sd.prototype.Y=(Zh.prototype.preventDefault=function(){this.defaultPrevented=true},Sd.prototype.dispose=function(h){for(h=87;h!=84;)h==87?h=this.Y?84:31:h==31&&(this.Y=true,this.B(),h=84)},false),(Sd.prototype.B=function(h){for(h=44;h!=73;)h==44?h=this.ga?84:73:h==41?h=51:h==51?h=this.ga.length?34:73:h==34?(this.ga.shift()(),h=41):h==84&&(h=51)},Sd).prototype[Symbol.dispose]=(Zh.prototype.stopPropagation=function(){this.KT=true},function(){this.dispose()}),Zh)),Tr).prototype.stopPropagation=function(){(Tr.K.stopPropagation.call(this),this.j.stopPropagation)?this.j.stopPropagation():this.j.cancelBubble=true},Tr.prototype.preventDefault=function(h){h=(Tr.K.preventDefault.call(this),this).j,h.preventDefault?h.preventDefault():h.returnValue=false},Math.random()*1E6|0),hM=0,xm=\"constructor hasOwnProperty isPrototypeOf propertyIsEnumerable toLocaleString toString valueOf\".split(\" \"),Vh=\"closure_lm_\"+((vf.prototype.remove=(vf.prototype.add=(vf.prototype.hasListener=function(h,J,P,X,L){return mx(true,16,(X=(P=(L=J!==void 0,h)!==void 0)?h.toString():\"\",false),function(T,S,Z){for(Z=90;Z!=42;)if(Z==84)++S,Z=32;else if(Z==48)Z=P&&T[S].type!=X||L&&T[S].capture!=J?84:69;else if(Z==90)S=0,Z=87;else{if(Z==26)return false;if(Z==69)return true;Z==32?Z=S<T.length?48:26:Z==87&&(Z=32)}},this.i)},function(h,J,P,X,L,T,S,Z,y,m){for(m=2;m!=22;)if(m==67)T.vK=false,m=24;else if(m==56)m=P?24:67;else{if(m==24)return T;m==61?(T=y[S],m=56):m==37?m=y?71:11:m==11?(y=this.i[Z]=[],this.BK++,m=71):m==71?(S=t(L,10,0,J,y,X),m=94):m==2?(Z=h.toString(),y=this.i[Z],m=37):m==1?(T=new h0(J,Z,L,this.src,!!X),T.vK=P,y.push(T),m=24):m==94&&(m=S>-1?61:1)}}),function(h,J,P,X,L,T,S,Z){for(Z=67;Z!=81;)if(Z==47)Z=S.length==0?26:19;else{if(Z==58)return false;if(Z==27)S=this.i[T],L=t(X,9,0,J,S,P),Z=69;else if(Z==4)Z=T in this.i?27:58;else if(Z==25)Xc(37,45,true,S[L]),Array.prototype.splice.call(S,L,1),Z=47;else if(Z==69)Z=L>-1?25:51;else{if(Z==51)return false;if(Z==67)T=h.toString(),Z=4;else{if(Z==19)return true;Z==26&&(delete this.i[T],this.BK--,Z=19)}}}}),vf).prototype.PK=function(h,J,P,X,L,T){return(T=this.i[L=-1,X.toString()],T)&&(L=t(h,8,0,J,T,P)),L>-1?T[L]:null},Math.random()*1E6|0),Js={},cf=0,aK=\"__closure_events_fn_\"+(Math.random()*1E9>>>0);((((((pl(30,2,ba,Sd),ba).prototype[ua]=true,D=ba.prototype,D.da=function(h){this.wa=h},D).addEventListener=function(h,J,P,X){EX(J,P,false,this,X,null,h,51)},D).removeEventListener=function(h,J,P,X){$A(X,15,this,0,P,null,h,J)},D).dispatchEvent=function(h,J,P,X,L,T,S,Z,y,m,A,E){for(E=73;E!=13;)if(E==86)E=91;else if(E==40)E=typeof A===\"string\"?58:6;else if(E==47)E=X?88:20;else if(E==52)m=X.length-1,E=86;else if(E==65)T=A.currentTarget=L,S=k(true,53,A,T,y,true)&&S,A.KT||(S=k(true,5,A,T,y,false)&&S),E=47;else if(E==80)m++,E=95;else if(E==95)E=!A.KT&&m<X.length?93:20;else if(E==44)Z.push(J),E=94;else if(E==58)A=new Zh(A,L),E=12;else if(E==53)E=X?52:4;else if(E==91)E=!A.KT&&m>=0?27:4;else{if(E==20)return S;E==31?E=J?44:35:E==73?(J=this.wa,E=28):E==54?(A.target=A.target||L,E=12):E==48?E=31:E==10?E=95:E==96?(Z=[],E=48):E==35?(X=Z,L=this.aj,A=h,y=A.type||A,E=40):E==94?(J=J.wa,E=31):E==4?E=A.KT?47:65:E==93?(T=A.currentTarget=X[m],S=k(true,29,A,T,y,false)&&S,E=80):E==6?E=A instanceof Zh?54:16:E==27?(T=A.currentTarget=X[m],S=k(true,13,A,T,y,true)&&S,E=49):E==49?(m--,E=91):E==12?(S=true,E=53):E==88?(m=0,E=10):E==16?(P=A,A=new Zh(y,L),nY(A,P),E=12):E==28&&(E=J?96:35)}},D).PK=function(h,J,P,X){return this.A.PK(h,J,P,String(X))},D).B=function(){(ba.K.B.call(this),this.A)&&k(true,8,0,this.A),this.wa=null},D.hasListener=function(h,J){return this.A.hasListener(h!==void 0?String(h):void 0,J)};var xA;((pl(25,((((((((\"ARTICLE SECTION NAV ASIDE H1 H2 H3 H4 H5 H6 HEADER FOOTER ADDRESS P HR PRE BLOCKQUOTE OL UL LH LI DL DT DD FIGURE FIGCAPTION MAIN DIV EM STRONG SMALL S CITE Q DFN ABBR RUBY RB RT RTC RP DATA TIME CODE VAR SAMP KBD SUB SUP I B U MARK BDI BDO SPAN BR WBR NOBR INS DEL PICTURE PARAM TRACK MAP TABLE CAPTION COLGROUP COL TBODY THEAD TFOOT TR TD TH SELECT DATALIST OPTGROUP OPTION OUTPUT PROGRESS METER FIELDSET LEGEND DETAILS SUMMARY MENU DIALOG SLOT CANVAS FONT CENTER ACRONYM BASEFONT BIG DIR HGROUP STRIKE TT\".split(\" \").concat([\"BUTTON\",\"INPUT\"]),D=j7.prototype,D).W=function(h){return typeof h===\"string\"?this.ra.getElementById(h):h},D.getElementsByTagName=function(h,J){return(J||this.ra).getElementsByTagName(String(h))},D.createElement=function(h,J,P){return(P=(J=String(h),this).ra,P).contentType===\"application/xhtml+xml\"&&(J=J.toLowerCase()),P.createElement(J)},D).createTextNode=function(h){return this.ra.createTextNode(String(h))},D).appendChild=function(h,J){h.appendChild(J)},D).append=function(h,J){ed(\"object\",h.nodeType==9?h:h.ownerDocument||h.document,\"\",0,arguments,h,\"number\")},D.canHaveChildren=function(h,J){for(J=45;J!=23;){if(J==13)return false;if(J==19){switch(h.tagName){case \"APPLET\":case \"AREA\":case \"BASE\":case \"BR\":case \"COL\":case \"COMMAND\":case \"EMBED\":case \"FRAME\":case \"HR\":case \"IMG\":case \"INPUT\":case \"IFRAME\":case \"ISINDEX\":case \"KEYGEN\":case \"LINK\":case \"NOFRAMES\":case \"NOSCRIPT\":case \"META\":case \"OBJECT\":case \"PARAM\":case \"SCRIPT\":case \"SOURCE\":case \"STYLE\":case \"TRACK\":case \"WBR\":return false}return true}J==45&&(J=h.nodeType!=1?13:19)}},D).removeNode=CY,D).contains=function(h,J,P,X){for(X=9;X!=33;)if(X==9)X=h&&J?28:67;else if(X==76)X=J&&h!=J?86:42;else{if(X==48)return h==J||h.contains(J);if(X==13)return h==J||!!(P=h.compareDocumentPosition(J),-~(P&16)+(P&-17)+(~P^16)+(~P&16));if(X==67)return false;if(X==41)X=76;else if(X==28)X=h.contains&&J.nodeType==1?48:5;else{if(X==42)return J==h;X==86?(J=J.parentNode,X=61):X==61?X=76:X==5&&(X=typeof h.compareDocumentPosition!=\"undefined\"?13:41)}}},U(58,$m),$m.prototype.UP=\"\",$m).prototype.wv=0,2),yc,ba),D=yc.prototype,D).lP=$m.Dh(),D.W=function(){return this.H},D.getParent=function(){return this.iF},D.B=function(h){for(h=23;h!=43;)h==15?(this.h2.dispose(),delete this.h2,h=20):h==35?h=this.h2?15:20:h==23?(this.yw&&this.X$(),h=35):h==20&&(LY(11,3,function(J){J.dispose()},this),!this.TD&&this.H&&CY(this.H),this.t2=this.iF=this.Zh=this.H=null,yc.K.B.call(this),h=43)},D).X$=function(){(LY(11,6,function(h){h.yw&&h.X$()},this),this.h2&&k(true,24,0,this.h2),this).yw=false},D.da=function(h,J){for(J=2;J!=67;){if(J==86)throw Error(\"Method not supported\");J==2?J=this.iF&&this.iF!=h?86:78:J==78&&(yc.K.da.call(this,h),J=67)}},D.removeChild=function(h,J,P,X,L,T,S,Z,y,m,A,E,d){for(d=75;d!=86;)if(d==25)h=Z,d=29;else if(d==71)d=(P=h.hH)?5:51;else if(d==37)d=h?21:80;else if(d==47)h.X$(),h.H&&CY(h.H),d=99;else if(d==5)y=P,d=96;else if(d==96)E=y,d=73;else if(d==32)Z=null,d=25;else if(d==33)d=m==null?31:39;else if(d==77)y=h,d=96;else if(d==9)T=this.Zh,Z=(T!==null&&E in T?T[E]:void 0)||null,d=25;else{if(d==31)throw Error(\"Unable to set parent component\");if(d==21)return h;if(d==82)S=this.Zh,E in S&&delete S[E],Dh(83,1,13,this.t2,h),d=17;else if(d==29)d=E&&h?82:37;else{if(d==80)throw Error(\"Child is not in parent component\");d==75?d=h?50:37:d==50?d=typeof h===\"string\"?77:71:d==17?d=J?47:99:d==39?(m.iF=null,yc.K.da.call(m,null),d=37):d==51?(A=h.lP,X=h,L=A.UP+\":\"+(A.wv++).toString(36),P=X.hH=L,d=5):d==99?(m=h,d=33):d==73&&(d=this.Zh&&E?9:32)}}};var PC,J0={button:\"pressed\",checkbox:(U(50,NL),\"checked\"),menuitem:\"selected\",menuitemcheckbox:\"checked\",menuitemradio:\"checked\",radio:\"checked\",tab:\"selected\",treeitem:\"selected\"},AM=((U(57,(pl(17,(((D=NL.prototype,D).nT=function(h,J,P,X){(X=J.W?J.W():J)&&(P?Qc:gv)(X,[h])},D.l=function(h,J,P,X,L,T,S){for(S=65;S!=42;)S==78?S=T?7:42:S==7?S=this.sG?18:99:S==65?(T=J.W(),S=78):S==18?((X=this.sG[h])&&this.nT(X,J,P),this.Se(T,h,P),S=42):S==99&&(L=this.YK(),L.replace(/\\\\xa0|\\\\s/g,\" \"),this.sG={1:L+\"-disabled\",2:L+\"-hover\",4:L+\"-active\",8:L+\"-selected\",16:L+\"-checked\",32:L+\"-focused\",64:L+\"-open\"},S=18)},D.YK=function(){return\"goog-control\"},D).Se=function(h,J,P,X,L,T,S,Z){(L=((T=(Z=(PC||(PC={1:\"disabled\",8:\"selected\",16:\"checked\",64:\"expanded\"}),PC)[J],h).getAttribute(\"role\")||null)?(X=J0[T]||Z,S=Z==\"checked\"||Z==\"selected\"?X:Z):S=Z,S))&&t(\"live\",6,\"aria-\",P,L,h)},D.MF=function(h,J,P,X,L,T,S,Z,y){for(y=(Z=90,61);;)try{if(Z==41)break;else Z==97?(y=61,Z=1):Z==77?Z=V(h,6,0,32)?40:83:Z==46?(T.tabIndex=-1,T.removeAttribute(\"tabIndex\"),Z=41):Z==40?(h.G7&4&&h.NF&4&&h.setActive(false),h.G7&32&&h.NF&32&&iR(4,23,32,64,h,false)&&h.l(false,32),Z=83):Z==82?(T=P,Z=44):Z==95?(y=46,P.blur(),Z=1):Z==6?Z=!J&&V(h,5,0,32)?95:83:Z==99?(L=P.tabIndex,X=typeof L===\"number\"&&L>=0&&L<32768,Z=58):Z==83?Z=(X=P.hasAttribute(\"tabindex\"))?99:58:Z==44?Z=J?26:46:Z==58?Z=X!=J?82:41:Z==1?(y=61,Z=77):Z==90?Z=h.NF&32&&(P=h.T7())?6:41:Z==26&&(T.tabIndex=0,Z=41)}catch(m){if(y==61)throw m;y==46&&(S=m,Z=97)}},D.T7=function(h){return h.W()},2),wv,NL),wv)),wv).prototype.Se=function(h,J,P){switch(J){case 8:case 16:t(\"live\",5,\"aria-\",P,\"pressed\",h);break;default:case 64:case 1:wv.K.Se.call(this,h,J,P)}},wv.prototype.YK=function(){return\"goog-button\"},{});if(((((((pl(29,2,u,yc),D=u.prototype,D.T7=function(){return this.g.T7(this)},D.V=null,D).nT=function(h,J,P){for(P=84;P!=2;)P==39?(this.V=null,P=12):P==82?P=J&&this.V&&Dh(83,1,9,this.V,J)?73:2:P==12?(this.g.nT(J,this,false),P=2):P==21?(this.V?En(80,1,J,this.V)||this.V.push(J):this.V=[J],this.g.nT(J,this,true),P=2):P==84?P=h?50:82:P==73?P=this.V.length==0?39:12:P==50&&(P=J?21:2)},D.JH=0,D.X$=function(){((u.K.X$.call(this),this).lF&&this.lF.detach(),this).isVisible()&&this.isEnabled()&&this.g.MF(this,false)},D).xK=0,D.G7=255,D.NF=39,D.Sk=true,D).B=function(h){for(h=15;h!=57;)h==0?(delete this.g,this.V=null,h=57):h==39?(this.lF.dispose(),delete this.lF,h=0):h==44?h=this.lF?39:0:h==15&&(u.K.B.call(this),h=44)},D).isVisible=function(){return this.Sk},D.isEnabled=function(){return!V(this,13,0,1)},D.isActive=function(){return V(this,14,0,4)},D.setActive=function(h){iR(4,22,4,64,this,h)&&this.l(h,4)},D).getState=function(){return this.xK},D.l=function(h,J,P,X,L,T,S){for(S=3;S!=8;)S==83?(this.g.l(J,this,h),this.xK=h?(L=this.xK,-2-~J-(~L|J)):this.xK&~J,S=8):S==84?(this.setActive(false),iR(4,21,2,64,this,false)&&this.l(false,2),S=51):S==51?(this.isVisible()&&this.g.MF(this,T),this.l(!T,1,true),S=8):S==3?S=P||J!=1?76:73:S==52?S=T?51:84:S==77?S=X&&typeof X.isEnabled==\"function\"&&!X.isEnabled()||!iR(4,20,1,64,this,!T)?8:52:S==73?(T=!h,X=this.getParen\n"
     ]
    }
   ],
   "source": [
    "# use DuckDuckGo to find websites and take the first result\n",
    "url = search(query)[1]\n",
    "\n",
    "# scrape first wesbsite\n",
    "soup = scrape_weather_info(url)\n",
    "\n",
    "print(f\"Website: {url}\\n\\n\")\n",
    "print(str(soup.body)[:50000])  # limit long outputs"
   ]
  },
  {
   "cell_type": "code",
   "execution_count": 11,
   "metadata": {},
   "outputs": [
    {
     "name": "stdout",
     "output_type": "stream",
     "text": [
      "Website: http://www.google.com/search?hl=en&q=what+is+the+current+weather+in+bangkok?+Should+I+travel+there+today?+\"weather.com\"\n",
      "\n",
      "\n",
      "\n"
     ]
    }
   ],
   "source": [
    "# extract text\n",
    "weather_data = []\n",
    "for tag in soup.find_all([\"h1\", \"h2\", \"h3\", \"p\"]):\n",
    "    text = tag.get_text(\" \", strip=True)\n",
    "    weather_data.append(text)\n",
    "\n",
    "# combine all elements into a single string\n",
    "weather_data = \"\\n\".join(weather_data)\n",
    "\n",
    "# remove all spaces from the combined text\n",
    "weather_data = re.sub(r\"\\s+\", \" \", weather_data)\n",
    "\n",
    "print(f\"Website: {url}\\n\\n\")\n",
    "print(weather_data)"
   ]
  },
  {
   "cell_type": "markdown",
   "metadata": {},
   "source": [
    "### Agentic Search"
   ]
  },
  {
   "cell_type": "code",
   "execution_count": 12,
   "metadata": {},
   "outputs": [
    {
     "name": "stdout",
     "output_type": "stream",
     "text": [
      "{'location': {'name': 'Bangkok', 'region': 'Krung Thep', 'country': 'Thailand', 'lat': 13.75, 'lon': 100.5167, 'tz_id': 'Asia/Bangkok', 'localtime_epoch': 1739769664, 'localtime': '2025-02-17 12:21'}, 'current': {'last_updated_epoch': 1739769300, 'last_updated': '2025-02-17 12:15', 'temp_c': 33.3, 'temp_f': 91.9, 'is_day': 1, 'condition': {'text': 'Partly cloudy', 'icon': '//cdn.weatherapi.com/weather/64x64/day/116.png', 'code': 1003}, 'wind_mph': 9.6, 'wind_kph': 15.5, 'wind_degree': 176, 'wind_dir': 'S', 'pressure_mb': 1013.0, 'pressure_in': 29.91, 'precip_mm': 0.0, 'precip_in': 0.0, 'humidity': 49, 'cloud': 25, 'feelslike_c': 35.9, 'feelslike_f': 96.7, 'windchill_c': 33.4, 'windchill_f': 92.0, 'heatindex_c': 36.1, 'heatindex_f': 96.9, 'dewpoint_c': 19.5, 'dewpoint_f': 67.1, 'vis_km': 10.0, 'vis_miles': 6.0, 'uv': 9.9, 'gust_mph': 11.1, 'gust_kph': 17.8}}\n"
     ]
    }
   ],
   "source": [
    "# run search\n",
    "result = client.search(query, max_results=1)\n",
    "\n",
    "# print first result\n",
    "data = result[\"results\"][0][\"content\"]\n",
    "\n",
    "print(data)"
   ]
  },
  {
   "cell_type": "code",
   "execution_count": 13,
   "metadata": {},
   "outputs": [
    {
     "name": "stdout",
     "output_type": "stream",
     "text": [
      "{\u001b[37m\u001b[39;49;00m\n",
      "\u001b[37m    \u001b[39;49;00m\u001b[94m\"location\"\u001b[39;49;00m:\u001b[37m \u001b[39;49;00m{\u001b[37m\u001b[39;49;00m\n",
      "\u001b[37m        \u001b[39;49;00m\u001b[94m\"name\"\u001b[39;49;00m:\u001b[37m \u001b[39;49;00m\u001b[33m\"Bangkok\"\u001b[39;49;00m,\u001b[37m\u001b[39;49;00m\n",
      "\u001b[37m        \u001b[39;49;00m\u001b[94m\"region\"\u001b[39;49;00m:\u001b[37m \u001b[39;49;00m\u001b[33m\"Krung Thep\"\u001b[39;49;00m,\u001b[37m\u001b[39;49;00m\n",
      "\u001b[37m        \u001b[39;49;00m\u001b[94m\"country\"\u001b[39;49;00m:\u001b[37m \u001b[39;49;00m\u001b[33m\"Thailand\"\u001b[39;49;00m,\u001b[37m\u001b[39;49;00m\n",
      "\u001b[37m        \u001b[39;49;00m\u001b[94m\"lat\"\u001b[39;49;00m:\u001b[37m \u001b[39;49;00m\u001b[34m13.75\u001b[39;49;00m,\u001b[37m\u001b[39;49;00m\n",
      "\u001b[37m        \u001b[39;49;00m\u001b[94m\"lon\"\u001b[39;49;00m:\u001b[37m \u001b[39;49;00m\u001b[34m100.5167\u001b[39;49;00m,\u001b[37m\u001b[39;49;00m\n",
      "\u001b[37m        \u001b[39;49;00m\u001b[94m\"tz_id\"\u001b[39;49;00m:\u001b[37m \u001b[39;49;00m\u001b[33m\"Asia/Bangkok\"\u001b[39;49;00m,\u001b[37m\u001b[39;49;00m\n",
      "\u001b[37m        \u001b[39;49;00m\u001b[94m\"localtime_epoch\"\u001b[39;49;00m:\u001b[37m \u001b[39;49;00m\u001b[34m1739769664\u001b[39;49;00m,\u001b[37m\u001b[39;49;00m\n",
      "\u001b[37m        \u001b[39;49;00m\u001b[94m\"localtime\"\u001b[39;49;00m:\u001b[37m \u001b[39;49;00m\u001b[33m\"2025-02-17 12:21\"\u001b[39;49;00m\u001b[37m\u001b[39;49;00m\n",
      "\u001b[37m    \u001b[39;49;00m},\u001b[37m\u001b[39;49;00m\n",
      "\u001b[37m    \u001b[39;49;00m\u001b[94m\"current\"\u001b[39;49;00m:\u001b[37m \u001b[39;49;00m{\u001b[37m\u001b[39;49;00m\n",
      "\u001b[37m        \u001b[39;49;00m\u001b[94m\"last_updated_epoch\"\u001b[39;49;00m:\u001b[37m \u001b[39;49;00m\u001b[34m1739769300\u001b[39;49;00m,\u001b[37m\u001b[39;49;00m\n",
      "\u001b[37m        \u001b[39;49;00m\u001b[94m\"last_updated\"\u001b[39;49;00m:\u001b[37m \u001b[39;49;00m\u001b[33m\"2025-02-17 12:15\"\u001b[39;49;00m,\u001b[37m\u001b[39;49;00m\n",
      "\u001b[37m        \u001b[39;49;00m\u001b[94m\"temp_c\"\u001b[39;49;00m:\u001b[37m \u001b[39;49;00m\u001b[34m33.3\u001b[39;49;00m,\u001b[37m\u001b[39;49;00m\n",
      "\u001b[37m        \u001b[39;49;00m\u001b[94m\"temp_f\"\u001b[39;49;00m:\u001b[37m \u001b[39;49;00m\u001b[34m91.9\u001b[39;49;00m,\u001b[37m\u001b[39;49;00m\n",
      "\u001b[37m        \u001b[39;49;00m\u001b[94m\"is_day\"\u001b[39;49;00m:\u001b[37m \u001b[39;49;00m\u001b[34m1\u001b[39;49;00m,\u001b[37m\u001b[39;49;00m\n",
      "\u001b[37m        \u001b[39;49;00m\u001b[94m\"condition\"\u001b[39;49;00m:\u001b[37m \u001b[39;49;00m{\u001b[37m\u001b[39;49;00m\n",
      "\u001b[37m            \u001b[39;49;00m\u001b[94m\"text\"\u001b[39;49;00m:\u001b[37m \u001b[39;49;00m\u001b[33m\"Partly cloudy\"\u001b[39;49;00m,\u001b[37m\u001b[39;49;00m\n",
      "\u001b[37m            \u001b[39;49;00m\u001b[94m\"icon\"\u001b[39;49;00m:\u001b[37m \u001b[39;49;00m\u001b[33m\"//cdn.weatherapi.com/weather/64x64/day/116.png\"\u001b[39;49;00m,\u001b[37m\u001b[39;49;00m\n",
      "\u001b[37m            \u001b[39;49;00m\u001b[94m\"code\"\u001b[39;49;00m:\u001b[37m \u001b[39;49;00m\u001b[34m1003\u001b[39;49;00m\u001b[37m\u001b[39;49;00m\n",
      "\u001b[37m        \u001b[39;49;00m},\u001b[37m\u001b[39;49;00m\n",
      "\u001b[37m        \u001b[39;49;00m\u001b[94m\"wind_mph\"\u001b[39;49;00m:\u001b[37m \u001b[39;49;00m\u001b[34m9.6\u001b[39;49;00m,\u001b[37m\u001b[39;49;00m\n",
      "\u001b[37m        \u001b[39;49;00m\u001b[94m\"wind_kph\"\u001b[39;49;00m:\u001b[37m \u001b[39;49;00m\u001b[34m15.5\u001b[39;49;00m,\u001b[37m\u001b[39;49;00m\n",
      "\u001b[37m        \u001b[39;49;00m\u001b[94m\"wind_degree\"\u001b[39;49;00m:\u001b[37m \u001b[39;49;00m\u001b[34m176\u001b[39;49;00m,\u001b[37m\u001b[39;49;00m\n",
      "\u001b[37m        \u001b[39;49;00m\u001b[94m\"wind_dir\"\u001b[39;49;00m:\u001b[37m \u001b[39;49;00m\u001b[33m\"S\"\u001b[39;49;00m,\u001b[37m\u001b[39;49;00m\n",
      "\u001b[37m        \u001b[39;49;00m\u001b[94m\"pressure_mb\"\u001b[39;49;00m:\u001b[37m \u001b[39;49;00m\u001b[34m1013.0\u001b[39;49;00m,\u001b[37m\u001b[39;49;00m\n",
      "\u001b[37m        \u001b[39;49;00m\u001b[94m\"pressure_in\"\u001b[39;49;00m:\u001b[37m \u001b[39;49;00m\u001b[34m29.91\u001b[39;49;00m,\u001b[37m\u001b[39;49;00m\n",
      "\u001b[37m        \u001b[39;49;00m\u001b[94m\"precip_mm\"\u001b[39;49;00m:\u001b[37m \u001b[39;49;00m\u001b[34m0.0\u001b[39;49;00m,\u001b[37m\u001b[39;49;00m\n",
      "\u001b[37m        \u001b[39;49;00m\u001b[94m\"precip_in\"\u001b[39;49;00m:\u001b[37m \u001b[39;49;00m\u001b[34m0.0\u001b[39;49;00m,\u001b[37m\u001b[39;49;00m\n",
      "\u001b[37m        \u001b[39;49;00m\u001b[94m\"humidity\"\u001b[39;49;00m:\u001b[37m \u001b[39;49;00m\u001b[34m49\u001b[39;49;00m,\u001b[37m\u001b[39;49;00m\n",
      "\u001b[37m        \u001b[39;49;00m\u001b[94m\"cloud\"\u001b[39;49;00m:\u001b[37m \u001b[39;49;00m\u001b[34m25\u001b[39;49;00m,\u001b[37m\u001b[39;49;00m\n",
      "\u001b[37m        \u001b[39;49;00m\u001b[94m\"feelslike_c\"\u001b[39;49;00m:\u001b[37m \u001b[39;49;00m\u001b[34m35.9\u001b[39;49;00m,\u001b[37m\u001b[39;49;00m\n",
      "\u001b[37m        \u001b[39;49;00m\u001b[94m\"feelslike_f\"\u001b[39;49;00m:\u001b[37m \u001b[39;49;00m\u001b[34m96.7\u001b[39;49;00m,\u001b[37m\u001b[39;49;00m\n",
      "\u001b[37m        \u001b[39;49;00m\u001b[94m\"windchill_c\"\u001b[39;49;00m:\u001b[37m \u001b[39;49;00m\u001b[34m33.4\u001b[39;49;00m,\u001b[37m\u001b[39;49;00m\n",
      "\u001b[37m        \u001b[39;49;00m\u001b[94m\"windchill_f\"\u001b[39;49;00m:\u001b[37m \u001b[39;49;00m\u001b[34m92.0\u001b[39;49;00m,\u001b[37m\u001b[39;49;00m\n",
      "\u001b[37m        \u001b[39;49;00m\u001b[94m\"heatindex_c\"\u001b[39;49;00m:\u001b[37m \u001b[39;49;00m\u001b[34m36.1\u001b[39;49;00m,\u001b[37m\u001b[39;49;00m\n",
      "\u001b[37m        \u001b[39;49;00m\u001b[94m\"heatindex_f\"\u001b[39;49;00m:\u001b[37m \u001b[39;49;00m\u001b[34m96.9\u001b[39;49;00m,\u001b[37m\u001b[39;49;00m\n",
      "\u001b[37m        \u001b[39;49;00m\u001b[94m\"dewpoint_c\"\u001b[39;49;00m:\u001b[37m \u001b[39;49;00m\u001b[34m19.5\u001b[39;49;00m,\u001b[37m\u001b[39;49;00m\n",
      "\u001b[37m        \u001b[39;49;00m\u001b[94m\"dewpoint_f\"\u001b[39;49;00m:\u001b[37m \u001b[39;49;00m\u001b[34m67.1\u001b[39;49;00m,\u001b[37m\u001b[39;49;00m\n",
      "\u001b[37m        \u001b[39;49;00m\u001b[94m\"vis_km\"\u001b[39;49;00m:\u001b[37m \u001b[39;49;00m\u001b[34m10.0\u001b[39;49;00m,\u001b[37m\u001b[39;49;00m\n",
      "\u001b[37m        \u001b[39;49;00m\u001b[94m\"vis_miles\"\u001b[39;49;00m:\u001b[37m \u001b[39;49;00m\u001b[34m6.0\u001b[39;49;00m,\u001b[37m\u001b[39;49;00m\n",
      "\u001b[37m        \u001b[39;49;00m\u001b[94m\"uv\"\u001b[39;49;00m:\u001b[37m \u001b[39;49;00m\u001b[34m9.9\u001b[39;49;00m,\u001b[37m\u001b[39;49;00m\n",
      "\u001b[37m        \u001b[39;49;00m\u001b[94m\"gust_mph\"\u001b[39;49;00m:\u001b[37m \u001b[39;49;00m\u001b[34m11.1\u001b[39;49;00m,\u001b[37m\u001b[39;49;00m\n",
      "\u001b[37m        \u001b[39;49;00m\u001b[94m\"gust_kph\"\u001b[39;49;00m:\u001b[37m \u001b[39;49;00m\u001b[34m17.8\u001b[39;49;00m\u001b[37m\u001b[39;49;00m\n",
      "\u001b[37m    \u001b[39;49;00m}\u001b[37m\u001b[39;49;00m\n",
      "}\u001b[37m\u001b[39;49;00m\n",
      "\n"
     ]
    }
   ],
   "source": [
    "import json\n",
    "from pygments import highlight, lexers, formatters\n",
    "\n",
    "# parse JSON\n",
    "parsed_json = json.loads(data.replace(\"'\", '\"'))\n",
    "\n",
    "# pretty print JSON with syntax highlighting\n",
    "formatted_json = json.dumps(parsed_json, indent=4)\n",
    "colorful_json = highlight(\n",
    "    formatted_json, lexers.JsonLexer(), formatters.TerminalFormatter()\n",
    ")\n",
    "\n",
    "print(colorful_json)"
   ]
  },
  {
   "cell_type": "code",
   "execution_count": null,
   "metadata": {},
   "outputs": [],
   "source": []
  }
 ],
 "metadata": {
  "kernelspec": {
   "display_name": "chat",
   "language": "python",
   "name": "python3"
  },
  "language_info": {
   "codemirror_mode": {
    "name": "ipython",
    "version": 3
   },
   "file_extension": ".py",
   "mimetype": "text/x-python",
   "name": "python",
   "nbconvert_exporter": "python",
   "pygments_lexer": "ipython3",
   "version": "3.12.8"
  }
 },
 "nbformat": 4,
 "nbformat_minor": 2
}
