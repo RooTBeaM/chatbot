{
 "cells": [
  {
   "cell_type": "code",
   "execution_count": 1,
   "metadata": {},
   "outputs": [],
   "source": [
    "from langgraph.graph import MessagesState\n",
    "from langchain_core.messages import HumanMessage, SystemMessage\n",
    "from langchain_ollama import ChatOllama\n",
    "import yfinance as yf\n"
   ]
  },
  {
   "cell_type": "code",
   "execution_count": 2,
   "metadata": {},
   "outputs": [],
   "source": [
    "def multiply(a: int, b: int) -> int:\n",
    "    \"\"\"Multiply two integers.\n",
    "\n",
    "    This tool takes two integers as input and returns their product. \n",
    "    Useful for calculating the result of multiplication operations.\n",
    "\n",
    "    Args:\n",
    "        a: The first integer to multiply.\n",
    "        b: The second integer to multiply.\n",
    "    \"\"\"\n",
    "    return a * b\n",
    "\n",
    "def add(a: int, b: int) -> int:\n",
    "    \"\"\"Add two integers.\n",
    "\n",
    "    This tool takes two integers as input and returns their sum. \n",
    "    Useful for combining values or performing addition operations.\n",
    "\n",
    "    Args:\n",
    "        a: The first integer to add.\n",
    "        b: The second integer to add.\n",
    "    \"\"\"\n",
    "    return a + b\n",
    "\n",
    "def divide(a: int, b: int) -> float:\n",
    "    \"\"\"Divide one integer by another.\n",
    "\n",
    "    This tool divides the first integer by the second and returns the quotient as a float. \n",
    "    Use this for division operations where the result may be fractional.\n",
    "\n",
    "    Args:\n",
    "        a: The numerator.\n",
    "        b: The denominator (must not be zero).\n",
    "    \"\"\"\n",
    "    return a / b\n",
    "\n",
    "\n",
    "def get_stock_price(ticker: str) -> float:\n",
    "    \"\"\"Gets a stock price from Yahoo Finance.\n",
    "\n",
    "    Args:\n",
    "        ticker: ticker str\n",
    "    \"\"\"\n",
    "    # \"\"\"This is a tool for getting the price of a stock when passed a ticker symbol\"\"\"\n",
    "    stock = yf.Ticker(ticker)\n",
    "    return stock.info['previousClose']\n",
    "\n",
    "from langchain_community.tools import DuckDuckGoSearchRun\n",
    "\n",
    "search = DuckDuckGoSearchRun()\n",
    "\n",
    "tools = [add, multiply, divide, search, get_stock_price]"
   ]
  },
  {
   "cell_type": "code",
   "execution_count": 20,
   "metadata": {},
   "outputs": [],
   "source": [
    "# llm = ChatOllama(model=\"qwen2.5:14b\", temperature=0.3)\n",
    "# llm = ChatOllama(model=\"llama3.2:latest\", temperature=0.3)\n",
    "llm = ChatOllama(model=\"mistral-nemo\", temperature=0.1)\n",
    "# System message\n",
    "sys_msg = SystemMessage(content=\"You are a financial and mathematical assistant specializing in solving complex numerical problems, performing precise calculations, and interpreting financial data. Your role is to provide accurate results, explain steps clearly, and ensure all responses are logically sound and contextually relevant to the given task.\")\n",
    "\n",
    "llm_with_tools = llm.bind_tools(tools)"
   ]
  },
  {
   "cell_type": "code",
   "execution_count": 21,
   "metadata": {},
   "outputs": [],
   "source": [
    "from langgraph.graph import START, StateGraph\n",
    "from langgraph.prebuilt import tools_condition # this is the checker for the if you got a tool back\n",
    "from langgraph.prebuilt import ToolNode\n",
    "from IPython.display import Image, display\n",
    "from typing import Annotated, TypedDict\n",
    "import operator\n",
    "from langchain_core.messages import AnyMessage\n",
    "from langgraph.graph.message import add_messages"
   ]
  },
  {
   "cell_type": "code",
   "execution_count": 26,
   "metadata": {},
   "outputs": [
    {
     "data": {
      "image/png": "[encoded data removed]",
      "text/plain": [
       "<langgraph.graph.state.CompiledStateGraph object at 0x303148710>"
      ]
     },
     "execution_count": 26,
     "metadata": {},
     "output_type": "execute_result"
    }
   ],
   "source": [
    "# Node\n",
    "def reasoner(state: MessagesState):\n",
    "   aws = llm_with_tools.invoke([sys_msg] + state[\"messages\"])\n",
    "   return {\"messages\": aws}\n",
    "\n",
    "# Graph\n",
    "builder = StateGraph(MessagesState)\n",
    "\n",
    "# Add nodes\n",
    "builder.add_node(\"reasoner\", reasoner)\n",
    "builder.add_node(\"tools\", ToolNode(tools)) # for the tools\n",
    "\n",
    "# Add edges\n",
    "builder.add_edge(START, \"reasoner\")\n",
    "builder.add_conditional_edges(\n",
    "    \"reasoner\",\n",
    "    # If the latest message (result) from node reasoner is a tool call -> tools_condition routes to tools\n",
    "    # If the latest message (result) from node reasoner is a not a tool call -> tools_condition routes to END\n",
    "    tools_condition,\n",
    ")\n",
    "builder.add_edge(\"tools\", \"reasoner\")\n",
    "app = builder.compile()\n",
    "\n",
    "app"
   ]
  },
  {
   "cell_type": "code",
   "execution_count": 23,
   "metadata": {},
   "outputs": [
    {
     "name": "stdout",
     "output_type": "stream",
     "text": [
      "Reasoner: [SystemMessage(content='You are a financial and mathematical assistant specializing in solving complex numerical problems, performing precise calculations, and interpreting financial data. Your role is to provide accurate results, explain steps clearly, and ensure all responses are logically sound and contextually relevant to the given task.', additional_kwargs={}, response_metadata={}), HumanMessage(content='What is 2 times one hundred?', additional_kwargs={}, response_metadata={}, id='75f7d450-857f-47da-8522-7fdb0c26c39a')]\n",
      "--------------------\n",
      "AWS: content='' additional_kwargs={} response_metadata={'model': 'mistral-nemo', 'created_at': '2025-01-17T17:00:19.982895Z', 'done': True, 'done_reason': 'stop', 'total_duration': 2775176167, 'load_duration': 34164167, 'prompt_eval_count': 482, 'prompt_eval_duration': 1442000000, 'eval_count': 28, 'eval_duration': 1291000000, 'message': Message(role='assistant', content='', images=None, tool_calls=None)} id='run-a73f33c0-68ea-4f79-83b2-450e2a8b56be-0' tool_calls=[{'name': 'multiply', 'args': {'a': 2, 'b': 100}, 'id': '2264c594-193e-43e4-a887-b05887880a18', 'type': 'tool_call'}] usage_metadata={'input_tokens': 482, 'output_tokens': 28, 'total_tokens': 510}\n",
      "Reasoner: [SystemMessage(content='You are a financial and mathematical assistant specializing in solving complex numerical problems, performing precise calculations, and interpreting financial data. Your role is to provide accurate results, explain steps clearly, and ensure all responses are logically sound and contextually relevant to the given task.', additional_kwargs={}, response_metadata={}), HumanMessage(content='What is 2 times one hundred?', additional_kwargs={}, response_metadata={}, id='75f7d450-857f-47da-8522-7fdb0c26c39a'), AIMessage(content='', additional_kwargs={}, response_metadata={'model': 'mistral-nemo', 'created_at': '2025-01-17T17:00:19.982895Z', 'done': True, 'done_reason': 'stop', 'total_duration': 2775176167, 'load_duration': 34164167, 'prompt_eval_count': 482, 'prompt_eval_duration': 1442000000, 'eval_count': 28, 'eval_duration': 1291000000, 'message': Message(role='assistant', content='', images=None, tool_calls=None)}, id='run-a73f33c0-68ea-4f79-83b2-450e2a8b56be-0', tool_calls=[{'name': 'multiply', 'args': {'a': 2, 'b': 100}, 'id': '2264c594-193e-43e4-a887-b05887880a18', 'type': 'tool_call'}], usage_metadata={'input_tokens': 482, 'output_tokens': 28, 'total_tokens': 510}), ToolMessage(content='200', name='multiply', id='97152096-3f77-439d-bc37-b36eda4ef64d', tool_call_id='2264c594-193e-43e4-a887-b05887880a18')]\n",
      "--------------------\n",
      "AWS: content='Two times one hundred equals two hundred. (2 × 100 = 200)' additional_kwargs={} response_metadata={'model': 'mistral-nemo', 'created_at': '2025-01-17T17:00:21.367847Z', 'done': True, 'done_reason': 'stop', 'total_duration': 1360740542, 'load_duration': 23484208, 'prompt_eval_count': 47, 'prompt_eval_duration': 375000000, 'eval_count': 22, 'eval_duration': 958000000, 'message': Message(role='assistant', content='Two times one hundred equals two hundred. (2 × 100 = 200)', images=None, tool_calls=None)} id='run-d69129d5-fe58-4235-af04-d2b3754715dd-0' usage_metadata={'input_tokens': 47, 'output_tokens': 22, 'total_tokens': 69}\n"
     ]
    }
   ],
   "source": [
    "messages = [HumanMessage(content=\"What is 2 times one hundred?\")]\n",
    "messages = app.invoke({\"messages\": messages})"
   ]
  },
  {
   "cell_type": "code",
   "execution_count": 25,
   "metadata": {},
   "outputs": [
    {
     "name": "stdout",
     "output_type": "stream",
     "text": [
      "================================\u001b[1m Human Message \u001b[0m=================================\n",
      "\n",
      "What is 2 times one hundred?\n",
      "==================================\u001b[1m Ai Message \u001b[0m==================================\n",
      "Tool Calls:\n",
      "  multiply (2264c594-193e-43e4-a887-b05887880a18)\n",
      " Call ID: 2264c594-193e-43e4-a887-b05887880a18\n",
      "  Args:\n",
      "    a: 2\n",
      "    b: 100\n",
      "=================================\u001b[1m Tool Message \u001b[0m=================================\n",
      "Name: multiply\n",
      "\n",
      "200\n",
      "==================================\u001b[1m Ai Message \u001b[0m==================================\n",
      "\n",
      "Two times one hundred equals two hundred. (2 × 100 = 200)\n"
     ]
    }
   ],
   "source": [
    "for m in messages['messages']:\n",
    "    m.pretty_print()"
   ]
  },
  {
   "cell_type": "code",
   "execution_count": 27,
   "metadata": {},
   "outputs": [
    {
     "name": "stdout",
     "output_type": "stream",
     "text": [
      "================================\u001b[1m Human Message \u001b[0m=================================\n",
      "\n",
      "What is the stock price of the company that Jensen Huang is CEO of?\n",
      "==================================\u001b[1m Ai Message \u001b[0m==================================\n",
      "Tool Calls:\n",
      "  get_stock_price (e3094d9c-8351-4b42-9f38-d0a9affcf18b)\n",
      " Call ID: e3094d9c-8351-4b42-9f38-d0a9affcf18b\n",
      "  Args:\n",
      "    ticker: NVDA\n",
      "=================================\u001b[1m Tool Message \u001b[0m=================================\n",
      "Name: get_stock_price\n",
      "\n",
      "133.57\n",
      "==================================\u001b[1m Ai Message \u001b[0m==================================\n",
      "\n",
      "The current stock price of NVIDIA Corporation, where Jensen Huang serves as President and Chief Executive Officer, is $133.57.\n"
     ]
    }
   ],
   "source": [
    "inputs = {\"messages\": [{\"role\": \"user\", \"content\": \"What is the stock price of the company that Jensen Huang is CEO of?\"}]}\n",
    "for chunk in app.stream(inputs, stream_mode=\"values\"):\n",
    "    chunk[\"messages\"][-1].pretty_print()"
   ]
  },
  {
   "cell_type": "markdown",
   "metadata": {},
   "source": [
    "# Change resoner template"
   ]
  },
  {
   "cell_type": "code",
   "execution_count": 76,
   "metadata": {},
   "outputs": [],
   "source": [
    "llm = ChatOllama(model=\"qwen2.5:14b\", temperature=0.1)\n",
    "# llm = ChatOllama(model=\"llama3.2:latest\", temperature=0.3)\n",
    "# llm = ChatOllama(model=\"mistral-nemo\", temperature=0.1)\n",
    "# System message\n",
    "sys_msg = SystemMessage(content=\"You are a financial and mathematical assistant specializing in solving complex numerical problems, performing precise calculations, and interpreting financial data. Your role is to provide accurate results, explain steps clearly, and ensure all responses are logically sound and contextually relevant to the given task.\")\n",
    "\n",
    "llm_with_tools = llm.bind_tools(tools)"
   ]
  },
  {
   "cell_type": "code",
   "execution_count": 77,
   "metadata": {},
   "outputs": [],
   "source": [
    "class GraphState(TypedDict):\n",
    "    \"\"\"State of the graph.\"\"\"\n",
    "    query: str\n",
    "    finance: str\n",
    "    final_answer: str\n",
    "    # intermediate_steps: Annotated[list[tuple[AgentAction, str]], operator.add]\n",
    "    messages: Annotated[list[AnyMessage], operator.add]\n",
    "\n",
    "def reasoner(state):\n",
    "    query = state[\"query\"]\n",
    "    messages = state[\"messages\"]\n",
    "    # System message\n",
    "    sys_msg = SystemMessage(content=\"You are a helpful assistant tasked with using search, the yahoo finance tool and performing arithmetic on a set of inputs.\")\n",
    "    human = HumanMessage(content=query)\n",
    "    result = [llm_with_tools.invoke([sys_msg,human] + messages)]\n",
    "    return {\"messages\":result}"
   ]
  },
  {
   "cell_type": "code",
   "execution_count": 78,
   "metadata": {},
   "outputs": [],
   "source": [
    "# Graph\n",
    "workflow = StateGraph(GraphState)\n",
    "\n",
    "# Add Nodes\n",
    "workflow.add_node(\"reasoner\", reasoner)\n",
    "workflow.add_node(\"tools\", ToolNode(tools)) # for the tools\n",
    "\n",
    "# Add Edges\n",
    "workflow.add_edge(START, \"reasoner\")\n",
    "\n",
    "workflow.add_conditional_edges(\n",
    "    \"reasoner\",\n",
    "    # If the latest message (result) from node reasoner is a tool call -> tools_condition routes to tools\n",
    "    # If the latest message (result) from node reasoner is a not a tool call -> tools_condition routes to END\n",
    "    tools_condition,\n",
    ")\n",
    "workflow.add_edge(\"tools\", \"reasoner\")\n",
    "react_graph = workflow.compile()\n",
    "\n",
    "# Show\n",
    "# display(Image(react_graph.get_graph(xray=True).draw_mermaid_png()))"
   ]
  },
  {
   "cell_type": "code",
   "execution_count": 69,
   "metadata": {},
   "outputs": [],
   "source": [
    "response = react_graph.invoke({\"query\": \"What is 2 times Brad Pitt's age?\", \"messages\": []})"
   ]
  },
  {
   "cell_type": "code",
   "execution_count": 45,
   "metadata": {},
   "outputs": [
    {
     "name": "stdout",
     "output_type": "stream",
     "text": [
      "==================================\u001b[1m Ai Message \u001b[0m==================================\n",
      "Tool Calls:\n",
      "  duckduckgo_search (47717754-de96-48f0-b29c-72308c2e1143)\n",
      " Call ID: 47717754-de96-48f0-b29c-72308c2e1143\n",
      "  Args:\n",
      "    query: Brad pitt age\n",
      "=================================\u001b[1m Tool Message \u001b[0m=================================\n",
      "Name: duckduckgo_search\n",
      "\n",
      "Actor Brad Pitt is known the movies 'Fight Club,' 'The Curious Case of Benjamin Button,' and 'Moneyball.' Read about his age, girlfriend, children, and more. Brad Pitt is an American actor known for his portrayal of unconventional characters. He channeled his magnetism as a leading man in Legends of the Fall (1994) but avoided being typecast by playing offbeat characters. ... December 18, 1963, Shawnee, Oklahoma, U.S. (age 61) (Show more) Founder: Make It Right Not on Our Watch (Show more) Awards ... Brad Pitt's latest birthday marks the third he is celebrating since starting to date girlfriend Inés de Ramón. The F1 actor celebrated his 61st birthday this December 18. Brad Pitt, 60, says he is more aware of mortality after turning 60 and is enjoying life with his loved ones. He also talks about his upcoming movie Wolfs with George Clooney, 63, and their friendship. Learn about the life and achievements of Brad Pitt, one of Hollywood's brightest stars. Find out his birth date, height, net worth, relationship status, and more.\n",
      "==================================\u001b[1m Ai Message \u001b[0m==================================\n",
      "\n",
      "Brad Pitt was born on December 18, 1963. To find out 2 times his age:\n",
      "\n",
      "(Current year - Birth year) * 2 = Age in 2023\n",
      "\n",
      "So, 2 times Brad Pitt's age is 122 years old.\n"
     ]
    }
   ],
   "source": [
    "# mistral-nemo\n",
    "for m in response['messages']:\n",
    "    m.pretty_print()"
   ]
  },
  {
   "cell_type": "code",
   "execution_count": 59,
   "metadata": {},
   "outputs": [
    {
     "name": "stdout",
     "output_type": "stream",
     "text": [
      "==================================\u001b[1m Ai Message \u001b[0m==================================\n",
      "Tool Calls:\n",
      "  duckduckgo_search (59b6c788-9a3a-4585-bf57-c4889101f3cc)\n",
      " Call ID: 59b6c788-9a3a-4585-bf57-c4889101f3cc\n",
      "  Args:\n",
      "    query: Brad Pitt age\n",
      "=================================\u001b[1m Tool Message \u001b[0m=================================\n",
      "Name: duckduckgo_search\n",
      "\n",
      "Actor Brad Pitt is known the movies 'Fight Club,' 'The Curious Case of Benjamin Button,' and 'Moneyball.' Read about his age, girlfriend, children, and more. Brad Pitt is an American actor known for his portrayal of unconventional characters. He channeled his magnetism as a leading man in Legends of the Fall (1994) but avoided being typecast by playing offbeat characters. ... December 18, 1963, Shawnee, Oklahoma, U.S. (age 61) (Show more) Founder: Make It Right Not on Our Watch (Show more) Awards ... Brad Pitt's latest birthday marks the third he is celebrating since starting to date girlfriend Inés de Ramón. The F1 actor celebrated his 61st birthday this December 18. Brad Pitt, 60, says he is more aware of mortality after turning 60 and is enjoying life with his loved ones. He also talks about his upcoming movie Wolfs with George Clooney, 63, and their friendship. Learn about the life and achievements of Brad Pitt, one of Hollywood's brightest stars. Find out his birth date, height, net worth, relationship status, and more.\n",
      "==================================\u001b[1m Ai Message \u001b[0m==================================\n",
      "\n",
      "Based on the information found, Brad Pitt is currently 61 years old. Therefore, 2 times Brad Pitt's age would be 122.\n",
      "\n",
      "So, the answer to your question \"What is 2 times Brad Pitt's age?\" is **122**.\n"
     ]
    }
   ],
   "source": [
    "# qwen2.5:14b\n",
    "for m in response['messages']:\n",
    "    m.pretty_print()"
   ]
  },
  {
   "cell_type": "code",
   "execution_count": 60,
   "metadata": {},
   "outputs": [],
   "source": [
    "response = react_graph.invoke({\"query\": \"What is the stock price of the company that Jensen Huang is CEO of?\", \"messages\": []})"
   ]
  },
  {
   "cell_type": "code",
   "execution_count": 21,
   "metadata": {},
   "outputs": [
    {
     "name": "stdout",
     "output_type": "stream",
     "text": [
      "================================\u001b[1m Human Message \u001b[0m=================================\n",
      "\n",
      "What is the stock price of the company that Jensen Huang is CEO of?\n",
      "==================================\u001b[1m Ai Message \u001b[0m==================================\n",
      "Tool Calls:\n",
      "  get_stock_price (2ad5f2b5-f631-4ee4-886f-974eac3b95ba)\n",
      " Call ID: 2ad5f2b5-f631-4ee4-886f-974eac3b95ba\n",
      "  Args:\n",
      "    ticker: NVDA\n",
      "=================================\u001b[1m Tool Message \u001b[0m=================================\n",
      "Name: get_stock_price\n",
      "\n",
      "133.23\n",
      "================================\u001b[1m Human Message \u001b[0m=================================\n",
      "\n",
      "What is the stock price of the company that Jensen Huang is CEO of?\n",
      "==================================\u001b[1m Ai Message \u001b[0m==================================\n",
      "\n",
      "The stock price of the company that Jensen Huang is the CEO of (NVIDIA, represented by the ticker NVDA) is $133.23.\n"
     ]
    }
   ],
   "source": [
    "# mistral-nemo\n",
    "for m in response['messages']:\n",
    "    m.pretty_print()"
   ]
  },
  {
   "cell_type": "code",
   "execution_count": 61,
   "metadata": {},
   "outputs": [
    {
     "name": "stdout",
     "output_type": "stream",
     "text": [
      "==================================\u001b[1m Ai Message \u001b[0m==================================\n",
      "Tool Calls:\n",
      "  get_stock_price (d88cc28d-eea9-4ea9-8374-3215606f2a35)\n",
      " Call ID: d88cc28d-eea9-4ea9-8374-3215606f2a35\n",
      "  Args:\n",
      "    ticker: NVDA\n",
      "=================================\u001b[1m Tool Message \u001b[0m=================================\n",
      "Name: get_stock_price\n",
      "\n",
      "133.57\n",
      "==================================\u001b[1m Ai Message \u001b[0m==================================\n",
      "\n",
      "The current stock price of NVIDIA Corporation, where Jensen Huang is the CEO, is $133.57.\n"
     ]
    }
   ],
   "source": [
    "# qwem2.5:14b\n",
    "for m in response['messages']:\n",
    "    m.pretty_print()"
   ]
  },
  {
   "cell_type": "code",
   "execution_count": 79,
   "metadata": {},
   "outputs": [],
   "source": [
    "response = react_graph.invoke({\"query\": \"What is the percent of profit if I bought NVIDIA stock from IPO to today?\", \"messages\": []})"
   ]
  },
  {
   "cell_type": "code",
   "execution_count": 75,
   "metadata": {},
   "outputs": [
    {
     "name": "stdout",
     "output_type": "stream",
     "text": [
      "==================================\u001b[1m Ai Message \u001b[0m==================================\n",
      "Tool Calls:\n",
      "  get_stock_price (25f23b43-6786-47f1-aae0-c8aeebe3e70c)\n",
      " Call ID: 25f23b43-6786-47f1-aae0-c8aeebe3e70c\n",
      "  Args:\n",
      "    ticker: NVDA\n",
      "  duckduckgo_search (02b942b6-64ea-4a95-999e-4869864aa701)\n",
      " Call ID: 02b942b6-64ea-4a95-999e-4869864aa701\n",
      "  Args:\n",
      "    query: NVIDIA IPO price\n",
      "=================================\u001b[1m Tool Message \u001b[0m=================================\n",
      "Name: get_stock_price\n",
      "\n",
      "133.57\n",
      "=================================\u001b[1m Tool Message \u001b[0m=================================\n",
      "Name: duckduckgo_search\n",
      "\n",
      "Current Price. $136.24. Price as of January 15, 2025, 4:00 p.m. ET. ... If you'd picked up one share of Nvidia at its IPO in January 1999, that single share would have ballooned to 480 shares ... If you bought one share at the company's IPO, you'd have 480 shares now. At today's prices, 480 shares of Nvidia stock are worth $66,371. However, the company also pays a dividend. Since its IPO in January 1999, Nvidia ... Nvidia shares fell below their issue price numerous times in early 1999. For investors fortunate enough to get shares at (or below) the $12 IPO price, the ... At the same time, the IPO offering price has been reduced to a split-adjusted $0.25 per share. Based on Nvidia's closing price of $878.36 on March 15, 2024, a 3,984-share position would equate to ... The original $1,000 investment in Nvidia stock would be worth $4,826,606.93 based on a share price of $120.67. This represents a huge return for Nvidia IPO buyers with some potential millionaires ...\n",
      "==================================\u001b[1m Ai Message \u001b[0m==================================\n",
      "\n",
      "Based on the information provided, here's how you can calculate your profit percentage if you bought NVIDIA stock from its IPO to today:\n",
      "\n",
      "1. **IPO Price**: The initial price of NVIDIA stock at its IPO was $28 per share (split-adjusted).\n",
      "\n",
      "2. **Current Price**: As of January 15, 2025, the closing price of NVIDIA stock is $136.24.\n",
      "\n",
      "3. **Profit Calculation**:\n",
      "   - Purchase price: $28\n",
      "   - Current price: $136.24\n",
      "   - Profit per share: $136.24 - $28 = $108.24\n",
      "\n",
      "4. **Profit Percentage**:\n",
      "   - Profit percentage = (Profit per share / Purchase price) * 100\n",
      "   - Profit percentage = ($108.24 / $28) * 100 ≈ 386.57%\n",
      "\n",
      "So, if you bought NVIDIA stock from its IPO to today, your profit percentage would be approximately **386.57%**.\n"
     ]
    }
   ],
   "source": [
    "# mistral-nemo\n",
    "for m in response['messages']:\n",
    "    m.pretty_print()"
   ]
  },
  {
   "cell_type": "code",
   "execution_count": 80,
   "metadata": {},
   "outputs": [
    {
     "name": "stdout",
     "output_type": "stream",
     "text": [
      "==================================\u001b[1m Ai Message \u001b[0m==================================\n",
      "Tool Calls:\n",
      "  duckduckgo_search (e27d43ba-58c6-4a6f-ada1-851bbe941359)\n",
      " Call ID: e27d43ba-58c6-4a6f-ada1-851bbe941359\n",
      "  Args:\n",
      "    query: NVIDIA stock IPO date and opening price\n",
      "  get_stock_price (bc1f3083-3762-49b5-9d19-06b3d4e334fd)\n",
      " Call ID: bc1f3083-3762-49b5-9d19-06b3d4e334fd\n",
      "  Args:\n",
      "    ticker: NVDA\n",
      "=================================\u001b[1m Tool Message \u001b[0m=================================\n",
      "Name: duckduckgo_search\n",
      "\n",
      "Nvidia (NVDA 3.40%) is one artificial intelligence (AI) stock you probably wish you'd scooped up at its initial public offering (IPO). The chipmaker debuted on Jan. 22, 1999 at just $12 per share. All told, an investor who bought 100 shares of NVDA stock in the 1999 IPO would now own 48,000 shares of Nvidia thanks to all the share splits along the way. Shares started trading at around 4 ... Today, the original $1,000 investment in Nvidia stock would be worth $3,575,696.97 based on a share price of $893.96. This represents a huge return for Nvidia IPO buyers with some potential ... Opening Bid. Wealth. ... the $12 IPO price, the stock has returned 493,940%. ... an investor who bought just one share of Nvidia stock near its IPO in 1999 would now be the proud owner of 480 shares. If an investor purchased $100 of NVIDIA stock on its IPO date back on June 22, 1999, today that would be worth $308,975. ... If NVIDIA's share price of $123.59 is still too costly, most ...\n",
      "=================================\u001b[1m Tool Message \u001b[0m=================================\n",
      "Name: get_stock_price\n",
      "\n",
      "133.57\n",
      "==================================\u001b[1m Ai Message \u001b[0m==================================\n",
      "\n",
      "The IPO price for NVIDIA was $12 per share on January 22, 1999. The current stock price as of today is approximately $133.57.\n",
      "\n",
      "To calculate the profit percentage from this investment:\n",
      "\n",
      "Profit Percentage = ((Current Price - IPO Price) / IPO Price) * 100\n",
      "\n",
      "Substituting the values:\n",
      "Profit Percentage = (($133.57 - $12) / $12) * 100\n",
      "Profit Percentage = ($121.57 / $12) * 100\n",
      "Profit Percentage ≈ (10.13) * 100\n",
      "Profit Percentage ≈ 1013%\n",
      "\n",
      "So, the profit percentage from buying NVIDIA stock at its IPO price to today is approximately **1013%**.\n"
     ]
    }
   ],
   "source": [
    "# qwem2.5:14b\n",
    "for m in response['messages']:\n",
    "    m.pretty_print()"
   ]
  },
  {
   "cell_type": "markdown",
   "metadata": {},
   "source": [
    "# stream"
   ]
  },
  {
   "cell_type": "code",
   "execution_count": 52,
   "metadata": {},
   "outputs": [
    {
     "name": "stdout",
     "output_type": "stream",
     "text": [
      "What is 2 + 34?\n",
      "[]\n",
      "content='' additional_kwargs={} response_metadata={'model': 'mistral-nemo', 'created_at': '2025-01-17T17:20:16.975231Z', 'done': True, 'done_reason': 'stop', 'total_duration': 5158115250, 'load_duration': 40232458, 'prompt_eval_count': 455, 'prompt_eval_duration': 3906000000, 'eval_count': 26, 'eval_duration': 1206000000, 'message': Message(role='assistant', content='', images=None, tool_calls=None)} id='run-0f616649-9a96-48a7-b0f7-612fa2684a4c-0' tool_calls=[{'name': 'add', 'args': {'a': 2, 'b': 34}, 'id': '9d71d09d-1368-433a-ad9b-5f8f29caa379', 'type': 'tool_call'}] usage_metadata={'input_tokens': 455, 'output_tokens': 26, 'total_tokens': 481}\n",
      "content='36' name='add' tool_call_id='9d71d09d-1368-433a-ad9b-5f8f29caa379'\n",
      "[AIMessage(content='', additional_kwargs={}, response_metadata={'model': 'mistral-nemo', 'created_at': '2025-01-17T17:20:16.975231Z', 'done': True, 'done_reason': 'stop', 'total_duration': 5158115250, 'load_duration': 40232458, 'prompt_eval_count': 455, 'prompt_eval_duration': 3906000000, 'eval_count': 26, 'eval_duration': 1206000000, 'message': Message(role='assistant', content='', images=None, tool_calls=None)}, id='run-0f616649-9a96-48a7-b0f7-612fa2684a4c-0', tool_calls=[{'name': 'add', 'args': {'a': 2, 'b': 34}, 'id': '9d71d09d-1368-433a-ad9b-5f8f29caa379', 'type': 'tool_call'}], usage_metadata={'input_tokens': 455, 'output_tokens': 26, 'total_tokens': 481}), ToolMessage(content='36', name='add', tool_call_id='9d71d09d-1368-433a-ad9b-5f8f29caa379')]\n",
      "content='The sum of 2 and 34 is 36.' additional_kwargs={} response_metadata={'model': 'mistral-nemo', 'created_at': '2025-01-17T17:20:18.082399Z', 'done': True, 'done_reason': 'stop', 'total_duration': 1078219834, 'load_duration': 19875000, 'prompt_eval_count': 45, 'prompt_eval_duration': 391000000, 'eval_count': 15, 'eval_duration': 663000000, 'message': Message(role='assistant', content='The sum of 2 and 34 is 36.', images=None, tool_calls=None)} id='run-a36cf1db-73e7-4bda-9ae0-25826ed3b07d-0' usage_metadata={'input_tokens': 45, 'output_tokens': 15, 'total_tokens': 60}\n"
     ]
    }
   ],
   "source": [
    "inputs = {\"query\": \"What is 2 + 34?\", \"messages\": []}\n",
    "first = True\n",
    "for chunk in react_graph.stream(inputs, stream_mode=\"values\"):\n",
    "    if first:\n",
    "        print(chunk[\"query\"])\n",
    "        first = False\n",
    "    else:\n",
    "        print(chunk[\"messages\"][-1])"
   ]
  },
  {
   "cell_type": "markdown",
   "metadata": {},
   "source": [
    "# Logging"
   ]
  },
  {
   "cell_type": "code",
   "execution_count": 40,
   "metadata": {},
   "outputs": [
    {
     "ename": "TypeError",
     "evalue": "unsupported operand type(s) for |: 'list' and 'AddableValuesDict'",
     "output_type": "error",
     "traceback": [
      "\u001b[0;31m---------------------------------------------------------------------------\u001b[0m",
      "\u001b[0;31mTypeError\u001b[0m                                 Traceback (most recent call last)",
      "Cell \u001b[0;32mIn[40], line 3\u001b[0m\n\u001b[1;32m      1\u001b[0m llm \u001b[38;5;241m=\u001b[39m ChatOllama(model\u001b[38;5;241m=\u001b[39m\u001b[38;5;124m\"\u001b[39m\u001b[38;5;124mmistral-nemo\u001b[39m\u001b[38;5;124m\"\u001b[39m, temperature\u001b[38;5;241m=\u001b[39m\u001b[38;5;241m0.3\u001b[39m)\n\u001b[1;32m      2\u001b[0m llm_with_tools \u001b[38;5;241m=\u001b[39m llm\u001b[38;5;241m.\u001b[39mbind_tools(tools)\n\u001b[0;32m----> 3\u001b[0m aws \u001b[38;5;241m=\u001b[39m llm_with_tools\u001b[38;5;241m.\u001b[39minvoke(\u001b[43m[\u001b[49m\u001b[43msys_msg\u001b[49m\u001b[43m]\u001b[49m\u001b[43m \u001b[49m\u001b[38;5;241;43m+\u001b[39;49m\u001b[43m \u001b[49m\u001b[43mmessages\u001b[49m)\n\u001b[1;32m      4\u001b[0m aws\u001b[38;5;241m.\u001b[39mtool_calls\n",
      "File \u001b[0;32m~/opt/miniconda3/envs/chat/lib/python3.12/site-packages/langgraph/pregel/io.py:132\u001b[0m, in \u001b[0;36mAddableValuesDict.__radd__\u001b[0;34m(self, other)\u001b[0m\n\u001b[1;32m    131\u001b[0m \u001b[38;5;28;01mdef\u001b[39;00m\u001b[38;5;250m \u001b[39m\u001b[38;5;21m__radd__\u001b[39m(\u001b[38;5;28mself\u001b[39m, other: \u001b[38;5;28mdict\u001b[39m[\u001b[38;5;28mstr\u001b[39m, Any]) \u001b[38;5;241m-\u001b[39m\u001b[38;5;241m>\u001b[39m \u001b[38;5;124m\"\u001b[39m\u001b[38;5;124mAddableValuesDict\u001b[39m\u001b[38;5;124m\"\u001b[39m:\n\u001b[0;32m--> 132\u001b[0m     \u001b[38;5;28;01mreturn\u001b[39;00m \u001b[43mother\u001b[49m\u001b[43m \u001b[49m\u001b[38;5;241;43m|\u001b[39;49m\u001b[43m \u001b[49m\u001b[38;5;28;43mself\u001b[39;49m\n",
      "\u001b[0;31mTypeError\u001b[0m: unsupported operand type(s) for |: 'list' and 'AddableValuesDict'"
     ]
    }
   ],
   "source": [
    "llm = ChatOllama(model=\"mistral-nemo\", temperature=0.3)\n",
    "llm_with_tools = llm.bind_tools(tools)\n",
    "aws = llm_with_tools.invoke([sys_msg] + messages)\n",
    "aws.tool_calls"
   ]
  },
  {
   "cell_type": "code",
   "execution_count": 41,
   "metadata": {},
   "outputs": [
    {
     "data": {
      "text/plain": [
       "SystemMessage(content='You are a financial and mathematical assistant specializing in solving complex numerical problems, performing precise calculations, and interpreting financial data. Your role is to provide accurate results, explain steps clearly, and ensure all responses are logically sound and contextually relevant to the given task.', additional_kwargs={}, response_metadata={})"
      ]
     },
     "execution_count": 41,
     "metadata": {},
     "output_type": "execute_result"
    }
   ],
   "source": [
    "sys_msg"
   ]
  },
  {
   "cell_type": "code",
   "execution_count": null,
   "metadata": {},
   "outputs": [],
   "source": []
  },
  {
   "cell_type": "markdown",
   "metadata": {},
   "source": [
    "# Check tools"
   ]
  },
  {
   "cell_type": "code",
   "execution_count": 52,
   "metadata": {},
   "outputs": [
    {
     "data": {
      "text/plain": [
       "(<Signature (a: int, b: int) -> int>,\n",
       " 'Multiply two integers.\\n\\n    This tool takes two integers as input and returns their product. \\n    Useful for calculating the result of multiplication operations.\\n\\n    Args:\\n        a: The first integer to multiply.\\n        b: The second integer to multiply.\\n    ')"
      ]
     },
     "execution_count": 52,
     "metadata": {},
     "output_type": "execute_result"
    }
   ],
   "source": [
    "import inspect\n",
    "\n",
    "signature = inspect.signature(multiply)\n",
    "docstring = multiply.__doc__ or \"\"\n",
    "signature,docstring"
   ]
  },
  {
   "cell_type": "code",
   "execution_count": 53,
   "metadata": {},
   "outputs": [
    {
     "data": {
      "text/plain": [
       "[{'name': 'a', 'type': int}, {'name': 'b', 'type': int}]"
      ]
     },
     "execution_count": 53,
     "metadata": {},
     "output_type": "execute_result"
    }
   ],
   "source": [
    "params = [\n",
    "    {\"name\": param.name, \"type\": param.annotation}\n",
    "    for param in signature.parameters.values()\n",
    "]\n",
    "params"
   ]
  },
  {
   "cell_type": "code",
   "execution_count": 54,
   "metadata": {},
   "outputs": [
    {
     "data": {
      "text/plain": [
       "{'name': 'multiply',\n",
       " 'description': 'Multiply two integers.\\n\\n    This tool takes two integers as input and returns their product. \\n    Useful for calculating the result of multiplication operations.\\n\\n    Args:\\n        a: The first integer to multiply.\\n        b: The second integer to multiply.\\n    ',\n",
       " 'parameters': [{'name': 'a', 'type': int}, {'name': 'b', 'type': int}]}"
      ]
     },
     "execution_count": 54,
     "metadata": {},
     "output_type": "execute_result"
    }
   ],
   "source": [
    "tool_info = {\n",
    "    \"name\": multiply.__name__,\n",
    "    \"description\": docstring,\n",
    "    \"parameters\": params\n",
    "}\n",
    "tool_info"
   ]
  },
  {
   "cell_type": "code",
   "execution_count": null,
   "metadata": {},
   "outputs": [],
   "source": []
  }
 ],
 "metadata": {
  "kernelspec": {
   "display_name": "chat",
   "language": "python",
   "name": "python3"
  },
  "language_info": {
   "codemirror_mode": {
    "name": "ipython",
    "version": 3
   },
   "file_extension": ".py",
   "mimetype": "text/x-python",
   "name": "python",
   "nbconvert_exporter": "python",
   "pygments_lexer": "ipython3",
   "version": "3.12.8"
  }
 },
 "nbformat": 4,
 "nbformat_minor": 2
}
