{
 "cells": [
  {
   "cell_type": "markdown",
   "metadata": {},
   "source": [
    "# Basic"
   ]
  },
  {
   "cell_type": "code",
   "execution_count": 1,
   "metadata": {},
   "outputs": [],
   "source": [
    "from langgraph.graph import Graph"
   ]
  },
  {
   "cell_type": "code",
   "execution_count": 5,
   "metadata": {},
   "outputs": [],
   "source": [
    "def function_1(input_1):\n",
    "    return input_1 + \" Hi \"\n",
    "\n",
    "def function_2(input_2):\n",
    "    return input_2 + \"there\"\n",
    "\n",
    "# Define a Langchain graph\n",
    "workflow = Graph()\n",
    "\n",
    "workflow.add_node(\"node_1\", function_1)\n",
    "workflow.add_node(\"node_2\", function_2)\n",
    "\n",
    "workflow.add_edge('node_1', 'node_2')\n",
    "\n",
    "workflow.set_entry_point(\"node_1\")\n",
    "workflow.set_finish_point(\"node_2\")\n",
    "\n",
    "app = workflow.compile()"
   ]
  },
  {
   "cell_type": "code",
   "execution_count": 6,
   "metadata": {},
   "outputs": [
    {
     "data": {
      "text/plain": [
       "'Hello Hi there'"
      ]
     },
     "execution_count": 6,
     "metadata": {},
     "output_type": "execute_result"
    }
   ],
   "source": [
    "app.invoke(\"Hello\")"
   ]
  },
  {
   "cell_type": "code",
   "execution_count": 7,
   "metadata": {},
   "outputs": [
    {
     "data": {
      "text/plain": [
       "[{'node_1': 'Hello Hi '}, {'node_2': 'Hello Hi there'}]"
      ]
     },
     "execution_count": 7,
     "metadata": {},
     "output_type": "execute_result"
    }
   ],
   "source": [
    "list(app.stream('Hello'))\n"
   ]
  },
  {
   "cell_type": "code",
   "execution_count": 5,
   "metadata": {},
   "outputs": [
    {
     "name": "stdout",
     "output_type": "stream",
     "text": [
      "Output from node 'node_1':\n",
      "---\n",
      "Hello Hi \n",
      "\n",
      "---\n",
      "\n",
      "Output from node 'node_2':\n",
      "---\n",
      "Hello Hi there\n",
      "\n",
      "---\n",
      "\n"
     ]
    }
   ],
   "source": [
    "input = 'Hello'\n",
    "for output in app.stream(input):\n",
    "    # stream() yields dictionaries with output keyed by node name\n",
    "    for key, value in output.items():\n",
    "        print(f\"Output from node '{key}':\")\n",
    "        print(\"---\")\n",
    "        print(value)\n",
    "    print(\"\\n---\\n\")"
   ]
  },
  {
   "cell_type": "code",
   "execution_count": 8,
   "metadata": {},
   "outputs": [
    {
     "data": {
      "image/png": "[encoded data removed]",
      "text/plain": [
       "<IPython.core.display.Image object>"
      ]
     },
     "metadata": {},
     "output_type": "display_data"
    }
   ],
   "source": [
    "from IPython.display import Image, display\n",
    "from langchain_core.runnables.graph import CurveStyle, MermaidDrawMethod, NodeStyles\n",
    "\n",
    "display(\n",
    "    Image(\n",
    "        app.get_graph().draw_mermaid_png(\n",
    "            draw_method=MermaidDrawMethod.API,\n",
    "        )\n",
    "    )\n",
    ")"
   ]
  },
  {
   "cell_type": "markdown",
   "metadata": {},
   "source": [
    "# Add Ollama"
   ]
  },
  {
   "cell_type": "code",
   "execution_count": 9,
   "metadata": {},
   "outputs": [],
   "source": [
    "from langchain_ollama.llms import OllamaLLM\n",
    "\n",
    "model = OllamaLLM(model=\"llama3.2\", temperature=0.3)"
   ]
  },
  {
   "cell_type": "code",
   "execution_count": 10,
   "metadata": {},
   "outputs": [
    {
     "data": {
      "text/plain": [
       "'I\\'m not aware of the current date or time. I\\'m a large language model, I don\\'t have real-time access to the current day or time. However, I can suggest ways for you to find out the current date and time.\\n\\nYou can check your device\\'s clock or calendar app, or search online for \"current date and time\" to get the latest information.'"
      ]
     },
     "execution_count": 10,
     "metadata": {},
     "output_type": "execute_result"
    }
   ],
   "source": [
    "model.invoke(\"how about today?\")"
   ]
  },
  {
   "cell_type": "code",
   "execution_count": 11,
   "metadata": {},
   "outputs": [],
   "source": [
    "def function_1(input_1):\n",
    "    response = model.invoke(input_1)\n",
    "    return response\n",
    "\n",
    "def function_2(input_2):\n",
    "    return \"Agent Says: \" + input_2\n",
    "\n",
    "# Define a Langchain graph\n",
    "workflow = Graph()\n",
    "\n",
    "#calling node 1 as agent\n",
    "workflow.add_node(\"agent\", function_1)\n",
    "workflow.add_node(\"node_2\", function_2)\n",
    "\n",
    "workflow.add_edge('agent', 'node_2')\n",
    "\n",
    "workflow.set_entry_point(\"agent\")\n",
    "workflow.set_finish_point(\"node_2\")\n",
    "\n",
    "app = workflow.compile()"
   ]
  },
  {
   "cell_type": "code",
   "execution_count": 12,
   "metadata": {},
   "outputs": [
    {
     "data": {
      "text/plain": [
       "\"Agent Says: The Earth's shape is a topic of ongoing debate and research in the field of geophysics. While there are different theories, the most widely accepted model is that the Earth is an oblate spheroid.\\n\\nAn oblate spheroid is a three-dimensional shape that is slightly flattened at the poles and bulging at the equator. This means that the Earth is roughly spherical in shape but not perfectly round. The equatorial radius of the Earth is about 6,378 kilometers (3,959 miles), while the polar radius is about 6,357 kilometers (3,949 miles).\\n\\nThe oblate spheroid model is supported by a variety of evidence, including:\\n\\n1. Satellite imagery: Images taken from space show that the Earth's shape is not perfectly round.\\n2. Gravity measurements: Scientists have measured the strength of gravity at different latitudes and found that it varies slightly depending on the location.\\n3. Seismic data: Seismologists have studied the way seismic waves travel through the Earth and found that they behave differently than expected if the Earth were a perfect sphere.\\n4. Ships disappearing over the horizon: When a ship sails away from an observer on the shore, it will eventually disappear from view as it sinks below the horizon. This is because the curvature of the Earth means that the observer's line of sight is gradually lowered as the ship moves further away.\\n\\nWhile the oblate spheroid model is the most widely accepted shape for the Earth, there are still some scientists who argue that the planet may be slightly flattened at the poles or bulging at the equator. However, these alternative models are not supported by the same level of evidence and are generally considered to be less plausible.\\n\\nIt's worth noting that the concept of a perfect sphere is not unique to the Earth. Many celestial bodies in our solar system, such as planets and moons, are also roughly spherical in shape.\""
      ]
     },
     "execution_count": 12,
     "metadata": {},
     "output_type": "execute_result"
    }
   ],
   "source": [
    "app.invoke(\"what is the shape of the earth?\")"
   ]
  },
  {
   "cell_type": "code",
   "execution_count": 13,
   "metadata": {},
   "outputs": [
    {
     "name": "stdout",
     "output_type": "stream",
     "text": [
      "Output from node 'agent':\n",
      "---\n",
      "The Earth's shape is a topic of ongoing debate and research in the fields of geology, astronomy, and physics. While there is no consensus on a single answer, here are some facts about the Earth's shape:\n",
      "\n",
      "1. **Approximate sphere**: The most widely accepted model of the Earth is an oblate spheroid, meaning it is roughly spherical but slightly flattened at the poles and bulging at the equator.\n",
      "2. **Equatorial radius**: The Earth's equatorial radius is approximately 6,378 kilometers (3,959 miles).\n",
      "3. **Polar radius**: The Earth's polar radius is approximately 6,357 kilometers (3,949 miles), which is about 21 kilometers (13 miles) shorter than the equatorial radius.\n",
      "4. **Shape variations**: The Earth's shape can vary slightly due to factors such as:\n",
      " * **Tidal forces**: The gravitational pull of the Moon and Sun causes the Earth's oceans to bulge out in two areas, creating a slight flattening at the poles.\n",
      " * **Geological processes**: The movement of tectonic plates and volcanic activity can cause the Earth's surface to rise or fall, leading to variations in shape.\n",
      "5. **Alternative models**: Some scientists have proposed alternative shapes for the Earth, such as:\n",
      " * **Flat Earth**: A flat disc with a circular hole at the center (no longer widely accepted).\n",
      " * **Ellipsoid**: A more elongated shape than an oblate spheroid, with the poles being farther apart.\n",
      " * **Triaxial ellipsoid**: A three-dimensional ellipsoid shape, where the axes are not aligned with the traditional x-y-z coordinates.\n",
      "\n",
      "It's essential to note that these alternative models are not widely accepted by the scientific community and are often considered speculative or outdated. The oblate spheroid model is the most well-supported and widely accepted description of the Earth's shape.\n",
      "\n",
      "---\n",
      "\n",
      "Output from node 'node_2':\n",
      "---\n",
      "Agent Says: The Earth's shape is a topic of ongoing debate and research in the fields of geology, astronomy, and physics. While there is no consensus on a single answer, here are some facts about the Earth's shape:\n",
      "\n",
      "1. **Approximate sphere**: The most widely accepted model of the Earth is an oblate spheroid, meaning it is roughly spherical but slightly flattened at the poles and bulging at the equator.\n",
      "2. **Equatorial radius**: The Earth's equatorial radius is approximately 6,378 kilometers (3,959 miles).\n",
      "3. **Polar radius**: The Earth's polar radius is approximately 6,357 kilometers (3,949 miles), which is about 21 kilometers (13 miles) shorter than the equatorial radius.\n",
      "4. **Shape variations**: The Earth's shape can vary slightly due to factors such as:\n",
      " * **Tidal forces**: The gravitational pull of the Moon and Sun causes the Earth's oceans to bulge out in two areas, creating a slight flattening at the poles.\n",
      " * **Geological processes**: The movement of tectonic plates and volcanic activity can cause the Earth's surface to rise or fall, leading to variations in shape.\n",
      "5. **Alternative models**: Some scientists have proposed alternative shapes for the Earth, such as:\n",
      " * **Flat Earth**: A flat disc with a circular hole at the center (no longer widely accepted).\n",
      " * **Ellipsoid**: A more elongated shape than an oblate spheroid, with the poles being farther apart.\n",
      " * **Triaxial ellipsoid**: A three-dimensional ellipsoid shape, where the axes are not aligned with the traditional x-y-z coordinates.\n",
      "\n",
      "It's essential to note that these alternative models are not widely accepted by the scientific community and are often considered speculative or outdated. The oblate spheroid model is the most well-supported and widely accepted description of the Earth's shape.\n",
      "\n",
      "---\n",
      "\n"
     ]
    }
   ],
   "source": [
    "input = 'what is the shape of the earth?'\n",
    "for output in app.stream(input):\n",
    "    # stream() yields dictionaries with output keyed by node name\n",
    "    for key, value in output.items():\n",
    "        print(f\"Output from node '{key}':\")\n",
    "        print(\"---\")\n",
    "        print(value)\n",
    "    print(\"\\n---\\n\")"
   ]
  },
  {
   "cell_type": "markdown",
   "metadata": {},
   "source": [
    "# Ask for temperature"
   ]
  },
  {
   "cell_type": "code",
   "execution_count": 14,
   "metadata": {},
   "outputs": [],
   "source": [
    "def function_1(input_1):\n",
    "    complete_query = \"Your task is to provide only the city name based on the user query. \\\n",
    "        Nothing more, just the city name mentioned. Following is the user query: \" + input_1\n",
    "    response = model.invoke(complete_query)\n",
    "    return response\n",
    "\n",
    "def function_2(input_2):\n",
    "    weather_data = f\"\"\"\n",
    "    In {input_2}, the current weather is as follows:\n",
    "    Detailed status: broken clouds\n",
    "    Wind speed: 2.57 m/s, direction: 240°\n",
    "    Humidity: 55%\n",
    "    Temperature: \n",
    "    - Current: 20.12°C\n",
    "    - High: 21.75°C\n",
    "    \n",
    "    - Low: 18.68°C\n",
    "    - Feels like: 19.62°C\n",
    "    Rain: 0\n",
    "    Heat index: None\n",
    "    Cloud cover: 75%\"\"\"\n",
    "    return weather_data\n",
    "\n",
    "# Define a Langchain graph\n",
    "workflow = Graph()\n",
    "\n",
    "#calling node 1 as agent\n",
    "workflow.add_node(\"agent\", function_1)\n",
    "workflow.add_node(\"tool\", function_2)\n",
    "\n",
    "workflow.add_edge('agent', 'tool')\n",
    "\n",
    "workflow.set_entry_point(\"agent\")\n",
    "workflow.set_finish_point(\"tool\")\n",
    "\n",
    "app = workflow.compile()"
   ]
  },
  {
   "cell_type": "code",
   "execution_count": 15,
   "metadata": {},
   "outputs": [
    {
     "data": {
      "text/plain": [
       "'\\n    In Tokyo, the current weather is as follows:\\n    Detailed status: broken clouds\\n    Wind speed: 2.57 m/s, direction: 240°\\n    Humidity: 55%\\n    Temperature: \\n    - Current: 20.12°C\\n    - High: 21.75°C\\n    \\n    - Low: 18.68°C\\n    - Feels like: 19.62°C\\n    Rain: 0\\n    Heat index: None\\n    Cloud cover: 75%'"
      ]
     },
     "execution_count": 15,
     "metadata": {},
     "output_type": "execute_result"
    }
   ],
   "source": [
    "app.invoke(\"What's the temperature in japan capital city?\")"
   ]
  },
  {
   "cell_type": "code",
   "execution_count": 65,
   "metadata": {},
   "outputs": [
    {
     "name": "stdout",
     "output_type": "stream",
     "text": [
      "Output from node 'agent':\n",
      "---\n",
      "Las Vegas\n",
      "\n",
      "---\n",
      "\n",
      "Output from node 'tool':\n",
      "---\n",
      "\n",
      "    In Las Vegas, the current weather is as follows:\n",
      "    Detailed status: broken clouds\n",
      "    Wind speed: 2.57 m/s, direction: 240°\n",
      "    Humidity: 55%\n",
      "    Temperature: \n",
      "    - Current: 20.12°C\n",
      "    - High: 21.75°C\n",
      "    - Low: 18.68°C\n",
      "    - Feels like: 19.62°C\n",
      "    Rain: 0\n",
      "    Heat index: None\n",
      "    Cloud cover: 75%\n",
      "\n",
      "---\n",
      "\n"
     ]
    }
   ],
   "source": [
    "input = \"What's the temperature in Las Vegas\"\n",
    "for output in app.stream(input):\n",
    "    # stream() yields dictionaries with output keyed by node name\n",
    "    for key, value in output.items():\n",
    "        print(f\"Output from node '{key}':\")\n",
    "        print(\"---\")\n",
    "        print(value)\n",
    "    print(\"\\n---\\n\")"
   ]
  },
  {
   "cell_type": "markdown",
   "metadata": {},
   "source": [
    "# Full code"
   ]
  },
  {
   "cell_type": "code",
   "execution_count": 18,
   "metadata": {},
   "outputs": [
    {
     "data": {
      "text/plain": [
       "{'messages': []}"
      ]
     },
     "execution_count": 18,
     "metadata": {},
     "output_type": "execute_result"
    }
   ],
   "source": [
    "from langchain_community.tools import DuckDuckGoSearchRun\n",
    "search = DuckDuckGoSearchRun()\n",
    "#  assign AgentState as an empty dict\n",
    "AgentState = {}\n",
    "\n",
    "# messages key will be assigned as an empty array. We will append new messages as we pass along nodes. \n",
    "AgentState[\"messages\"] = []\n",
    "AgentState"
   ]
  },
  {
   "cell_type": "code",
   "execution_count": 19,
   "metadata": {},
   "outputs": [],
   "source": [
    "def function_1(state):\n",
    "    messages = state['messages']\n",
    "    user_input = messages[-1]\n",
    "    complete_query = \"Your task is to provide only the city name based on the user query. \\\n",
    "                    Nothing more, just the city name mentioned. Following is the user query: \" + user_input\n",
    "    response = model.invoke(complete_query)\n",
    "    state['messages'].append(response) # appending AIMessage response to the AgentState\n",
    "    return state\n",
    "\n",
    "def function_2(state):\n",
    "    messages = state['messages']\n",
    "    agent_response = messages[-1]\n",
    "    weather_data = search.invoke(f\"what is temperature in {agent_response} today?\")\n",
    "    state['messages'].append(weather_data)\n",
    "    return state\n",
    "\n",
    "def function_3(state):\n",
    "    messages = state['messages']\n",
    "    user_input = messages[0]\n",
    "    available_info = messages[-1]\n",
    "    agent2_query = \"Your task is to provide info concisely based on the user query and the available information from the internet. \\\n",
    "                        Following is the user query: \" + user_input + \" Available information: \" + available_info\n",
    "    response = model.invoke(agent2_query)\n",
    "    return response"
   ]
  },
  {
   "cell_type": "code",
   "execution_count": 20,
   "metadata": {},
   "outputs": [],
   "source": [
    "workflow = Graph()\n",
    "\n",
    "\n",
    "workflow.add_node(\"agent\", function_1)\n",
    "workflow.add_node(\"tool\", function_2)\n",
    "workflow.add_node(\"responder\", function_3)\n",
    "\n",
    "workflow.add_edge('agent', 'tool')\n",
    "workflow.add_edge('tool', 'responder')\n",
    "\n",
    "workflow.set_entry_point(\"agent\")\n",
    "workflow.set_finish_point(\"responder\")\n",
    "\n",
    "app = workflow.compile()"
   ]
  },
  {
   "cell_type": "code",
   "execution_count": 21,
   "metadata": {},
   "outputs": [
    {
     "data": {
      "text/plain": [
       "\"Based on the available information, here's a concise answer to the user query:\\n\\n1. Temperature in Las Vegas: The temperature is expected to be between 39.2°F (4°C) and 53.6°F (12°C).\\n2. How it's feeling today: It will feel like 32°F (0°C) at its minimum and 50°F (10°C) at its maximum, with mostly clear skies.\\n3. Activity suggestion for today: Considering the sunny weather, a great activity to do in Las Vegas today would be outdoor activities such as visiting the famous Strip, exploring Red Rock Canyon, or taking a stroll along the Las Vegas Riverwalk.\""
      ]
     },
     "execution_count": 21,
     "metadata": {},
     "output_type": "execute_result"
    }
   ],
   "source": [
    "inputs = {\"messages\": [\"what is the temperature in las vegas and how is feeling today?. what is the activity I should do today?\"]}\n",
    "app.invoke(inputs)"
   ]
  },
  {
   "cell_type": "code",
   "execution_count": 25,
   "metadata": {},
   "outputs": [
    {
     "name": "stdout",
     "output_type": "stream",
     "text": [
      "Output from node 'agent':\n",
      "---\n",
      "{'messages': ['what is the temperature in thailand and how is feeling today?. what is the activity I should do today?', 'Bangkok']}\n",
      "\n",
      "---\n",
      "\n",
      "Output from node 'tool':\n",
      "---\n",
      "{'messages': ['what is the temperature in thailand and how is feeling today?. what is the activity I should do today?', 'Bangkok', \"Temperatures in Bangkok fell as low as 59.3 degrees Fahrenheit (15.2 degrees Celsius) on Monday, the lowest the capital has seen in years, as the country's weather agency warned cool conditions ... The Long-range 12 day forecast also includes detail for Bangkok weather today. Live weather reports from Bangkok weather stations and weather warnings that include risk of thunder, high UV index and forecast gales. See the links below the 12-day Bangkok weather forecast table for other cities and towns nearby along with weather conditions for ... Bangkok, Thailand 16 Day Weather Forecast. Thailand - Bangkok - Bangkok. Date Weather Temp Wind Speed Gust Humidity Pressure Rain total; Sun 12 Jan 25°C: 8mph: 8mph: 8mph: 37% 1017mB 0mm ... TODAY'S WEATHER. 7 DAY CHARTS. NEWSLETTER. Daily weather by email. REGISTER. UK FORECASTS. 14 day outlook. Monthly outlook. Seasonal outlook. Accurate hourly weather forecast for Bangkok, TH including all the relevant parameters like temperature, feels like temperature, wind and gusts, chance of precipitation, and much more from Foreca. Bangkok - Weather forecast from Theweather.com. Weather conditions with updates on temperature, humidity, wind speed, snow, pressure, etc. for Bangkok, Thailand. New York New York State 30. ... Weather Bangkok today, January 13 Weather Bangkok tomorrow, January 14. 8 AM : 66° ...\"]}\n",
      "\n",
      "---\n",
      "\n",
      "Output from node 'responder':\n",
      "---\n",
      "Based on the available information, here is a concise response to the user query:\n",
      "\n",
      "1. Temperature in Thailand: The temperature in Bangkok has fallen as low as 59.3 degrees Fahrenheit (15.2 degrees Celsius) due to cool conditions.\n",
      "\n",
      "2. How is feeling today?: According to the weather forecast, it's currently 66°F (19°C) with a feels-like temperature of 66°F (19°C).\n",
      "\n",
      "3. Activity you should do today: Considering the current weather conditions and temperature, it might be suitable for outdoor activities like sightseeing or exploring the city. However, it's recommended to dress in layers due to the cool morning temperatures.\n",
      "\n",
      "---\n",
      "\n"
     ]
    }
   ],
   "source": [
    "input = {\"messages\": [\"what is the temperature in thailand and how is feeling today?. what is the activity I should do today?\"]}\n",
    "for output in app.stream(input):\n",
    "    # stream() yields dictionaries with output keyed by node name\n",
    "    for key, value in output.items():\n",
    "        print(f\"Output from node '{key}':\")\n",
    "        print(\"---\")\n",
    "        print(value)\n",
    "    print(\"\\n---\\n\")"
   ]
  },
  {
   "cell_type": "code",
   "execution_count": 27,
   "metadata": {},
   "outputs": [],
   "source": [
    "res = model.invoke(input['messages'])"
   ]
  },
  {
   "cell_type": "code",
   "execution_count": 24,
   "metadata": {},
   "outputs": [
    {
     "name": "stdout",
     "output_type": "stream",
     "text": [
      "Based on the current weather conditions, here's a summary:\n",
      "\n",
      "* Temperature: The temperature in Bangkok is currently 24°C (75°F), with a humidity level of 65% and a gentle breeze at 9.4 km/h.\n",
      "* Feeling: Considering the wind and humidity, it might feel like 20°C outside due to the cooling effect of the air movement.\n",
      "\n",
      "As for activities, considering the sunny weather and comfortable temperature, here are some suggestions:\n",
      "\n",
      "1. Explore the city's temples and museums: Bangkok has a rich cultural heritage, and visiting its famous temples and museums would be an excellent way to spend the day.\n",
      "2. Take a boat ride along the Chao Phraya River: A leisurely boat ride would provide a great opportunity to see the city from a different perspective while enjoying the sunny weather.\n",
      "3. Visit the Chatuchak Weekend Market: If you're interested in shopping or trying local street food, the Chatuchak Weekend Market is a must-visit destination.\n",
      "4. Relax at Lumphini Park: This beautiful park offers a peaceful escape from the hustle and bustle of the city, with plenty of greenery and walking paths to enjoy.\n",
      "\n",
      "However, if you're planning outdoor activities that require more physical exertion or are sensitive to heat, it might be better to consider indoor activities or schedule them for later in the day when the temperature cools down.\n"
     ]
    }
   ],
   "source": [
    "print(res)"
   ]
  },
  {
   "cell_type": "code",
   "execution_count": null,
   "metadata": {},
   "outputs": [],
   "source": []
  },
  {
   "cell_type": "code",
   "execution_count": null,
   "metadata": {},
   "outputs": [],
   "source": []
  },
  {
   "cell_type": "code",
   "execution_count": null,
   "metadata": {},
   "outputs": [],
   "source": []
  },
  {
   "cell_type": "code",
   "execution_count": null,
   "metadata": {},
   "outputs": [],
   "source": []
  },
  {
   "cell_type": "code",
   "execution_count": null,
   "metadata": {},
   "outputs": [],
   "source": []
  },
  {
   "cell_type": "code",
   "execution_count": null,
   "metadata": {},
   "outputs": [],
   "source": []
  }
 ],
 "metadata": {
  "kernelspec": {
   "display_name": "chat",
   "language": "python",
   "name": "python3"
  },
  "language_info": {
   "codemirror_mode": {
    "name": "ipython",
    "version": 3
   },
   "file_extension": ".py",
   "mimetype": "text/x-python",
   "name": "python",
   "nbconvert_exporter": "python",
   "pygments_lexer": "ipython3",
   "version": "3.12.8"
  }
 },
 "nbformat": 4,
 "nbformat_minor": 2
}
