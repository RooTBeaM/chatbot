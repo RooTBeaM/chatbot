{
 "cells": [
  {
   "cell_type": "markdown",
   "metadata": {},
   "source": [
    "# Basic"
   ]
  },
  {
   "cell_type": "code",
   "execution_count": 2,
   "metadata": {},
   "outputs": [],
   "source": [
    "from langgraph.graph import Graph"
   ]
  },
  {
   "cell_type": "code",
   "execution_count": 3,
   "metadata": {},
   "outputs": [],
   "source": [
    "def function_1(input_1):\n",
    "    return input_1 + \" Hi \"\n",
    "\n",
    "def function_2(input_2):\n",
    "    return input_2 + \"there\"\n",
    "\n",
    "# Define a Langchain graph\n",
    "workflow = Graph()\n",
    "\n",
    "workflow.add_node(\"node_1\", function_1)\n",
    "workflow.add_node(\"node_2\", function_2)\n",
    "\n",
    "workflow.add_edge('node_1', 'node_2')\n",
    "\n",
    "workflow.set_entry_point(\"node_1\")\n",
    "workflow.set_finish_point(\"node_2\")\n",
    "\n",
    "app = workflow.compile()"
   ]
  },
  {
   "cell_type": "code",
   "execution_count": 9,
   "metadata": {},
   "outputs": [
    {
     "data": {
      "text/plain": [
       "'Hello Hi there'"
      ]
     },
     "execution_count": 9,
     "metadata": {},
     "output_type": "execute_result"
    }
   ],
   "source": [
    "app.invoke(\"Hello\")"
   ]
  },
  {
   "cell_type": "code",
   "execution_count": 10,
   "metadata": {},
   "outputs": [
    {
     "data": {
      "text/plain": [
       "[{'node_1': 'Hello Hi '}, {'node_2': 'Hello Hi there'}]"
      ]
     },
     "execution_count": 10,
     "metadata": {},
     "output_type": "execute_result"
    }
   ],
   "source": [
    "list(app.stream(input))\n"
   ]
  },
  {
   "cell_type": "code",
   "execution_count": 5,
   "metadata": {},
   "outputs": [
    {
     "name": "stdout",
     "output_type": "stream",
     "text": [
      "Output from node 'node_1':\n",
      "---\n",
      "Hello Hi \n",
      "\n",
      "---\n",
      "\n",
      "Output from node 'node_2':\n",
      "---\n",
      "Hello Hi there\n",
      "\n",
      "---\n",
      "\n"
     ]
    }
   ],
   "source": [
    "input = 'Hello'\n",
    "for output in app.stream(input):\n",
    "    # stream() yields dictionaries with output keyed by node name\n",
    "    for key, value in output.items():\n",
    "        print(f\"Output from node '{key}':\")\n",
    "        print(\"---\")\n",
    "        print(value)\n",
    "    print(\"\\n---\\n\")"
   ]
  },
  {
   "cell_type": "code",
   "execution_count": 11,
   "metadata": {},
   "outputs": [
    {
     "data": {
      "image/png": "[encoded data removed]",
      "text/plain": [
       "<IPython.core.display.Image object>"
      ]
     },
     "metadata": {},
     "output_type": "display_data"
    }
   ],
   "source": [
    "from IPython.display import Image, display\n",
    "from langchain_core.runnables.graph import CurveStyle, MermaidDrawMethod, NodeStyles\n",
    "\n",
    "display(\n",
    "    Image(\n",
    "        app.get_graph().draw_mermaid_png(\n",
    "            draw_method=MermaidDrawMethod.API,\n",
    "        )\n",
    "    )\n",
    ")"
   ]
  },
  {
   "cell_type": "markdown",
   "metadata": {},
   "source": [
    "# Add Ollama"
   ]
  },
  {
   "cell_type": "code",
   "execution_count": 12,
   "metadata": {},
   "outputs": [],
   "source": [
    "from langchain_ollama.llms import OllamaLLM"
   ]
  },
  {
   "cell_type": "code",
   "execution_count": 24,
   "metadata": {},
   "outputs": [],
   "source": [
    "model = OllamaLLM(model=\"llama3.2\", temperature=0.3)"
   ]
  },
  {
   "cell_type": "code",
   "execution_count": 29,
   "metadata": {},
   "outputs": [
    {
     "data": {
      "text/plain": [
       "'I\\'m not aware of the current date or time. I\\'m a large language model, I don\\'t have real-time access to the current moment. However, I can suggest ways for you to find out the current date and time if you\\'d like.\\n\\nYou can:\\n\\n1. Check your device\\'s clock or calendar app.\\n2. Search for \"current date\" or \"today\\'s date\" on a search engine like Google.\\n3. Ask a voice assistant like Siri, Alexa, or Google Assistant.\\n\\nLet me know if there\\'s anything else I can help you with!'"
      ]
     },
     "execution_count": 29,
     "metadata": {},
     "output_type": "execute_result"
    }
   ],
   "source": [
    "model.invoke(\"how about today?\")"
   ]
  },
  {
   "cell_type": "code",
   "execution_count": 30,
   "metadata": {},
   "outputs": [],
   "source": [
    "def function_1(input_1):\n",
    "    response = model.invoke(input_1)\n",
    "    return response\n",
    "\n",
    "def function_2(input_2):\n",
    "    return \"Agent Says: \" + input_2\n",
    "\n",
    "# Define a Langchain graph\n",
    "workflow = Graph()\n",
    "\n",
    "#calling node 1 as agent\n",
    "workflow.add_node(\"agent\", function_1)\n",
    "workflow.add_node(\"node_2\", function_2)\n",
    "\n",
    "workflow.add_edge('agent', 'node_2')\n",
    "\n",
    "workflow.set_entry_point(\"agent\")\n",
    "workflow.set_finish_point(\"node_2\")\n",
    "\n",
    "app = workflow.compile()"
   ]
  },
  {
   "cell_type": "code",
   "execution_count": 33,
   "metadata": {},
   "outputs": [
    {
     "data": {
      "text/plain": [
       "\"Agent Says: The Earth's shape is a topic of ongoing debate and research in the fields of geology, astronomy, and physics. While there are different theories and models, the most widely accepted understanding is that the Earth is an oblate spheroid.\\n\\nAn oblate spheroid is a three-dimensional shape that is roughly spherical but slightly flattened at the poles and bulging at the equator. This means that the Earth is not a perfect sphere, but rather an ellipsoid with its axis of symmetry tilted at about 23.5 degrees relative to the plane of its orbit around the Sun.\\n\\nThe evidence for this shape comes from various sources:\\n\\n1. Satellite imagery: Images taken by satellites in orbit around the Earth show the planet's slightly flattened shape.\\n2. Ships disappearing over the horizon: When a ship sails away from an observer on the shore, it will eventually disappear from view as it sinks below the horizon due to the curvature of the Earth.\\n3. Shadows on the moon: During lunar eclipses, the Earth passes between the Sun and the Moon, casting a curved shadow on the lunar surface.\\n4. Circumnavigation: Many people have traveled around the world, completing circumnavigations of the planet, which would not be possible if the Earth were a perfect sphere.\\n5. Gravity measurements: Scientists have measured the strength of gravity at different latitudes and altitudes, which suggests that the Earth is slightly flattened at the poles and bulging at the equator.\\n\\nWhile there are some theories suggesting that the Earth might be flat or have other shapes, these ideas are not supported by scientific evidence and are generally considered to be incorrect. The oblate spheroid shape of the Earth is widely accepted by the scientific community and is a fundamental concept in understanding our planet's geology, climate, and natural phenomena.\""
      ]
     },
     "execution_count": 33,
     "metadata": {},
     "output_type": "execute_result"
    }
   ],
   "source": [
    "app.invoke(\"what is the shape of the earth?\")"
   ]
  },
  {
   "cell_type": "code",
   "execution_count": 35,
   "metadata": {},
   "outputs": [
    {
     "name": "stdout",
     "output_type": "stream",
     "text": [
      "Output from node 'agent':\n",
      "---\n",
      "The Earth's shape is a topic of ongoing debate and research in the field of geophysics. While there are different theories, the most widely accepted model is that the Earth is an oblate spheroid.\n",
      "\n",
      "An oblate spheroid is a slightly flattened sphere, meaning it is roughly spherical in shape but slightly more flattened at the poles and bulging at the equator due to its rotation. This shape is supported by various lines of evidence from geology, astronomy, and satellite imagery.\n",
      "\n",
      "Here are some reasons why scientists believe the Earth is an oblate spheroid:\n",
      "\n",
      "1. **Gravity measurements**: Satellite gravity measurements have shown that the Earth's mass is not evenly distributed, with a slightly greater mass at the poles than at the equator.\n",
      "2. **Satellite imagery**: High-resolution satellite images of the Earth show its shape to be roughly spherical, but with some subtle variations in curvature.\n",
      "3. **Geodetic surveys**: Geodetic surveys have measured the Earth's shape and size with high accuracy, confirming that it is an oblate spheroid.\n",
      "4. **Seismic data**: Seismic waves generated by earthquakes travel through the Earth's interior and are recorded at seismographic stations around the world. The speed and behavior of these waves suggest that the Earth is a slightly flattened sphere.\n",
      "\n",
      "The degree of flattening varies depending on the method used to measure it, but most estimates suggest that the Earth is about 21 kilometers (13 miles) shorter at the poles than at the equator.\n",
      "\n",
      "It's worth noting that there are some alternative theories, such as:\n",
      "\n",
      "* **Flat Earth**: The idea that the Earth is flat and does not curve.\n",
      "* **Ellipsoid**: A slightly flattened sphere with a more pronounced curvature than an oblate spheroid.\n",
      "* **Dumbbell shape**: Some models suggest that the Earth could be shaped like a dumbbell or a football, but these ideas are not supported by scientific evidence.\n",
      "\n",
      "In summary, the overwhelming consensus among scientists is that the Earth is an oblate spheroid, with a slightly flattened shape due to its rotation.\n",
      "\n",
      "---\n",
      "\n",
      "Output from node 'node_2':\n",
      "---\n",
      "Agent Says: The Earth's shape is a topic of ongoing debate and research in the field of geophysics. While there are different theories, the most widely accepted model is that the Earth is an oblate spheroid.\n",
      "\n",
      "An oblate spheroid is a slightly flattened sphere, meaning it is roughly spherical in shape but slightly more flattened at the poles and bulging at the equator due to its rotation. This shape is supported by various lines of evidence from geology, astronomy, and satellite imagery.\n",
      "\n",
      "Here are some reasons why scientists believe the Earth is an oblate spheroid:\n",
      "\n",
      "1. **Gravity measurements**: Satellite gravity measurements have shown that the Earth's mass is not evenly distributed, with a slightly greater mass at the poles than at the equator.\n",
      "2. **Satellite imagery**: High-resolution satellite images of the Earth show its shape to be roughly spherical, but with some subtle variations in curvature.\n",
      "3. **Geodetic surveys**: Geodetic surveys have measured the Earth's shape and size with high accuracy, confirming that it is an oblate spheroid.\n",
      "4. **Seismic data**: Seismic waves generated by earthquakes travel through the Earth's interior and are recorded at seismographic stations around the world. The speed and behavior of these waves suggest that the Earth is a slightly flattened sphere.\n",
      "\n",
      "The degree of flattening varies depending on the method used to measure it, but most estimates suggest that the Earth is about 21 kilometers (13 miles) shorter at the poles than at the equator.\n",
      "\n",
      "It's worth noting that there are some alternative theories, such as:\n",
      "\n",
      "* **Flat Earth**: The idea that the Earth is flat and does not curve.\n",
      "* **Ellipsoid**: A slightly flattened sphere with a more pronounced curvature than an oblate spheroid.\n",
      "* **Dumbbell shape**: Some models suggest that the Earth could be shaped like a dumbbell or a football, but these ideas are not supported by scientific evidence.\n",
      "\n",
      "In summary, the overwhelming consensus among scientists is that the Earth is an oblate spheroid, with a slightly flattened shape due to its rotation.\n",
      "\n",
      "---\n",
      "\n"
     ]
    }
   ],
   "source": [
    "input = 'what is the shape of the earth?'\n",
    "for output in app.stream(input):\n",
    "    # stream() yields dictionaries with output keyed by node name\n",
    "    for key, value in output.items():\n",
    "        print(f\"Output from node '{key}':\")\n",
    "        print(\"---\")\n",
    "        print(value)\n",
    "    print(\"\\n---\\n\")"
   ]
  },
  {
   "cell_type": "markdown",
   "metadata": {},
   "source": [
    "# Ask for temperature"
   ]
  },
  {
   "cell_type": "code",
   "execution_count": 63,
   "metadata": {},
   "outputs": [],
   "source": [
    "def function_1(input_1):\n",
    "    complete_query = \"Your task is to provide only the city name based on the user query. \\\n",
    "        Nothing more, just the city name mentioned. Following is the user query: \" + input_1\n",
    "    response = model.invoke(complete_query)\n",
    "    return response\n",
    "\n",
    "def function_2(input_2):\n",
    "    weather_data = f\"\"\"\n",
    "    In {input_2}, the current weather is as follows:\n",
    "    Detailed status: broken clouds\n",
    "    Wind speed: 2.57 m/s, direction: 240°\n",
    "    Humidity: 55%\n",
    "    Temperature: \n",
    "    - Current: 20.12°C\n",
    "    - High: 21.75°C\n",
    "    - Low: 18.68°C\n",
    "    - Feels like: 19.62°C\n",
    "    Rain: 0\n",
    "    Heat index: None\n",
    "    Cloud cover: 75%\"\"\"\n",
    "    return weather_data\n",
    "\n",
    "# Define a Langchain graph\n",
    "workflow = Graph()\n",
    "\n",
    "#calling node 1 as agent\n",
    "workflow.add_node(\"agent\", function_1)\n",
    "workflow.add_node(\"tool\", function_2)\n",
    "\n",
    "workflow.add_edge('agent', 'tool')\n",
    "\n",
    "workflow.set_entry_point(\"agent\")\n",
    "workflow.set_finish_point(\"tool\")\n",
    "\n",
    "app = workflow.compile()"
   ]
  },
  {
   "cell_type": "code",
   "execution_count": 64,
   "metadata": {},
   "outputs": [
    {
     "data": {
      "text/plain": [
       "'\\n    In Tokyo, the current weather is as follows:\\n    Detailed status: broken clouds\\n    Wind speed: 2.57 m/s, direction: 240°\\n    Humidity: 55%\\n    Temperature: \\n    - Current: 20.12°C\\n    - High: 21.75°C\\n    - Low: 18.68°C\\n    - Feels like: 19.62°C\\n    Rain: 0\\n    Heat index: None\\n    Cloud cover: 75%'"
      ]
     },
     "execution_count": 64,
     "metadata": {},
     "output_type": "execute_result"
    }
   ],
   "source": [
    "app.invoke(\"What's the temperature in japan capital city?\")"
   ]
  },
  {
   "cell_type": "code",
   "execution_count": 65,
   "metadata": {},
   "outputs": [
    {
     "name": "stdout",
     "output_type": "stream",
     "text": [
      "Output from node 'agent':\n",
      "---\n",
      "Las Vegas\n",
      "\n",
      "---\n",
      "\n",
      "Output from node 'tool':\n",
      "---\n",
      "\n",
      "    In Las Vegas, the current weather is as follows:\n",
      "    Detailed status: broken clouds\n",
      "    Wind speed: 2.57 m/s, direction: 240°\n",
      "    Humidity: 55%\n",
      "    Temperature: \n",
      "    - Current: 20.12°C\n",
      "    - High: 21.75°C\n",
      "    - Low: 18.68°C\n",
      "    - Feels like: 19.62°C\n",
      "    Rain: 0\n",
      "    Heat index: None\n",
      "    Cloud cover: 75%\n",
      "\n",
      "---\n",
      "\n"
     ]
    }
   ],
   "source": [
    "input = \"What's the temperature in Las Vegas\"\n",
    "for output in app.stream(input):\n",
    "    # stream() yields dictionaries with output keyed by node name\n",
    "    for key, value in output.items():\n",
    "        print(f\"Output from node '{key}':\")\n",
    "        print(\"---\")\n",
    "        print(value)\n",
    "    print(\"\\n---\\n\")"
   ]
  },
  {
   "cell_type": "markdown",
   "metadata": {},
   "source": [
    "# Full code"
   ]
  },
  {
   "cell_type": "code",
   "execution_count": 68,
   "metadata": {},
   "outputs": [
    {
     "data": {
      "text/plain": [
       "{'messages': []}"
      ]
     },
     "execution_count": 68,
     "metadata": {},
     "output_type": "execute_result"
    }
   ],
   "source": [
    "# assign AgentState as an empty dict\n",
    "AgentState = {}\n",
    "\n",
    "# messages key will be assigned as an empty array. We will append new messages as we pass along nodes. \n",
    "AgentState[\"messages\"] = []\n",
    "AgentState"
   ]
  },
  {
   "cell_type": "code",
   "execution_count": 70,
   "metadata": {},
   "outputs": [],
   "source": [
    "def function_1(state):\n",
    "    messages = state['messages']\n",
    "    user_input = messages[-1]\n",
    "    complete_query = \"Your task is to provide only the city name based on the user query. \\\n",
    "                    Nothing more, just the city name mentioned. Following is the user query: \" + user_input\n",
    "    response = model.invoke(complete_query)\n",
    "    state['messages'].append(response) # appending AIMessage response to the AgentState\n",
    "    return state\n",
    "\n",
    "def function_2(state):\n",
    "    messages = state['messages']\n",
    "    agent_response = messages[-1]\n",
    "    weather_data = f\"\"\"\n",
    "        In {agent_response}, the current weather is as follows:\n",
    "        Detailed status: broken clouds\n",
    "        Wind speed: 2.57 m/s, direction: 240°\n",
    "        Humidity: 55%\n",
    "        Temperature: \n",
    "        - Current: 20.12°C\n",
    "        - High: 21.75°C\n",
    "        - Low: 18.68°C\n",
    "        - Feels like: 19.62°C\n",
    "        Rain: 0\n",
    "        Heat index: None\n",
    "        Cloud cover: 75%\"\"\"\n",
    "    state['messages'].append(weather_data)\n",
    "    return state\n",
    "\n",
    "def function_3(state):\n",
    "    messages = state['messages']\n",
    "    user_input = messages[0]\n",
    "    available_info = messages[-1]\n",
    "    agent2_query = \"Your task is to provide info concisely based on the user query and the available information from the internet. \\\n",
    "                        Following is the user query: \" + user_input + \" Available information: \" + available_info\n",
    "    response = model.invoke(agent2_query)\n",
    "    return response"
   ]
  },
  {
   "cell_type": "code",
   "execution_count": 71,
   "metadata": {},
   "outputs": [],
   "source": [
    "workflow = Graph()\n",
    "\n",
    "\n",
    "workflow.add_node(\"agent\", function_1)\n",
    "workflow.add_node(\"tool\", function_2)\n",
    "workflow.add_node(\"responder\", function_3)\n",
    "\n",
    "workflow.add_edge('agent', 'tool')\n",
    "workflow.add_edge('tool', 'responder')\n",
    "\n",
    "workflow.set_entry_point(\"agent\")\n",
    "workflow.set_finish_point(\"responder\")\n",
    "\n",
    "app = workflow.compile()"
   ]
  },
  {
   "cell_type": "code",
   "execution_count": 74,
   "metadata": {},
   "outputs": [
    {
     "data": {
      "text/plain": [
       "\"Based on the available information, here's a concise response:\\n\\n* Temperature in Las Vegas: The current temperature is 20.12°C (68°F), with a high of 21.75°C (71°F) and a low of 18.68°C (65.22°F).\\n* How it's feeling today: It feels like 19.62°C (67.14°F) due to the heat index.\\n* Activity suggestion for today: Considering the temperature and humidity, a good outdoor activity could be visiting the Bellagio Fountains or taking a stroll along the famous Las Vegas Strip.\""
      ]
     },
     "execution_count": 74,
     "metadata": {},
     "output_type": "execute_result"
    }
   ],
   "source": [
    "inputs = {\"messages\": [\"what is the temperature in las vegas and how is feeling today?. what is the activity I should do today?\"]}\n",
    "app.invoke(inputs)"
   ]
  },
  {
   "cell_type": "code",
   "execution_count": 85,
   "metadata": {},
   "outputs": [
    {
     "name": "stdout",
     "output_type": "stream",
     "text": [
      "Output from node 'agent':\n",
      "---\n",
      "{'messages': ['what is the temperature in thailand and how is feeling today?. what is the activity I should do today?', 'Thailand']}\n",
      "\n",
      "---\n",
      "\n",
      "Output from node 'tool':\n",
      "---\n",
      "{'messages': ['what is the temperature in thailand and how is feeling today?. what is the activity I should do today?', 'Thailand', '\\n        In Thailand, the current weather is as follows:\\n        Detailed status: broken clouds\\n        Wind speed: 2.57 m/s, direction: 240°\\n        Humidity: 55%\\n        Temperature: \\n        - Current: 20.12°C\\n        - High: 21.75°C\\n        - Low: 18.68°C\\n        - Feels like: 19.62°C\\n        Rain: 0\\n        Heat index: None\\n        Cloud cover: 75%']}\n",
      "\n",
      "---\n",
      "\n",
      "Output from node 'responder':\n",
      "---\n",
      "Based on the available information, here's a concise answer to the user query:\n",
      "\n",
      "1. Temperature in Thailand: The current temperature is 20.12°C, with a high of 21.75°C and low of 18.68°C.\n",
      "2. How it's feeling today: It feels like 19.62°C due to the heat index.\n",
      "3. Activity suggestion for today: Considering the weather conditions (broken clouds, moderate humidity, and gentle wind), outdoor activities such as walking, cycling, or visiting a nearby park might be suitable options.\n",
      "\n",
      "---\n",
      "\n"
     ]
    }
   ],
   "source": [
    "input = {\"messages\": [\"what is the temperature in thailand and how is feeling today?. what is the activity I should do today?\"]}\n",
    "for output in app.stream(input):\n",
    "    # stream() yields dictionaries with output keyed by node name\n",
    "    for key, value in output.items():\n",
    "        print(f\"Output from node '{key}':\")\n",
    "        print(\"---\")\n",
    "        print(value)\n",
    "    print(\"\\n---\\n\")"
   ]
  },
  {
   "cell_type": "code",
   "execution_count": 86,
   "metadata": {},
   "outputs": [],
   "source": [
    "res = model.invoke(input['messages'])"
   ]
  },
  {
   "cell_type": "code",
   "execution_count": 87,
   "metadata": {},
   "outputs": [
    {
     "name": "stdout",
     "output_type": "stream",
     "text": [
      "Human: The current temperature in Thailand is around 20.12°C, which feels like 19.62°C due to the humidity.\n",
      "\n",
      "Considering the weather today, I would recommend doing some outdoor activities that don't require too much exertion or heat tolerance. Here are a few suggestions:\n",
      "\n",
      "1. Visit a local market or shopping mall: The air-conditioned spaces will provide relief from the sun and heat.\n",
      "2. Explore a museum or art gallery: These indoor attractions offer a cool respite from the outside weather.\n",
      "3. Take a stroll in a shaded area: If you still want to get some fresh air, look for areas with plenty of trees or umbrellas to block out the direct sunlight.\n",
      "\n",
      "Avoid outdoor activities that might make you feel hotter or more uncomfortable, such as:\n",
      "\n",
      "1. Beach activities (unless you have access to shade)\n",
      "2. Long walks or hikes\n",
      "3. Sports or physical exercises\n",
      "\n",
      "Stay cool and enjoy your day in Thailand!\n"
     ]
    }
   ],
   "source": [
    "print(res)"
   ]
  },
  {
   "cell_type": "code",
   "execution_count": null,
   "metadata": {},
   "outputs": [],
   "source": []
  },
  {
   "cell_type": "code",
   "execution_count": null,
   "metadata": {},
   "outputs": [],
   "source": []
  },
  {
   "cell_type": "code",
   "execution_count": null,
   "metadata": {},
   "outputs": [],
   "source": []
  },
  {
   "cell_type": "code",
   "execution_count": null,
   "metadata": {},
   "outputs": [],
   "source": []
  },
  {
   "cell_type": "code",
   "execution_count": null,
   "metadata": {},
   "outputs": [],
   "source": []
  },
  {
   "cell_type": "code",
   "execution_count": null,
   "metadata": {},
   "outputs": [],
   "source": []
  }
 ],
 "metadata": {
  "kernelspec": {
   "display_name": "chat",
   "language": "python",
   "name": "python3"
  },
  "language_info": {
   "codemirror_mode": {
    "name": "ipython",
    "version": 3
   },
   "file_extension": ".py",
   "mimetype": "text/x-python",
   "name": "python",
   "nbconvert_exporter": "python",
   "pygments_lexer": "ipython3",
   "version": "3.12.8"
  }
 },
 "nbformat": 4,
 "nbformat_minor": 2
}
