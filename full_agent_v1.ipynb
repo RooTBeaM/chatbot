{
 "cells": [
  {
   "cell_type": "markdown",
   "metadata": {},
   "source": [
    "> Ref from https://colab.research.google.com/drive/14ncV0nviLcP9IDzmFSRGSXb7Bgpz212v#scrollTo=1AJoWmexhbUQ"
   ]
  },
  {
   "cell_type": "code",
   "execution_count": 1,
   "metadata": {},
   "outputs": [],
   "source": [
    "def multiply(a: int, b: int) -> int:\n",
    "    \"\"\"Multiply a and b.\n",
    "\n",
    "    Args:\n",
    "        a: first int\n",
    "        b: second int\n",
    "    \"\"\"\n",
    "    return a * b\n",
    "\n",
    "# This will be a tool\n",
    "def add(a: int, b: int) -> int:\n",
    "    \"\"\"Adds a and b.\n",
    "\n",
    "    Args:\n",
    "        a: first int\n",
    "        b: second int\n",
    "    \"\"\"\n",
    "    return a + b\n",
    "\n",
    "def divide(a: int, b: int) -> float:\n",
    "    \"\"\"Divide a and b.\n",
    "\n",
    "    Args:\n",
    "        a: first int\n",
    "        b: second int\n",
    "    \"\"\"\n",
    "    return a / b\n",
    "\n",
    "from langchain_community.tools import DuckDuckGoSearchRun\n",
    "\n",
    "search = DuckDuckGoSearchRun()\n",
    "\n",
    "tools = [add, multiply, divide, search]"
   ]
  },
  {
   "cell_type": "code",
   "execution_count": 26,
   "metadata": {},
   "outputs": [],
   "source": [
    "from langgraph.graph import MessagesState\n",
    "from langchain_core.messages import HumanMessage, SystemMessage\n",
    "from langchain_ollama import ChatOllama\n",
    "\n",
    "# llm = ChatOllama(model=\"qwen2.5:14b\", temperature=0.3)\n",
    "llm = ChatOllama(model=\"llama3.2\", temperature=0.3)\n",
    "# System message\n",
    "sys_msg = SystemMessage(content=\"You are a helpful assistant tasked with using search and performing arithmetic on a set of inputs.\")\n",
    "\n",
    "llm_with_tools = llm.bind_tools(tools)\n",
    "\n",
    "# Node\n",
    "def reasoner(state: MessagesState):\n",
    "   return {\"messages\": [llm_with_tools.invoke([sys_msg] + state[\"messages\"])]}"
   ]
  },
  {
   "cell_type": "code",
   "execution_count": 7,
   "metadata": {},
   "outputs": [],
   "source": [
    "from langgraph.graph import START, StateGraph\n",
    "from langgraph.prebuilt import tools_condition # this is the checker for the if you got a tool back\n",
    "from langgraph.prebuilt import ToolNode\n",
    "from IPython.display import Image, display"
   ]
  },
  {
   "cell_type": "code",
   "execution_count": 8,
   "metadata": {},
   "outputs": [
    {
     "data": {
      "image/png": "[encoded data removed]",
      "text/plain": [
       "<IPython.core.display.Image object>"
      ]
     },
     "metadata": {},
     "output_type": "display_data"
    }
   ],
   "source": [
    "# Graph\n",
    "builder = StateGraph(MessagesState)\n",
    "\n",
    "# Add nodes\n",
    "builder.add_node(\"reasoner\", reasoner)\n",
    "builder.add_node(\"tools\", ToolNode(tools)) # for the tools\n",
    "\n",
    "# Add edges\n",
    "builder.add_edge(START, \"reasoner\")\n",
    "builder.add_conditional_edges(\n",
    "    \"reasoner\",\n",
    "    # If the latest message (result) from node reasoner is a tool call -> tools_condition routes to tools\n",
    "    # If the latest message (result) from node reasoner is a not a tool call -> tools_condition routes to END\n",
    "    tools_condition,\n",
    ")\n",
    "builder.add_edge(\"tools\", \"reasoner\")\n",
    "react_graph = builder.compile()\n",
    "\n",
    "# Display the graph\n",
    "display(Image(react_graph.get_graph(xray=True).draw_mermaid_png()))"
   ]
  },
  {
   "cell_type": "code",
   "execution_count": 27,
   "metadata": {},
   "outputs": [],
   "source": [
    "messages = [HumanMessage(content=\"what is Macbook price now? what's Macbook price if discount 30%?\")]\n",
    "messages = react_graph.invoke({\"messages\": messages})"
   ]
  },
  {
   "cell_type": "code",
   "execution_count": 28,
   "metadata": {},
   "outputs": [
    {
     "name": "stdout",
     "output_type": "stream",
     "text": [
      "================================\u001b[1m Human Message \u001b[0m=================================\n",
      "\n",
      "what is Macbook price now? what's Macbook price if discount 30%?\n",
      "==================================\u001b[1m Ai Message \u001b[0m==================================\n",
      "Tool Calls:\n",
      "  divide (b2f4425a-1ed6-4a53-a358-7605eec04a75)\n",
      " Call ID: b2f4425a-1ed6-4a53-a358-7605eec04a75\n",
      "  Args:\n",
      "    a: Macbook current price\n",
      "    b: 100\n",
      "  multiply (b4b016a5-427d-4121-8d66-c60dac09306e)\n",
      " Call ID: b4b016a5-427d-4121-8d66-c60dac09306e\n",
      "  Args:\n",
      "    a: Macbook current price\n",
      "    b: 0.7\n",
      "  duckduckgo_search (90ba6707-9488-4ab1-a451-d55bc4ec3702)\n",
      " Call ID: 90ba6707-9488-4ab1-a451-d55bc4ec3702\n",
      "  Args:\n",
      "    query: Macbook current price\n",
      "=================================\u001b[1m Tool Message \u001b[0m=================================\n",
      "Name: divide\n",
      "\n",
      "Error: 1 validation error for divide\n",
      "a\n",
      "  Input should be a valid integer, unable to parse string as an integer [type=int_parsing, input_value='Macbook current price', input_type=str]\n",
      "    For further information visit https://errors.pydantic.dev/2.9/v/int_parsing\n",
      " Please fix your mistakes.\n",
      "=================================\u001b[1m Tool Message \u001b[0m=================================\n",
      "Name: multiply\n",
      "\n",
      "Error: 2 validation errors for multiply\n",
      "a\n",
      "  Input should be a valid integer, unable to parse string as an integer [type=int_parsing, input_value='Macbook current price', input_type=str]\n",
      "    For further information visit https://errors.pydantic.dev/2.9/v/int_parsing\n",
      "b\n",
      "  Input should be a valid integer, got a number with a fractional part [type=int_from_float, input_value=0.7, input_type=float]\n",
      "    For further information visit https://errors.pydantic.dev/2.9/v/int_from_float\n",
      " Please fix your mistakes.\n",
      "=================================\u001b[1m Tool Message \u001b[0m=================================\n",
      "Name: duckduckgo_search\n",
      "\n",
      "Apple Store Price: Lowest Ever Price: Best Current Deal: 13\" MacBook Air (M1) N/A: $599: $649 @ Walmart: 13\" MacBook Air (M2/16GB RAM) $999: $749: $799 @ Amazon: 15\" MacBook Air (M2/16GB RAM/1TB ... MacBook prices. Compare prices with this chart. Model (with chip and screen size) List price Best price (current) Best price (all-time) M2 MacBook Air (13-inch) $999: $749: $700: All MacBook Airs are seeing their best price right now. You can get the new M3 MacBook Air starting at $799, the M2 16GB RAM for $749, and the M1 for $649. Here are the prices to look for when shopping for your MacBook: Current gen. 13-inch MacBook Air M3: Released in March, this is one of Apple's newest Macs. It sells from $1,099 and hit an all-time ... The MacBook Air M3 got the Editors' Choice stamp of approval thanks to the leaps in processing power due to the M3 processor as well as its competitive price. Apple fans looking to upgrade their ...\n",
      "==================================\u001b[1m Ai Message \u001b[0m==================================\n",
      "\n",
      "Based on the search results, the current price of a MacBook is around $749 for the 13\" MacBook Air (M2/16GB RAM).\n",
      "\n",
      "To calculate the price with a 30% discount:\n",
      "\n",
      "$749 x 0.7 = $524.83\n",
      "\n",
      "So, the discounted price would be approximately $524.83.\n"
     ]
    }
   ],
   "source": [
    "for m in messages['messages']:\n",
    "    m.pretty_print()"
   ]
  },
  {
   "cell_type": "markdown",
   "metadata": {},
   "source": [
    "# Add yahoo"
   ]
  },
  {
   "cell_type": "code",
   "execution_count": null,
   "metadata": {},
   "outputs": [],
   "source": []
  },
  {
   "cell_type": "markdown",
   "metadata": {},
   "source": [
    "Planer > human feedback > node for task > review > heman feedback > reprot"
   ]
  },
  {
   "cell_type": "code",
   "execution_count": null,
   "metadata": {},
   "outputs": [],
   "source": []
  },
  {
   "cell_type": "code",
   "execution_count": null,
   "metadata": {},
   "outputs": [],
   "source": []
  },
  {
   "cell_type": "code",
   "execution_count": null,
   "metadata": {},
   "outputs": [],
   "source": []
  },
  {
   "cell_type": "code",
   "execution_count": null,
   "metadata": {},
   "outputs": [],
   "source": []
  },
  {
   "cell_type": "code",
   "execution_count": null,
   "metadata": {},
   "outputs": [],
   "source": []
  },
  {
   "cell_type": "code",
   "execution_count": null,
   "metadata": {},
   "outputs": [],
   "source": []
  },
  {
   "cell_type": "code",
   "execution_count": null,
   "metadata": {},
   "outputs": [],
   "source": []
  },
  {
   "cell_type": "code",
   "execution_count": 8,
   "metadata": {},
   "outputs": [],
   "source": [
    "from typing import TypedDict, Annotated, Sequence\n",
    "import operator\n",
    "from langchain_core.messages import BaseMessage\n",
    "\n",
    "\n",
    "class AgentState(TypedDict):\n",
    "    messages: Annotated[Sequence[BaseMessage], operator.add]"
   ]
  },
  {
   "cell_type": "code",
   "execution_count": null,
   "metadata": {},
   "outputs": [],
   "source": [
    "from langchain_community.tools import DuckDuckGoSearchRun\n",
    "\n",
    "tools = [DuckDuckGoSearchRun()]"
   ]
  },
  {
   "cell_type": "code",
   "execution_count": null,
   "metadata": {},
   "outputs": [],
   "source": [
    "from langgraph.prebuilt import ToolInvocation\n",
    "import json\n",
    "from langchain_core.messages import FunctionMessage\n",
    "from langgraph.prebuilt import ToolExecutor\n",
    "\n",
    "from langchain_community.chat_models import ChatOllama\n",
    "from langchain.prompts import PromptTemplate"
   ]
  },
  {
   "cell_type": "code",
   "execution_count": 6,
   "metadata": {},
   "outputs": [],
   "source": [
    "from langchain_core.prompts import PromptTemplate\n",
    "\n",
    "# create the prompt\n",
    "prompt_template: str = \"\"\"/\n",
    "You are a vehicle mechanic, give responses to the following\n",
    "question: {question}. Do not use technical words, give easy\n",
    "to understand responses.\n",
    "\"\"\"\n",
    "\n",
    "prompt = PromptTemplate.from_template(template=prompt_template)\n",
    "\n",
    "# format the prompt to add variable values\n",
    "prompt_formatted_str: str = prompt.format(\n",
    "    question=\"Why won't a vehicle start on ignition?\")\n"
   ]
  },
  {
   "cell_type": "code",
   "execution_count": 7,
   "metadata": {},
   "outputs": [
    {
     "name": "stdout",
     "output_type": "stream",
     "text": [
      "/\n",
      "You are a vehicle mechanic, give responses to the following\n",
      "question: Why won't a vehicle start on ignition?. Do not use technical words, give easy\n",
      "to understand responses.\n",
      "\n"
     ]
    }
   ],
   "source": [
    "print(prompt_formatted_str)"
   ]
  },
  {
   "cell_type": "code",
   "execution_count": null,
   "metadata": {},
   "outputs": [],
   "source": []
  }
 ],
 "metadata": {
  "kernelspec": {
   "display_name": "chat",
   "language": "python",
   "name": "python3"
  },
  "language_info": {
   "codemirror_mode": {
    "name": "ipython",
    "version": 3
   },
   "file_extension": ".py",
   "mimetype": "text/x-python",
   "name": "python",
   "nbconvert_exporter": "python",
   "pygments_lexer": "ipython3",
   "version": "3.12.8"
  }
 },
 "nbformat": 4,
 "nbformat_minor": 2
}
